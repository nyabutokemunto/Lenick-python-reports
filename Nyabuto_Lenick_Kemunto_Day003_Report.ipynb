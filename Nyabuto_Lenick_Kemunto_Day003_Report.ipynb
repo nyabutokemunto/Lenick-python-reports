{
 "cells": [
  {
   "cell_type": "markdown",
   "id": "426486dd",
   "metadata": {
    "id": "426486dd"
   },
   "source": [
    "\n",
    "\n",
    "# Practical_1: Variables and Assignments"
   ]
  },
  {
   "cell_type": "markdown",
   "id": "9fb19f0d",
   "metadata": {
    "id": "9fb19f0d"
   },
   "source": [
    "----\n",
    "\n",
    "### Exercise 1:\n",
    "Declare a variable `x` and assign it the value `10`.\n",
    "\n",
    "```python\n",
    "# Exercise 1\n",
    "```\n",
    "\n",
    "---\n",
    "\n",
    "### Exercise 2:\n",
    "Assign the value `True` to a variable called `is_valid`.\n",
    "\n",
    "```python\n",
    "# Exercise 2\n",
    "```\n",
    "\n",
    "---\n",
    "\n",
    "### Exercise 3:\n",
    "Create a string variable `name` with the value \"Python Programming\".\n",
    "\n",
    "```python\n",
    "# Exercise 3\n",
    "```\n",
    "\n",
    "---\n",
    "\n",
    "### Exercise 4:\n",
    "Assign the result of `5 + 3` to a variable `sum_result`.\n",
    "\n",
    "```python\n",
    "# Exercise 4\n",
    "```\n",
    "\n",
    "---\n",
    "\n",
    "### Exercise 5:\n",
    "Assign multiple variables in one line: `a = 5`, `b = 10`, `c = 15`.\n",
    "\n",
    "```python\n",
    "# Exercise 5\n",
    "```\n",
    "\n",
    "---\n",
    "\n",
    "### Exercise 6:\n",
    "Assign the value of one variable `x` to another variable `y`.\n",
    "\n",
    "```python\n",
    "# Exercise 6\n",
    "```\n",
    "\n",
    "---\n",
    "\n",
    "### Exercise 7:\n",
    "Assign a floating-point number `9.8` to a variable `gravity`.\n",
    "\n",
    "```python\n",
    "# Exercise 7\n",
    "```\n",
    "\n",
    "---\n",
    "\n",
    "### Exercise 8:\n",
    "Create a variable `country` and assign it the string value of your favorite country.\n",
    "\n",
    "```python\n",
    "# Exercise 8\n",
    "```\n",
    "\n",
    "---\n",
    "\n",
    "### Exercise 9:\n",
    "Change the value of variable `age` from `25` to `26` in two separate steps.\n",
    "\n",
    "```python\n",
    "# Exercise 9\n",
    "```\n",
    "\n",
    "---\n",
    "\n",
    "### Exercise 10:\n",
    "Use one variable to store the result of subtracting two numbers `20 - 7`.\n",
    "\n",
    "```python\n",
    "# Exercise 10\n",
    "```\n",
    "\n",
    "---\n",
    "\n",
    "### Exercise 11:\n",
    "Assign an integer value and a floating-point value to two different variables.\n",
    "\n",
    "```python\n",
    "# Exercise 11\n",
    "```\n",
    "\n",
    "---\n",
    "\n",
    "### Exercise 12:\n",
    "Assign a boolean value `False` to a variable `is_completed`.\n",
    "\n",
    "```python\n",
    "# Exercise 12\n",
    "```\n",
    "\n",
    "---\n",
    "\n",
    "### Exercise 13:\n",
    "Swap the values of two variables `x` and `y`.\n",
    "\n",
    "```python\n",
    "# Exercise 13\n",
    "```\n",
    "\n",
    "---\n",
    "\n",
    "### Exercise 14:\n",
    "Assign a complex number `3 + 4j` to a variable `complex_num`.\n",
    "\n",
    "```python\n",
    "# Exercise 14\n",
    "```\n",
    "\n",
    "---\n",
    "\n",
    "### Exercise 15:\n",
    "Reassign a variable from an integer to a string.\n",
    "\n",
    "```python\n",
    "# Exercise 15\n",
    "```\n",
    "\n",
    "---\n",
    "\n",
    "### Exercise 16:\n",
    "Create two variables `first_name` and `last_name`, and assign them your first and last names.\n",
    "\n",
    "```python\n",
    "# Exercise 16\n",
    "```\n",
    "\n",
    "---\n",
    "\n",
    "### Exercise 17:\n",
    "Create a variable `temperature` and assign it the value of `35.5`.\n",
    "\n",
    "```python\n",
    "# Exercise 17\n",
    "```\n",
    "\n",
    "---\n",
    "\n",
    "### Exercise 18:\n",
    "Assign the result of the multiplication of two numbers `8 * 6` to a variable `product`.\n",
    "\n",
    "```python\n",
    "# Exercise 18\n",
    "```\n",
    "\n",
    "---\n",
    "\n",
    "### Exercise 19:\n",
    "Assign a sentence of your choice to a variable `sentence`.\n",
    "\n",
    "```python\n",
    "# Exercise 19\n",
    "```\n",
    "\n",
    "---\n",
    "\n",
    "### Exercise 20:\n",
    "Use an assignment to convert a string `'50'` into an integer variable `int_value`.\n",
    "\n",
    "```python\n",
    "# Exercise 20\n",
    "```\n",
    "\n",
    "---\n",
    "\n",
    "### Exercise 21:\n",
    "Assign the result of dividing `144` by `12` to a variable `quotient`.\n",
    "\n",
    "```python\n",
    "# Exercise 21\n",
    "```\n",
    "\n",
    "---\n",
    "\n",
    "### Exercise 22:\n",
    "Assign the remainder of `47 divided by 5` to a variable `remainder`.\n",
    "\n",
    "```python\n",
    "# Exercise 22\n",
    "```\n",
    "\n",
    "---\n",
    "\n",
    "### Exercise 23:\n",
    "Create a variable `is_student` and assign it the value `True`.\n",
    "\n",
    "```python\n",
    "# Exercise 23\n",
    "```\n",
    "\n",
    "---\n",
    "\n",
    "### Exercise 24:\n",
    "Use a variable to store the result of a modulo operation: `45 % 4`.\n",
    "\n",
    "```python\n",
    "# Exercise 24\n",
    "```\n",
    "\n",
    "---\n",
    "\n",
    "### Exercise 25:\n",
    "Create a variable `pi` and assign it the value `3.14159`.\n",
    "\n",
    "```python\n",
    "# Exercise 25\n",
    "```\n",
    "\n",
    "---\n",
    "\n",
    "### Exercise 26:\n",
    "Create two variables `length` and `width`, assign them values, and calculate the area of a rectangle.\n",
    "\n",
    "```python\n",
    "# Exercise 26\n",
    "```\n",
    "\n",
    "---\n",
    "\n",
    "### Exercise 27:\n",
    "Assign a negative number to a variable `negative_value`.\n",
    "\n",
    "```python\n",
    "# Exercise 27\n",
    "```\n",
    "\n",
    "---\n",
    "\n",
    "### Exercise 28:\n",
    "Assign a string containing a special character (e.g., \"Hello, World!\") to a variable `greeting`.\n",
    "\n",
    "```python\n",
    "# Exercise 28\n",
    "```\n",
    "\n",
    "---\n",
    "\n",
    "### Exercise 29:\n",
    "Create a variable `population` and assign it a large integer value (in billions).\n",
    "\n",
    "```python\n",
    "# Exercise 29\n",
    "```\n",
    "\n",
    "---\n",
    "\n",
    "### Exercise 30:\n",
    "Use a variable to store the result of raising `2` to the power of `8`.\n",
    "\n",
    "```python\n",
    "# Exercise 30\n",
    "```\n",
    "\n",
    "---\n",
    "\n",
    "### Exercise 31:\n",
    "Assign a list of your favorite fruits to a variable `fruits`.\n",
    "\n",
    "```python\n",
    "# Exercise 31\n",
    "```\n",
    "\n",
    "---\n",
    "\n",
    "### Exercise 32:\n",
    "Assign a tuple of three numbers to a variable `coordinates`.\n",
    "\n",
    "```python\n",
    "# Exercise 32\n",
    "```\n",
    "\n",
    "---\n",
    "\n",
    "### Exercise 33:\n",
    "Assign a dictionary with keys `name` and `age` to a variable `person`.\n",
    "\n",
    "```python\n",
    "# Exercise 33\n",
    "```\n",
    "\n",
    "---\n",
    "\n",
    "### Exercise 34:\n",
    "Use variables to store the sum of two floating-point numbers.\n",
    "\n",
    "```python\n",
    "# Exercise 34\n",
    "```\n",
    "\n",
    "---\n",
    "\n",
    "### Exercise 35:\n",
    "Create a variable `is_sunny` and assign it the result of a comparison `10 > 5`.\n",
    "\n",
    "```python\n",
    "# Exercise 35\n",
    "```\n",
    "\n",
    "---\n",
    "\n",
    "### Exercise 36:\n",
    "Assign a string and an integer to two different variables, then print both on one line.\n",
    "\n",
    "```python\n",
    "# Exercise 36\n",
    "```\n",
    "\n",
    "---\n",
    "\n",
    "### Exercise 37:\n",
    "Reassign a variable that originally held a number to a boolean value.\n",
    "\n",
    "```python\n",
    "# Exercise 37\n",
    "```\n",
    "\n",
    "---\n",
    "\n",
    "### Exercise 38:\n",
    "Create a variable `is_weekend` and assign it the result of `False`.\n",
    "\n",
    "```python\n",
    "# Exercise 38\n",
    "```\n",
    "\n",
    "---\n",
    "\n",
    "### Exercise 39:\n",
    "Assign a multi-line string to a variable `description`.\n",
    "\n",
    "```python\n",
    "# Exercise 39\n",
    "```\n",
    "\n",
    "---\n",
    "\n",
    "### Exercise 40:\n",
    "Use variables to store the result of the absolute value of `-25`.\n",
    "\n",
    "```python\n",
    "# Exercise 40\n",
    "```\n",
    "\n",
    "---\n",
    "\n",
    "### Exercise 41:\n",
    "Assign the result of a floor division `100 // 6` to a variable `floor_div_result`.\n",
    "\n",
    "```python\n",
    "# Exercise 41\n",
    "```\n",
    "\n",
    "---\n",
    "\n",
    "### Exercise 42:\n",
    "Assign the result of adding a floating-point number to an integer to a variable `mixed_sum`.\n",
    "\n",
    "```python\n",
    "# Exercise 42\n",
    "```\n",
    "\n",
    "---\n",
    "\n",
    "\n",
    "### Exercise 43:\n",
    "Assign a boolean value based on the comparison of two variables `a = 10` and `b = 15`.\n",
    "\n",
    "```python\n",
    "# Exercise 43\n",
    "```\n",
    "\n",
    "---\n",
    "\n",
    "### Exercise 44:\n",
    "Assign a long sentence to a variable and count its characters using `len()`.\n",
    "\n",
    "```python\n",
    "# Exercise 44\n",
    "```\n",
    "\n",
    "---\n",
    "\n",
    "### Exercise 45:\n",
    "Assign a fractional result `7 / 3` to a variable `division_result`.\n",
    "\n",
    "```python\n",
    "# Exercise 45\n",
    "```\n",
    "\n",
    "---\n",
    "\n",
    "### Exercise 46:\n",
    "Create a variable `speed` and assign it the value of 100 kilometers per hour.\n",
    "\n",
    "```python\n",
    "# Exercise 46\n",
    "```\n",
    "\n",
    "---\n",
    "\n",
    "### Exercise 47:\n",
    "Assign a multi-variable equation like `y = 3x + 5` where `x = 4` to a variable `y`.\n",
    "\n",
    "```python\n",
    "# Exercise 47\n",
    "```\n",
    "\n",
    "---\n",
    "\n",
    "### Exercise 48:\n",
    "Use variables to calculate and store the average of three numbers.\n",
    "\n",
    "```python\n",
    "# Exercise 48\n",
    "```\n",
    "\n",
    "****"
   ]
  },
  {
   "cell_type": "code",
   "execution_count": 1,
   "id": "4ed944f2",
   "metadata": {},
   "outputs": [],
   "source": [
    "# Exercise 1\n",
    "x=10"
   ]
  },
  {
   "cell_type": "code",
   "execution_count": 2,
   "id": "33541ac4",
   "metadata": {},
   "outputs": [],
   "source": [
    "# Exercise 2\n",
    "is_valid=True\n"
   ]
  },
  {
   "cell_type": "code",
   "execution_count": 3,
   "id": "5a7715fc",
   "metadata": {},
   "outputs": [],
   "source": [
    "# Exercise 3\n",
    "name=\"Python Programming\"\n",
    "\n"
   ]
  },
  {
   "cell_type": "code",
   "execution_count": 4,
   "id": "eeb0270d",
   "metadata": {},
   "outputs": [],
   "source": [
    "# Exercise 4\n",
    "sum_result=5+3\n"
   ]
  },
  {
   "cell_type": "code",
   "execution_count": 7,
   "id": "b3012333",
   "metadata": {},
   "outputs": [],
   "source": [
    "# Exercise 5\n",
    "a,b,c = 5,10,15\n",
    "\n"
   ]
  },
  {
   "cell_type": "code",
   "execution_count": 9,
   "id": "59a5c031",
   "metadata": {},
   "outputs": [],
   "source": [
    "# Exercise 6\n",
    "x=y=2"
   ]
  },
  {
   "cell_type": "code",
   "execution_count": 10,
   "id": "13d4f2b5",
   "metadata": {},
   "outputs": [],
   "source": [
    "# Exercise 7\n",
    "gravity=9.8\n"
   ]
  },
  {
   "cell_type": "code",
   "execution_count": 12,
   "id": "ff759fa0",
   "metadata": {},
   "outputs": [],
   "source": [
    "# Exercise 8\n",
    "country=\"Kenya\" \n"
   ]
  },
  {
   "cell_type": "code",
   "execution_count": 13,
   "id": "89e72491",
   "metadata": {},
   "outputs": [],
   "source": [
    "# Exercise 9\n",
    "age=25\n",
    "age=26\n",
    "\n",
    "\n",
    "\n"
   ]
  },
  {
   "cell_type": "code",
   "execution_count": 14,
   "id": "248e9230",
   "metadata": {},
   "outputs": [],
   "source": [
    "# Exercise 10\n",
    "a=20-7"
   ]
  },
  {
   "cell_type": "code",
   "execution_count": 15,
   "id": "97908098",
   "metadata": {},
   "outputs": [],
   "source": [
    "# Exercise 11\n",
    "a=2\n",
    "b=4.3"
   ]
  },
  {
   "cell_type": "code",
   "execution_count": 16,
   "id": "ed751350",
   "metadata": {},
   "outputs": [],
   "source": [
    "# Exercise 12\n",
    "is_completed=False"
   ]
  },
  {
   "cell_type": "code",
   "execution_count": 17,
   "id": "19c595f6",
   "metadata": {},
   "outputs": [],
   "source": [
    "# Exercise 13\n",
    "x=4\n",
    "y=8\n",
    "x=8\n",
    "y=4"
   ]
  },
  {
   "cell_type": "code",
   "execution_count": 18,
   "id": "38b9516d",
   "metadata": {},
   "outputs": [],
   "source": [
    "# Exercise 14\n",
    "\n",
    "complex_num=3 + 4j"
   ]
  },
  {
   "cell_type": "code",
   "execution_count": 19,
   "id": "fd26cc87",
   "metadata": {},
   "outputs": [],
   "source": [
    "# Exercise 15\n",
    "a=7\n",
    "a=\"Mercy\""
   ]
  },
  {
   "cell_type": "code",
   "execution_count": 20,
   "id": "7404cf6a",
   "metadata": {},
   "outputs": [],
   "source": [
    "# Exercise 16\n",
    "first_name=\"Lenick\"\n",
    "last_name=\"Kemunto\"\n"
   ]
  },
  {
   "cell_type": "code",
   "execution_count": 21,
   "id": "e52054cd",
   "metadata": {},
   "outputs": [],
   "source": [
    "# Exercise 17\n",
    "Temperature=35.5\n"
   ]
  },
  {
   "cell_type": "code",
   "execution_count": 22,
   "id": "9560c336",
   "metadata": {},
   "outputs": [],
   "source": [
    "# Exercise 18\n",
    "product=48"
   ]
  },
  {
   "cell_type": "code",
   "execution_count": 23,
   "id": "dca89a58",
   "metadata": {},
   "outputs": [],
   "source": [
    "# Exercise 19\n",
    "sentence=\"I am in Senegal\""
   ]
  },
  {
   "cell_type": "code",
   "execution_count": 24,
   "id": "a9304f28",
   "metadata": {},
   "outputs": [],
   "source": [
    "# Exercise 20\n",
    "a=\"50\""
   ]
  },
  {
   "cell_type": "code",
   "execution_count": 25,
   "id": "0cdbb67d",
   "metadata": {},
   "outputs": [],
   "source": [
    "# Exercise 21\n",
    "\n",
    "quotient=12"
   ]
  },
  {
   "cell_type": "code",
   "execution_count": 26,
   "id": "5d1cffd1",
   "metadata": {},
   "outputs": [],
   "source": [
    "# Exercise 22\n",
    "\n",
    "remainder=2"
   ]
  },
  {
   "cell_type": "code",
   "execution_count": 27,
   "id": "d8489e0b",
   "metadata": {},
   "outputs": [],
   "source": [
    "# Exercise 23\n",
    "is_student=True"
   ]
  },
  {
   "cell_type": "code",
   "execution_count": 28,
   "id": "0d035e29",
   "metadata": {},
   "outputs": [],
   "source": [
    "# Exercise 24\n",
    "a=45 % 4\n"
   ]
  },
  {
   "cell_type": "code",
   "execution_count": 29,
   "id": "b5b81700",
   "metadata": {},
   "outputs": [],
   "source": [
    "# Exercise 25\n",
    "pi=3.14159"
   ]
  },
  {
   "cell_type": "code",
   "execution_count": 30,
   "id": "cc8ef2f2",
   "metadata": {},
   "outputs": [
    {
     "name": "stdout",
     "output_type": "stream",
     "text": [
      "24\n"
     ]
    }
   ],
   "source": [
    "# Exercise 26\n",
    "length=4\n",
    "width=6\n",
    "print(length*width)\n"
   ]
  },
  {
   "cell_type": "code",
   "execution_count": 31,
   "id": "36f3fc85",
   "metadata": {},
   "outputs": [],
   "source": [
    "# Exercise 27\n",
    "negative_value=-3"
   ]
  },
  {
   "cell_type": "code",
   "execution_count": 32,
   "id": "0b002540",
   "metadata": {},
   "outputs": [],
   "source": [
    "# Exercise =28\n",
    "greeting=\"Hello World\""
   ]
  },
  {
   "cell_type": "code",
   "execution_count": 33,
   "id": "72fba369",
   "metadata": {},
   "outputs": [],
   "source": [
    "# Exercise 29\n",
    "population=245789876\n"
   ]
  },
  {
   "cell_type": "code",
   "execution_count": 34,
   "id": "9779f877",
   "metadata": {},
   "outputs": [],
   "source": [
    "# Exercise 30\n",
    "s=2**8"
   ]
  },
  {
   "cell_type": "code",
   "execution_count": 35,
   "id": "d2ebd7a4",
   "metadata": {},
   "outputs": [],
   "source": [
    "# Exercise 31\n",
    "fruits=\"apples,mangoes\""
   ]
  },
  {
   "cell_type": "code",
   "execution_count": 36,
   "id": "2cd674ab",
   "metadata": {},
   "outputs": [],
   "source": [
    "# Exercise 32\n",
    "coordinates=(2,3,5)"
   ]
  },
  {
   "cell_type": "code",
   "execution_count": 37,
   "id": "43a38c8c",
   "metadata": {},
   "outputs": [],
   "source": [
    "# Exercise 33\n",
    "person=[\"Lenick\",\"Nyabuto\",23,3]\n"
   ]
  },
  {
   "cell_type": "code",
   "execution_count": 38,
   "id": "871a95f0",
   "metadata": {},
   "outputs": [
    {
     "name": "stdout",
     "output_type": "stream",
     "text": [
      "8.2\n"
     ]
    }
   ],
   "source": [
    "# Exercise 34\n",
    "r=4.7\n",
    "t=3.5\n",
    "print(r+t)"
   ]
  },
  {
   "cell_type": "code",
   "execution_count": 39,
   "id": "8df4eef8",
   "metadata": {},
   "outputs": [],
   "source": [
    "# Exercise 35\n",
    "is_sunny=10>5"
   ]
  },
  {
   "cell_type": "code",
   "execution_count": 40,
   "id": "146bf78d",
   "metadata": {},
   "outputs": [
    {
     "name": "stdout",
     "output_type": "stream",
     "text": [
      "Ann 23\n"
     ]
    }
   ],
   "source": [
    "# Exercise 36\n",
    "a=\"Ann\"\n",
    "b=23\n",
    "print(a,b)"
   ]
  },
  {
   "cell_type": "code",
   "execution_count": 41,
   "id": "96797fb8",
   "metadata": {},
   "outputs": [],
   "source": [
    "# Exercise 37\n",
    "d=3\n",
    "d=True"
   ]
  },
  {
   "cell_type": "code",
   "execution_count": 43,
   "id": "d8ce807f",
   "metadata": {},
   "outputs": [],
   "source": [
    "# Exercise 38\n",
    "is_weekend=\"false\""
   ]
  },
  {
   "cell_type": "code",
   "execution_count": 44,
   "id": "a21c5e97",
   "metadata": {},
   "outputs": [],
   "source": [
    "# Exercise 39\n",
    "description=\"\"\"Sheis tall\n",
    "               she is cute\n",
    "               she likes smiling\"\"\"\n"
   ]
  },
  {
   "cell_type": "code",
   "execution_count": 47,
   "id": "5c0e3adf",
   "metadata": {},
   "outputs": [],
   "source": [
    "# Exercise 40\n",
    "x=-25\n",
    "y=abs(x)"
   ]
  },
  {
   "cell_type": "code",
   "execution_count": 49,
   "id": "337ee08b",
   "metadata": {},
   "outputs": [
    {
     "name": "stdout",
     "output_type": "stream",
     "text": [
      "16\n"
     ]
    }
   ],
   "source": [
    "#Exercise 41:\n",
    "floor_div_result=100//6\n",
    "print(floor_div_result)\n",
    "\n",
    "\n",
    "\n"
   ]
  },
  {
   "cell_type": "code",
   "execution_count": 50,
   "id": "15fb4721",
   "metadata": {},
   "outputs": [],
   "source": [
    "# Exercise 42:\n",
    "mixed_sum=3.4+5\n",
    "\n",
    "\n",
    "\n",
    "\n"
   ]
  },
  {
   "cell_type": "code",
   "execution_count": 58,
   "id": "0739363f",
   "metadata": {},
   "outputs": [
    {
     "name": "stdout",
     "output_type": "stream",
     "text": [
      "True\n"
     ]
    }
   ],
   "source": [
    "# Exercise 43\n",
    "a=10\n",
    "b=5\n",
    "print(a!=b)\n"
   ]
  },
  {
   "cell_type": "code",
   "execution_count": 59,
   "id": "6513a7d1",
   "metadata": {},
   "outputs": [
    {
     "data": {
      "text/plain": [
       "48"
      ]
     },
     "execution_count": 59,
     "metadata": {},
     "output_type": "execute_result"
    }
   ],
   "source": [
    "# Exercise 44\n",
    "a=\"I always travel to Nairobi every Tuesday morning\"\n",
    "len(a)"
   ]
  },
  {
   "cell_type": "code",
   "execution_count": 53,
   "id": "d602f18e",
   "metadata": {},
   "outputs": [],
   "source": [
    "# Exercise 45\n",
    "division_result=7/3"
   ]
  },
  {
   "cell_type": "code",
   "execution_count": 60,
   "id": "ba38c06c",
   "metadata": {},
   "outputs": [],
   "source": [
    "# Exercise 46\n",
    "speed=100"
   ]
  },
  {
   "cell_type": "code",
   "execution_count": 55,
   "id": "d918d765",
   "metadata": {},
   "outputs": [
    {
     "name": "stdout",
     "output_type": "stream",
     "text": [
      "17\n"
     ]
    }
   ],
   "source": [
    "# Exercise 47\n",
    "x=4\n",
    "y=3*x+5\n",
    "print(y)"
   ]
  },
  {
   "cell_type": "code",
   "execution_count": 56,
   "id": "42344a94",
   "metadata": {},
   "outputs": [
    {
     "name": "stdout",
     "output_type": "stream",
     "text": [
      "4.333333333333333\n"
     ]
    }
   ],
   "source": [
    "# Exercise 48\n",
    "x=3\n",
    "y=4\n",
    "z=6\n",
    "print((x+y+z)/3)"
   ]
  },
  {
   "cell_type": "code",
   "execution_count": null,
   "id": "f6d05105",
   "metadata": {},
   "outputs": [],
   "source": []
  }
 ],
 "metadata": {
  "colab": {
   "provenance": []
  },
  "kernelspec": {
   "display_name": "Python 3 (ipykernel)",
   "language": "python",
   "name": "python3"
  },
  "language_info": {
   "codemirror_mode": {
    "name": "ipython",
    "version": 3
   },
   "file_extension": ".py",
   "mimetype": "text/x-python",
   "name": "python",
   "nbconvert_exporter": "python",
   "pygments_lexer": "ipython3",
   "version": "3.10.12"
  }
 },
 "nbformat": 4,
 "nbformat_minor": 5
}
