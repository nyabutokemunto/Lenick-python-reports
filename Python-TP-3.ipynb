{
 "cells": [
  {
   "cell_type": "markdown",
   "id": "d68c1dee",
   "metadata": {
    "id": "d68c1dee"
   },
   "source": [
    "# Practical_3: Iterable objects or Containers"
   ]
  },
  {
   "cell_type": "markdown",
   "id": "548e232c-87d5-4a39-9417-874cf98134e5",
   "metadata": {
    "id": "bea983a3"
   },
   "source": []
  },
  {
   "cell_type": "markdown",
   "id": "e3d6e5b1-c8e9-457f-b487-fc9197187685",
   "metadata": {
    "id": "bea983a3"
   },
   "source": [
    "---\n",
    "\n",
    "### Exercise 1:\n",
    "Create a list of integers from 1 to 10.\n",
    "\n",
    "```python\n",
    "# Exercise 1"
   ]
  },
  {
   "cell_type": "code",
   "execution_count": 1,
   "id": "f5a241a9-ff38-4193-9964-94f611683bf7",
   "metadata": {},
   "outputs": [
    {
     "name": "stdout",
     "output_type": "stream",
     "text": [
      "[1, 2, 3, 4, 5, 6, 7, 8, 9, 10]\n"
     ]
    }
   ],
   "source": [
    "x=list(range(1,11))\n",
    "print(x)"
   ]
  },
  {
   "cell_type": "markdown",
   "id": "02120d00-bd95-479f-863a-bd6d5fe5e22c",
   "metadata": {
    "id": "bea983a3"
   },
   "source": [
    "### Exercise 2:\n",
    "Create a tuple containing the elements `\"apple\"`, `\"banana\"`, and `\"cherry\"`."
   ]
  },
  {
   "cell_type": "code",
   "execution_count": 2,
   "id": "7291d9ea-f2c7-4949-be9f-c41ea1c519ff",
   "metadata": {},
   "outputs": [
    {
     "data": {
      "text/plain": [
       "('apple', 'banana', 'cherry')"
      ]
     },
     "execution_count": 2,
     "metadata": {},
     "output_type": "execute_result"
    }
   ],
   "source": [
    "fruits=(\"apple\",\"banana\",\"cherry\")\n",
    "fruits\n"
   ]
  },
  {
   "cell_type": "markdown",
   "id": "71a08fde-7eb4-433a-b528-4d221d28dfa1",
   "metadata": {
    "id": "bea983a3"
   },
   "source": [
    "### Exercise 3:\n",
    "Convert the list `numbers = [10, 20, 30, 40]` into a tuple.\n",
    "\n",
    "```python\n",
    "# Exercise 3\n",
    "```"
   ]
  },
  {
   "cell_type": "code",
   "execution_count": 3,
   "id": "70450dd1-0ad0-45b1-b7e6-42f12d408141",
   "metadata": {},
   "outputs": [
    {
     "data": {
      "text/plain": [
       "(10, 20, 30, 40)"
      ]
     },
     "execution_count": 3,
     "metadata": {},
     "output_type": "execute_result"
    }
   ],
   "source": [
    "numbers=[10,20,30,40]\n",
    "my_list=tuple(numbers)\n",
    "my_list"
   ]
  },
  {
   "cell_type": "markdown",
   "id": "b6704c0f-8222-4305-8e72-ee81c8188c4c",
   "metadata": {
    "id": "bea983a3"
   },
   "source": [
    "---\n",
    "\n",
    "### Exercise 4:\n",
    "Create a set containing the elements `1, 2, 3, 4, 5`.\n",
    "\n",
    "```python\n",
    "# Exercise 4\n",
    "```"
   ]
  },
  {
   "cell_type": "code",
   "execution_count": 4,
   "id": "c2387e7c-6eec-4c7b-96c2-d787eccba4c8",
   "metadata": {},
   "outputs": [
    {
     "data": {
      "text/plain": [
       "{1, 2, 3, 4, 5}"
      ]
     },
     "execution_count": 4,
     "metadata": {},
     "output_type": "execute_result"
    }
   ],
   "source": [
    "y={1,2,3,4,5}\n",
    "y"
   ]
  },
  {
   "cell_type": "markdown",
   "id": "3e1ce223-4749-4c8c-8572-e0bb51ba4911",
   "metadata": {
    "id": "bea983a3"
   },
   "source": [
    "---\n",
    "\n",
    "### Exercise 5:\n",
    "Create a dictionary `student` with the keys `\"name\"`, `\"age\"`, and `\"grade\"` and corresponding values `\"Alice\"`, `20`, and `\"A\"`.\n",
    "\n",
    "```python\n",
    "# Exercise 5\n",
    "```"
   ]
  },
  {
   "cell_type": "code",
   "execution_count": 5,
   "id": "bf324069-9344-4f20-a329-2cc7afe3ba77",
   "metadata": {},
   "outputs": [
    {
     "data": {
      "text/plain": [
       "{'name': 'Alice', 'age': 20, 'grade': 'A'}"
      ]
     },
     "execution_count": 5,
     "metadata": {},
     "output_type": "execute_result"
    }
   ],
   "source": [
    "student={\"name\":\"Alice\",\"age\":20,\"grade\":\"A\"}\n",
    "student"
   ]
  },
  {
   "cell_type": "markdown",
   "id": "1447996d-ffa6-4484-a2d1-030b2ff4853c",
   "metadata": {
    "id": "bea983a3"
   },
   "source": [
    "---\n",
    "\n",
    "### Exercise 6:\n",
    "Access the second element of the list `[10, 20, 30, 40, 50]` using indexing.\n",
    "\n",
    "```python\n",
    "# Exercise 6\n",
    "```"
   ]
  },
  {
   "cell_type": "code",
   "execution_count": 6,
   "id": "ed6dfff8-5d51-4684-8b75-cf77783a0e65",
   "metadata": {},
   "outputs": [
    {
     "data": {
      "text/plain": [
       "20"
      ]
     },
     "execution_count": 6,
     "metadata": {},
     "output_type": "execute_result"
    }
   ],
   "source": [
    "my_list=[10,20,30,40,50]\n",
    "my_list[1]"
   ]
  },
  {
   "cell_type": "markdown",
   "id": "2f7c9409-c90c-4012-80d5-73cef650dfe5",
   "metadata": {
    "id": "bea983a3"
   },
   "source": [
    "---\n",
    "\n",
    "### Exercise 7:\n",
    "Change the third element of the list `fruits = [\"apple\", \"banana\", \"cherry\", \"orange\"]` to `\"mango\"`.\n",
    "\n",
    "```python\n",
    "# Exercise 7\n",
    "```\n",
    "\n",
    "---"
   ]
  },
  {
   "cell_type": "code",
   "execution_count": 7,
   "id": "cefe924d-55b2-441c-9d66-fa08e4923c31",
   "metadata": {},
   "outputs": [
    {
     "data": {
      "text/plain": [
       "['apple', 'banana', 'mango', 'orange']"
      ]
     },
     "execution_count": 7,
     "metadata": {},
     "output_type": "execute_result"
    }
   ],
   "source": [
    "fruits = [\"apple\", \"banana\", \"cherry\", \"orange\"]\n",
    "fruits[2] =\"mango\"\n",
    "fruits"
   ]
  },
  {
   "cell_type": "markdown",
   "id": "9c81345a-e406-416a-b71f-586c9a63c209",
   "metadata": {
    "id": "bea983a3"
   },
   "source": [
    "### Exercise 8:\n",
    "Add the number `6` to the set `numbers = {1, 2, 3, 4, 5}`.\n",
    "\n",
    "```python\n",
    "# Exercise 8\n",
    "```\n",
    "\n",
    "--"
   ]
  },
  {
   "cell_type": "code",
   "execution_count": 8,
   "id": "749acce4-90e5-47b0-9bcd-1883de423a72",
   "metadata": {},
   "outputs": [
    {
     "data": {
      "text/plain": [
       "{1, 2, 3, 4, 5, 6}"
      ]
     },
     "execution_count": 8,
     "metadata": {},
     "output_type": "execute_result"
    }
   ],
   "source": [
    "numbers = {1, 2, 3, 4, 5}\n",
    "numbers.add(6)\n",
    "numbers"
   ]
  },
  {
   "cell_type": "markdown",
   "id": "a5a60d60-96a8-4a33-aa04-5da1557fb515",
   "metadata": {
    "id": "bea983a3"
   },
   "source": [
    "-\n",
    "\n",
    "### Exercise 9:\n",
    "Remove the key `\"age\"` from the dictionary `person = {\"name\": \"John\", \"age\": 25, \"city\": \"New York\"}`.\n",
    "\n",
    "```python\n",
    "# Exercise 9\n",
    "```"
   ]
  },
  {
   "cell_type": "code",
   "execution_count": 9,
   "id": "210c3ff9-682b-4ea6-8b22-b48e6e1a18e9",
   "metadata": {},
   "outputs": [
    {
     "data": {
      "text/plain": [
       "{'name': 'John', 'city': 'New York'}"
      ]
     },
     "execution_count": 9,
     "metadata": {},
     "output_type": "execute_result"
    }
   ],
   "source": [
    "person = {\"name\": \"John\", \"age\": 25, \"city\": \"New York\"}\n",
    "person.pop(\"age\")\n",
    "person\n"
   ]
  },
  {
   "cell_type": "markdown",
   "id": "9689cc00-5cc4-4069-8db1-f51131da57f5",
   "metadata": {
    "id": "bea983a3"
   },
   "source": [
    "---\n",
    "\n",
    "### Exercise 10:\n",
    "Create a range object starting from 0 to 9.\n",
    "\n",
    "```python\n",
    "# Exercise 10\n",
    "``"
   ]
  },
  {
   "cell_type": "code",
   "execution_count": 10,
   "id": "ef1173e6-88ab-4b01-97d5-8662640aeba6",
   "metadata": {},
   "outputs": [
    {
     "data": {
      "text/plain": [
       "[0, 1, 2, 3, 4, 5, 6, 7, 8, 9]"
      ]
     },
     "execution_count": 10,
     "metadata": {},
     "output_type": "execute_result"
    }
   ],
   "source": [
    "y=[i for i in range(0,10)]\n",
    "y"
   ]
  },
  {
   "cell_type": "markdown",
   "id": "767c9a0c-24fd-4ac6-9522-9a53c1b46702",
   "metadata": {
    "id": "bea983a3"
   },
   "source": [
    "`\n",
    "\n",
    "\n",
    "\n",
    "### Exercise 11:\n",
    "Use a list comprehension to create a list of squares of numbers from 1 to 10.\n",
    "\n",
    "```python\n",
    "# Exercise 11\n",
    "```"
   ]
  },
  {
   "cell_type": "code",
   "execution_count": 11,
   "id": "ff86c435-ad91-4537-b791-300645d033e1",
   "metadata": {},
   "outputs": [
    {
     "data": {
      "text/plain": [
       "[1, 4, 9, 16, 25, 36, 49, 64, 81, 100]"
      ]
     },
     "execution_count": 11,
     "metadata": {},
     "output_type": "execute_result"
    }
   ],
   "source": [
    "squares=[i**2 for i in range(1,11)]\n",
    "squares"
   ]
  },
  {
   "cell_type": "markdown",
   "id": "9aea4b5b-0a1a-4e23-b54c-71ba37054ec6",
   "metadata": {
    "id": "bea983a3"
   },
   "source": [
    "### Exercise 12:\n",
    "Create a tuple of even numbers between 2 and 10 using a tuple comprehension.\n",
    "\n",
    "```python\n",
    "# Exercise 12\n",
    "```"
   ]
  },
  {
   "cell_type": "code",
   "execution_count": 12,
   "id": "8ebc2cc6-5df9-4010-89c3-a12897a62d96",
   "metadata": {},
   "outputs": [
    {
     "data": {
      "text/plain": [
       "(2, 4, 6, 8, 10)"
      ]
     },
     "execution_count": 12,
     "metadata": {},
     "output_type": "execute_result"
    }
   ],
   "source": [
    "even_tuple = tuple(i for i in range(2,11) if i%2==0)\n",
    "even_tuple"
   ]
  },
  {
   "cell_type": "code",
   "execution_count": 13,
   "id": "9176d7e2-8db0-4feb-8efe-e08fe9f36d25",
   "metadata": {},
   "outputs": [
    {
     "data": {
      "text/plain": [
       "(2, 4, 6, 8, 10)"
      ]
     },
     "execution_count": 13,
     "metadata": {},
     "output_type": "execute_result"
    }
   ],
   "source": [
    "even_tuple1 = tuple(i for i in range(2,11,2))\n",
    "even_tuple1"
   ]
  },
  {
   "cell_type": "markdown",
   "id": "1d7c2cdf-b244-4988-b538-bac06e79a51e",
   "metadata": {
    "id": "bea983a3"
   },
   "source": [
    "### Exercise 13:\n",
    "Use a for loop to iterate through the list `fruits = [\"apple\", \"banana\", \"cherry\"]` and print each element.\n",
    "\n",
    "```python\n",
    "# Exercise 13\n",
    "```"
   ]
  },
  {
   "cell_type": "code",
   "execution_count": 14,
   "id": "9b0c554d-7456-4df1-8774-1d42ea59a9f3",
   "metadata": {},
   "outputs": [
    {
     "name": "stdout",
     "output_type": "stream",
     "text": [
      "apple\n",
      "banana\n",
      "cherry\n"
     ]
    }
   ],
   "source": [
    "fruits = [\"apple\", \"banana\", \"cherry\"]\n",
    "\n",
    "for fruit in fruits:\n",
    "    print(fruit)\n"
   ]
  },
  {
   "cell_type": "markdown",
   "id": "e78b96c8-43a7-4eb5-9d13-961067e2b2c7",
   "metadata": {
    "id": "bea983a3"
   },
   "source": [
    "### Exercise 14:\n",
    "Check if the value `3` exists in the set `numbers = {1, 2, 3, 4, 5}`.\n",
    "\n",
    "```python\n",
    "# Exercise 14\n",
    "```"
   ]
  },
  {
   "cell_type": "code",
   "execution_count": 16,
   "id": "f7197ab5-3dee-4597-8995-a8aea5f88682",
   "metadata": {},
   "outputs": [
    {
     "data": {
      "text/plain": [
       "True"
      ]
     },
     "execution_count": 16,
     "metadata": {},
     "output_type": "execute_result"
    }
   ],
   "source": [
    "numbers = {1, 2, 3, 4, 5}\n",
    "3 in numbers"
   ]
  },
  {
   "cell_type": "markdown",
   "id": "321e0a43-c01b-4905-8198-39e29e9586df",
   "metadata": {
    "id": "bea983a3"
   },
   "source": [
    "### Exercise 15:\n",
    "Use the `len()` function to find the length of the tuple `numbers = (10, 20, 30)`.\n",
    "\n",
    "```python\n",
    "# Exercise 15\n",
    "```"
   ]
  },
  {
   "cell_type": "code",
   "execution_count": 15,
   "id": "3b7a3fc4-00f8-4639-a63a-fadffda615f6",
   "metadata": {},
   "outputs": [
    {
     "data": {
      "text/plain": [
       "3"
      ]
     },
     "execution_count": 15,
     "metadata": {},
     "output_type": "execute_result"
    }
   ],
   "source": [
    "numbers = (10, 20, 30)\n",
    "len(numbers)"
   ]
  },
  {
   "cell_type": "markdown",
   "id": "3e20dcb4-80ff-49db-8da4-b65c76c653a2",
   "metadata": {
    "id": "bea983a3"
   },
   "source": [
    "### Exercise 16:\n",
    "Add the value `100` at the end of the list `scores = [80, 85, 90, 95]`.\n",
    "\n",
    "```python\n",
    "# Exercise 16"
   ]
  },
  {
   "cell_type": "code",
   "execution_count": 20,
   "id": "7bf5b822-c40f-497e-b7f2-9d1e4b25c9bb",
   "metadata": {},
   "outputs": [
    {
     "data": {
      "text/plain": [
       "[80, 85, 90, 95, 100]"
      ]
     },
     "execution_count": 20,
     "metadata": {},
     "output_type": "execute_result"
    }
   ],
   "source": [
    "scores = [80, 85, 90, 95]\n",
    "scores.append(100)\n",
    "scores"
   ]
  },
  {
   "cell_type": "markdown",
   "id": "7e5d79ae-67a5-408d-836f-b71a6a5ae6af",
   "metadata": {
    "id": "bea983a3"
   },
   "source": [
    "### Exercise 17:\n",
    "Write a function that takes a list as input and returns the sum of all elements in the list.\n",
    "\n",
    "```python\n",
    "# Exercise 17\n",
    "```"
   ]
  },
  {
   "cell_type": "code",
   "execution_count": 1,
   "id": "9a6e8f74-a7fc-418b-8188-9d30a3be3255",
   "metadata": {},
   "outputs": [],
   "source": [
    "def sum_of_list(numbers):\n",
    "    return sum(numbers)"
   ]
  },
  {
   "cell_type": "code",
   "execution_count": 3,
   "id": "312fe6b1-babe-4025-9d0e-2954e310b2c0",
   "metadata": {},
   "outputs": [
    {
     "name": "stdout",
     "output_type": "stream",
     "text": [
      "19\n"
     ]
    }
   ],
   "source": [
    "nums = [2, 6, 8, 3]\n",
    "print(sum_of_list(nums))"
   ]
  },
  {
   "cell_type": "markdown",
   "id": "8a2c9237-1def-49bb-9b42-a07260285289",
   "metadata": {
    "id": "bea983a3"
   },
   "source": [
    "---\n",
    "\n",
    "### Exercise 18:\n",
    "Create a set containing the unique elements of the list `numbers = [1, 2, 2, 3, 4, 4, 5]`.\n",
    "\n",
    "```python\n",
    "# Exercise 18\n",
    "```"
   ]
  },
  {
   "cell_type": "code",
   "execution_count": 6,
   "id": "2f490597-4248-48ae-837a-bf15f3ef310d",
   "metadata": {},
   "outputs": [
    {
     "name": "stdout",
     "output_type": "stream",
     "text": [
      "{1, 2, 3, 4, 5}\n"
     ]
    }
   ],
   "source": [
    "numbers = [1, 2, 2, 3, 4, 4, 5]\n",
    "unique_elements = set(numbers)\n",
    "print(unique_elements)"
   ]
  },
  {
   "cell_type": "markdown",
   "id": "43fa2852-ec12-4c59-a29f-c9af8393d34b",
   "metadata": {
    "id": "bea983a3"
   },
   "source": [
    "---\n",
    "\n",
    "### Exercise 19:\n",
    "Convert the string `\"hello\"` into a list of characters.\n",
    "\n",
    "```python\n",
    "# Exercise 19\n",
    "```"
   ]
  },
  {
   "cell_type": "code",
   "execution_count": 7,
   "id": "cd999829-ade5-4cb2-9d11-528abdfc62b6",
   "metadata": {},
   "outputs": [
    {
     "name": "stdout",
     "output_type": "stream",
     "text": [
      "['h', 'e', 'l', 'l', 'o']\n"
     ]
    }
   ],
   "source": [
    "text = \"hello\"\n",
    "char_list = list(text)\n",
    "print(char_list)"
   ]
  },
  {
   "cell_type": "markdown",
   "id": "7a6a204a-b89c-48da-b0d0-769fe2394b1d",
   "metadata": {
    "id": "bea983a3"
   },
   "source": [
    "---\n",
    "\n",
    "### Exercise 20:\n",
    "Write a Python function that reverses a tuple `(1, 2, 3, 4)`.\n",
    "\n",
    "```python\n",
    "# Exercise 20\n",
    "```"
   ]
  },
  {
   "cell_type": "code",
   "execution_count": 12,
   "id": "ba80e00c-f6f2-4172-b189-1c320410496b",
   "metadata": {},
   "outputs": [
    {
     "name": "stdout",
     "output_type": "stream",
     "text": [
      "(4, 3, 2, 1)\n"
     ]
    }
   ],
   "source": [
    "def reverse_tuple(t):\n",
    "    return t[::-1]\n",
    "my_tuple = (1, 2, 3, 4)\n",
    "reversed_tuple = reverse_tuple(my_tuple)\n",
    "print(reversed_tuple)\n"
   ]
  },
  {
   "cell_type": "markdown",
   "id": "2b1bf2ca-d7d7-4007-8424-09050fc886a0",
   "metadata": {
    "id": "bea983a3"
   },
   "source": [
    "---\n",
    "\n",
    "### Exercise 21:\n",
    "Merge two dictionaries `dict1 = {\"a\": 1, \"b\": 2}` and `dict2 = {\"c\": 3, \"d\": 4}` into a single dictionary.\n",
    "\n",
    "```python\n",
    "# Exercise 21\n",
    "```"
   ]
  },
  {
   "cell_type": "code",
   "execution_count": 15,
   "id": "05496555-6199-4f72-b0f2-bca42a250b8b",
   "metadata": {},
   "outputs": [
    {
     "name": "stdout",
     "output_type": "stream",
     "text": [
      "{'a': 1, 'b': 2, 'c': 3, 'd': 4}\n"
     ]
    }
   ],
   "source": [
    "dict1 = {\"a\": 1, \"b\": 2}\n",
    "dict2 = {\"c\": 3, \"d\": 4}\n",
    "dict1.update(dict2)\n",
    "print(dict1)"
   ]
  },
  {
   "cell_type": "markdown",
   "id": "88606c35-fc31-44e0-8e42-b1372993db09",
   "metadata": {
    "id": "bea983a3"
   },
   "source": [
    "---\n",
    "\n",
    "### Exercise 22:\n",
    "Create a dictionary where keys are numbers from 1 to 5, and values are their squares.\n",
    "\n",
    "```python\n",
    "# Exercise 22\n",
    "```"
   ]
  },
  {
   "cell_type": "code",
   "execution_count": 16,
   "id": "b21d54ea-8dc2-4c83-b0bf-834200b32b59",
   "metadata": {},
   "outputs": [
    {
     "name": "stdout",
     "output_type": "stream",
     "text": [
      "{1: 1, 2: 4, 3: 9, 4: 16, 5: 25}\n"
     ]
    }
   ],
   "source": [
    "squares = {x: x**2 for x in range(1, 6)}\n",
    "print(squares)"
   ]
  },
  {
   "cell_type": "markdown",
   "id": "cce31263-ecea-4a13-ac6b-ece05fe4fb38",
   "metadata": {
    "id": "bea983a3"
   },
   "source": [
    "---\n",
    "\n",
    "### Exercise 23:\n",
    "Write a Python program to iterate through a dictionary and print each key-value pair.\n",
    "\n",
    "```python\n",
    "# Exercise 23\n",
    "```"
   ]
  },
  {
   "cell_type": "code",
   "execution_count": 17,
   "id": "c068eeee-6de8-494d-856d-30b1d074b05a",
   "metadata": {},
   "outputs": [
    {
     "name": "stdout",
     "output_type": "stream",
     "text": [
      "Key: a, Value: 1\n",
      "Key: b, Value: 2\n",
      "Key: c, Value: 3\n"
     ]
    }
   ],
   "source": [
    "my_dict = {\"a\": 1, \"b\": 2, \"c\": 3}\n",
    "for key, value in my_dict.items():\n",
    "    print(f\"Key: {key}, Value: {value}\")"
   ]
  },
  {
   "cell_type": "markdown",
   "id": "35857a29-d950-4ccc-a517-1e2184ead8c1",
   "metadata": {
    "id": "bea983a3"
   },
   "source": [
    "---\n",
    "\n",
    "### Exercise 24:\n",
    "Create a list of the first 5 letters of the alphabet using the `chr()` function.\n",
    "\n",
    "```python\n",
    "# Exercise 24\n",
    "```"
   ]
  },
  {
   "cell_type": "code",
   "execution_count": 18,
   "id": "08da6378-7f77-4d3d-af02-c1aec1dcbf4b",
   "metadata": {},
   "outputs": [
    {
     "name": "stdout",
     "output_type": "stream",
     "text": [
      "['a', 'b', 'c', 'd', 'e']\n"
     ]
    }
   ],
   "source": [
    "letters = [chr(i) for i in range(97, 102)]\n",
    "print(letters)"
   ]
  },
  {
   "cell_type": "markdown",
   "id": "541eb672-946c-4e15-ad67-bc2703f63e6f",
   "metadata": {
    "id": "bea983a3"
   },
   "source": [
    "---\n",
    "\n",
    "### Exercise 25:\n",
    "Use the `zip()` function to combine two lists `[1, 2, 3]` and `[\"a\", \"b\", \"c\"]` into a list of tuples.\n",
    "\n",
    "```python\n",
    "# Exercise 25\n",
    "```"
   ]
  },
  {
   "cell_type": "code",
   "execution_count": 19,
   "id": "63db8caf-a1bd-4833-b9bf-3776d84c939a",
   "metadata": {},
   "outputs": [
    {
     "name": "stdout",
     "output_type": "stream",
     "text": [
      "[(1, 'a'), (2, 'b'), (3, 'c')]\n"
     ]
    }
   ],
   "source": [
    "numbers = [1, 2, 3]\n",
    "letters = [\"a\", \"b\", \"c\"]\n",
    "\n",
    "combined = list(zip(numbers, letters))\n",
    "print(combined)"
   ]
  },
  {
   "cell_type": "markdown",
   "id": "7f494288-60a7-49be-bbdf-f8355d659a72",
   "metadata": {
    "id": "bea983a3"
   },
   "source": [
    "---\n",
    "\n",
    "### Exercise 26:\n",
    "Find the index of the value `50` in the list `[10, 20, 30, 40, 50]`.\n",
    "\n",
    "```python\n",
    "# Exercise 26\n",
    "```"
   ]
  },
  {
   "cell_type": "code",
   "execution_count": 20,
   "id": "799b7891-36f8-499d-89fe-d458bcb416a5",
   "metadata": {},
   "outputs": [
    {
     "name": "stdout",
     "output_type": "stream",
     "text": [
      "4\n"
     ]
    }
   ],
   "source": [
    "numbers = [10, 20, 30, 40, 50]\n",
    "index_50 = numbers.index(50)\n",
    "print(index_50)"
   ]
  },
  {
   "cell_type": "markdown",
   "id": "9c93c01b-8663-4ae5-851f-924762965db4",
   "metadata": {
    "id": "bea983a3"
   },
   "source": [
    "---\n",
    "\n",
    "### Exercise 27:\n",
    "Sort the list `names = [\"Alice\", \"Bob\", \"Charlie\", \"David\"]` in alphabetical order.\n",
    "\n",
    "```python\n",
    "# Exercise 27\n",
    "```"
   ]
  },
  {
   "cell_type": "code",
   "execution_count": 21,
   "id": "e80caf0f-b14d-42e9-876d-f5710e83df9b",
   "metadata": {},
   "outputs": [
    {
     "name": "stdout",
     "output_type": "stream",
     "text": [
      "['Alice', 'Bob', 'Charlie', 'David']\n"
     ]
    }
   ],
   "source": [
    "names = [\"Alice\", \"Bob\", \"Charlie\", \"David\"]\n",
    "names.sort()\n",
    "print(names)"
   ]
  },
  {
   "cell_type": "markdown",
   "id": "51302248-d305-481c-9144-d4752a5e117c",
   "metadata": {
    "id": "bea983a3"
   },
   "source": [
    "---\n",
    "\n",
    "### Exercise 28:\n",
    "Write a Python function that takes a list of integers as input and returns the largest number.\n",
    "\n",
    "```python\n",
    "# Exercise 28\n",
    "```"
   ]
  },
  {
   "cell_type": "code",
   "execution_count": 22,
   "id": "49d18e0e-d4f2-464b-adf0-a0a61ddaccba",
   "metadata": {},
   "outputs": [],
   "source": [
    "def find_largest(numbers):\n",
    "    return max(numbers)"
   ]
  },
  {
   "cell_type": "markdown",
   "id": "05ad4b7b-c017-4fdf-827e-fb074b00b055",
   "metadata": {
    "id": "bea983a3"
   },
   "source": [
    "---\n",
    "\n",
    "### Exercise 29:\n",
    "Use the `count()` method to count how many times `\"apple\"` appears in the list `fruits = [\"apple\", \"banana\", \"apple\", \"orange\"]`.\n",
    "\n",
    "```python\n",
    "# Exercise 29\n",
    "```"
   ]
  },
  {
   "cell_type": "code",
   "execution_count": 23,
   "id": "b643c9c3-c899-4d8f-a81a-b1f39b395972",
   "metadata": {},
   "outputs": [
    {
     "name": "stdout",
     "output_type": "stream",
     "text": [
      "2\n"
     ]
    }
   ],
   "source": [
    "fruits = [\"apple\", \"banana\", \"apple\", \"orange\"]\n",
    "count_apple = fruits.count(\"apple\")\n",
    "print(count_apple)"
   ]
  },
  {
   "cell_type": "markdown",
   "id": "610f0728-48b1-4d86-b98f-d24a501a673e",
   "metadata": {
    "id": "bea983a3"
   },
   "source": [
    "---\n",
    "\n",
    "### Exercise 30:\n",
    "Create a dictionary `person` where keys are `\"name\"`, `\"age\"`, and `\"city\"`, and values are `\"Alice\"`, `25`, and `\"New York\"` respectively. Then access the value of the `\"city\"` key.\n",
    "\n",
    "```python\n",
    "# Exercise 30\n",
    "```"
   ]
  },
  {
   "cell_type": "code",
   "execution_count": 25,
   "id": "6790d3bf-c4a1-4cca-80b4-89866a0178ad",
   "metadata": {},
   "outputs": [
    {
     "name": "stdout",
     "output_type": "stream",
     "text": [
      "New York\n"
     ]
    }
   ],
   "source": [
    "person = { \"name\": \"Alice\",\"age\": 25, \"city\": \"New York\"}\n",
    "\n",
    "print(person[\"city\"])"
   ]
  },
  {
   "cell_type": "markdown",
   "id": "3f0887f3-7d45-40d6-bb60-eaa5852384ff",
   "metadata": {
    "id": "bea983a3"
   },
   "source": [
    "---\n",
    "\n",
    "### Exercise 31:\n",
    "Write a Python function that takes a list as input and returns a new list with all duplicates removed.\n",
    "\n",
    "```python\n",
    "# Exercise 31\n",
    "```"
   ]
  },
  {
   "cell_type": "code",
   "execution_count": 1,
   "id": "098c9560-227c-48ae-aee7-d18e9eb333ea",
   "metadata": {},
   "outputs": [],
   "source": [
    "def remove_duplicates(lst):\n",
    "    \"\"\"Return a new list with duplicates removed.\"\"\"\n",
    "    return list(set(lst))"
   ]
  },
  {
   "cell_type": "markdown",
   "id": "e45c7837-c32d-4470-ab8a-f41afbf1c594",
   "metadata": {
    "id": "bea983a3"
   },
   "source": [
    "---\n",
    "\n",
    "### Exercise 32:\n",
    "Write a Python function that takes two lists and returns their intersection.\n",
    "\n",
    "```python\n",
    "# Exercise 32\n",
    "```"
   ]
  },
  {
   "cell_type": "code",
   "execution_count": 2,
   "id": "416e2bb4-7486-44ec-911c-c078698d7f49",
   "metadata": {},
   "outputs": [],
   "source": [
    "def list_intersection(list1, list2):\n",
    "    \"\"\"Return a list of common elements, preserving the order from list1.\"\"\"\n",
    "    return [item for item in list1 if item in list2]"
   ]
  },
  {
   "cell_type": "markdown",
   "id": "324f595c-17f2-4f9a-8dd3-4982aabd30da",
   "metadata": {
    "id": "bea983a3"
   },
   "source": [
    "---\n",
    "\n",
    "### Exercise 33:\n",
    "Create a generator that yields the squares of numbers from 1 to 10.\n",
    "\n",
    "```python\n",
    "# Exercise 33\n",
    "```"
   ]
  },
  {
   "cell_type": "code",
   "execution_count": 3,
   "id": "98b42b8a-250c-46e9-8cfc-39149396994d",
   "metadata": {},
   "outputs": [],
   "source": [
    "def square_generator():\n",
    "    \"\"\"Yield the squares of numbers from 1 to 10.\"\"\"\n",
    "    for i in range(1, 11):\n",
    "        yield i ** 2"
   ]
  },
  {
   "cell_type": "markdown",
   "id": "f6149023-a2b1-46e3-9f61-6661f8b3852f",
   "metadata": {
    "id": "bea983a3"
   },
   "source": [
    "---\n",
    "\n",
    "### Exercise 34:\n",
    "Write a Python function that takes a dictionary as input and returns the sum of all its values.\n",
    "\n",
    "```python\n",
    "# Exercise 34\n",
    "```"
   ]
  },
  {
   "cell_type": "code",
   "execution_count": 4,
   "id": "24de462b-3a61-4e0a-b0c4-c6f390984b6c",
   "metadata": {},
   "outputs": [],
   "source": [
    "def sum_dict_values(d):\n",
    "    \"\"\"Return the sum of all values in the dictionary.\"\"\"\n",
    "    return sum(d.values())"
   ]
  },
  {
   "cell_type": "markdown",
   "id": "ac3e5d51-6dcd-4de1-8668-6575227d3ce3",
   "metadata": {
    "id": "bea983a3"
   },
   "source": [
    "---\n",
    "\n",
    "### Exercise 35:\n",
    "Use the `sorted()` function to sort the list `[3, 1, 4, 1, 5, 9]` in ascending order.\n",
    "\n",
    "```python\n",
    "# Exercise 35\n",
    "```"
   ]
  },
  {
   "cell_type": "code",
   "execution_count": 5,
   "id": "5f222325-c67f-4850-926e-106a4f71c71a",
   "metadata": {},
   "outputs": [
    {
     "name": "stdout",
     "output_type": "stream",
     "text": [
      "[1, 1, 3, 4, 5, 9]\n"
     ]
    }
   ],
   "source": [
    "numbers = [3, 1, 4, 1, 5, 9]\n",
    "sorted_numbers = sorted(numbers)\n",
    "print(sorted_numbers)"
   ]
  },
  {
   "cell_type": "markdown",
   "id": "19f7408e-7157-43f1-8997-c024e0f9f9b7",
   "metadata": {
    "id": "bea983a3"
   },
   "source": [
    "---\n",
    "\n",
    "### Exercise 36:\n",
    "Write a Python function that takes a list of strings as input and returns the longest string.\n",
    "\n",
    "```python\n",
    "# Exercise 36\n",
    "```"
   ]
  },
  {
   "cell_type": "code",
   "execution_count": 6,
   "id": "944774b4-bc17-4a8e-a146-814e101e101d",
   "metadata": {},
   "outputs": [],
   "source": [
    "def longest_string(strings):\n",
    "    \"\"\"Return the longest string in the list.\"\"\"\n",
    "    return max(strings, key=len)"
   ]
  },
  {
   "cell_type": "markdown",
   "id": "ef5c49b7-cedb-4113-bad0-2933a04b47e3",
   "metadata": {
    "id": "bea983a3"
   },
   "source": [
    "---\n",
    "\n",
    "### Exercise 37:\n",
    "Check if all the elements in the list `[1, 2, 3, 4, 5]` are greater than 0 using the `all()` function.\n",
    "\n",
    "```python\n",
    "# Exercise 37\n",
    "```"
   ]
  },
  {
   "cell_type": "code",
   "execution_count": 7,
   "id": "8d2ad920-ba34-4d23-be1e-5c392fec6f34",
   "metadata": {},
   "outputs": [
    {
     "name": "stdout",
     "output_type": "stream",
     "text": [
      "True\n"
     ]
    }
   ],
   "source": [
    "numbers = [1, 2, 3, 4, 5]\n",
    "result = all(num > 0 for num in numbers)\n",
    "print(result)"
   ]
  },
  {
   "cell_type": "markdown",
   "id": "404c4b7f-bace-486d-a88f-fea17d63ecfa",
   "metadata": {
    "id": "bea983a3"
   },
   "source": [
    "---\n",
    "\n",
    "### Exercise 38:\n",
    "Create a list of tuples where each tuple contains a number and its square for numbers from 1 to 5.\n",
    "\n",
    "```python\n",
    "# Exercise 38\n",
    "```"
   ]
  },
  {
   "cell_type": "code",
   "execution_count": 8,
   "id": "adb88b08-263c-4f79-b0b5-94ec1f5d456f",
   "metadata": {},
   "outputs": [
    {
     "name": "stdout",
     "output_type": "stream",
     "text": [
      "[(1, 1), (2, 4), (3, 9), (4, 16), (5, 25)]\n"
     ]
    }
   ],
   "source": [
    "numbers_and_squares = [(x, x**2) for x in range(1, 6)]\n",
    "print(numbers_and_squares)"
   ]
  },
  {
   "cell_type": "markdown",
   "id": "fe507426-b1b1-4c3d-924c-ad84981fe82d",
   "metadata": {
    "id": "bea983a3"
   },
   "source": [
    "---\n",
    "\n",
    "### Exercise 39:\n",
    "Write a Python function that takes a list of tuples and returns a list of the second elements from each tuple.\n",
    "\n",
    "```python\n",
    "# Exercise 39\n",
    "```"
   ]
  },
  {
   "cell_type": "code",
   "execution_count": 9,
   "id": "7852d2e1-ff7e-4b52-b1b3-abfeb23e1aeb",
   "metadata": {},
   "outputs": [],
   "source": [
    "def get_second_elements(tuples_list):\n",
    "    \"\"\"Return a list of the second elements from each tuple.\"\"\"\n",
    "    return [t[1] for t in tuples_list]"
   ]
  },
  {
   "cell_type": "markdown",
   "id": "57e76432-3b61-4a12-a454-c58420d3f2d2",
   "metadata": {
    "id": "bea983a3"
   },
   "source": [
    "---\n",
    "\n",
    "### Exercise 40:\n",
    "Write a Python function that flattens a list of lists into a single list.\n",
    "\n",
    "```python\n",
    "# Exercise 40\n",
    "```"
   ]
  },
  {
   "cell_type": "code",
   "execution_count": 10,
   "id": "721f2f1f-3da7-46a2-8e86-cf662df5b802",
   "metadata": {},
   "outputs": [],
   "source": [
    "def flatten_list(nested_list):\n",
    "    \"\"\"Return a single flattened list from a list of lists.\"\"\"\n",
    "    return [item for sublist in nested_list for item in sublist]"
   ]
  },
  {
   "cell_type": "markdown",
   "id": "96d2612d-c060-4122-9c80-d30912ff1905",
   "metadata": {
    "id": "bea983a3"
   },
   "source": [
    "---\n",
    "\n",
    "### Exercise 41:\n",
    "Use the `enumerate()` function to iterate through the list `[\"apple\", \"banana\", \"cherry\"]` and print the index and value.\n",
    "\n",
    "```python\n",
    "# Exercise 41\n",
    "```"
   ]
  },
  {
   "cell_type": "code",
   "execution_count": 11,
   "id": "e5c02df5-b5ff-462a-ab3d-5d947fb5a800",
   "metadata": {},
   "outputs": [
    {
     "name": "stdout",
     "output_type": "stream",
     "text": [
      "0 apple\n",
      "1 banana\n",
      "2 cherry\n"
     ]
    }
   ],
   "source": [
    "fruits = [\"apple\", \"banana\", \"cherry\"]\n",
    "\n",
    "for index, fruit in enumerate(fruits):\n",
    "    print(index, fruit)"
   ]
  },
  {
   "cell_type": "markdown",
   "id": "69c1a59a-6be3-4d85-8072-7ba672cab744",
   "metadata": {
    "id": "bea983a3"
   },
   "source": [
    "---\n",
    "\n",
    "### Exercise 42:\n",
    "Write a Python program that checks if a tuple is empty.\n",
    "\n",
    "```python\n",
    "# Exercise 42\n",
    "```"
   ]
  },
  {
   "cell_type": "code",
   "execution_count": 12,
   "id": "319f9966-2626-439c-8c0b-f6ad7153b3a6",
   "metadata": {},
   "outputs": [
    {
     "name": "stdout",
     "output_type": "stream",
     "text": [
      "The tuple is empty.\n"
     ]
    }
   ],
   "source": [
    "t = ()\n",
    "if not t:\n",
    "    print(\"The tuple is empty.\")\n",
    "else:\n",
    "    print(\"The tuple is not empty.\")"
   ]
  },
  {
   "cell_type": "markdown",
   "id": "b3668044-d4bd-43a3-998d-bc8a3c9c703c",
   "metadata": {
    "id": "bea983a3"
   },
   "source": [
    "---\n",
    "\n",
    "### Exercise 43:\n",
    "Create a list of even numbers between 1 and 20 using the `range()` function.\n",
    "\n",
    "```python\n",
    "# Exercise 43\n",
    "```"
   ]
  },
  {
   "cell_type": "code",
   "execution_count": 14,
   "id": "91533c3a-98e6-4eba-b5a9-ec2ef512e18d",
   "metadata": {},
   "outputs": [
    {
     "name": "stdout",
     "output_type": "stream",
     "text": [
      "[2, 4, 6, 8, 10, 12, 14, 16, 18, 20]\n"
     ]
    }
   ],
   "source": [
    "even_numbers = list(range(2,21,2))\n",
    "print(even_numbers)"
   ]
  },
  {
   "cell_type": "markdown",
   "id": "4ea52062-4e6f-4702-8b2e-57ac43f5233e",
   "metadata": {
    "id": "bea983a3"
   },
   "source": [
    "---\n",
    "\n",
    "### Exercise 44:\n",
    "Write a Python function that takes a list of numbers as input and returns the list in reverse order.\n",
    "\n",
    "```python\n",
    "# Exercise 44\n",
    "```"
   ]
  },
  {
   "cell_type": "code",
   "execution_count": 15,
   "id": "a87eab3d-262a-4291-b4d8-c5dd4f90cee9",
   "metadata": {},
   "outputs": [],
   "source": [
    "def reverse_list(numbers):\n",
    "    return list(reversed(numbers))"
   ]
  },
  {
   "cell_type": "markdown",
   "id": "72a99f22-5899-44c1-b9fe-a684d1b67cce",
   "metadata": {
    "id": "bea983a3"
   },
   "source": [
    "---\n",
    "\n",
    "### Exercise 45:\n",
    "Create a dictionary comprehension that maps numbers from 1 to 5 to their cubes.\n",
    "\n",
    "```python\n",
    "# Exercise 45\n",
    "```"
   ]
  },
  {
   "cell_type": "code",
   "execution_count": 16,
   "id": "d39c9ece-560c-48aa-bdcc-c40aa3f946b3",
   "metadata": {},
   "outputs": [
    {
     "name": "stdout",
     "output_type": "stream",
     "text": [
      "{1: 1, 2: 8, 3: 27, 4: 64, 5: 125}\n"
     ]
    }
   ],
   "source": [
    "cubes = {x: x**3 for x in range(1, 6)}\n",
    "print(cubes)"
   ]
  },
  {
   "cell_type": "markdown",
   "id": "95aea271-4214-45d8-968b-bfff8070f712",
   "metadata": {
    "id": "bea983a3"
   },
   "source": [
    "---\n",
    "\n",
    "### Exercise 46:\n",
    "Write a Python program that creates a new list containing only the unique elements of the list `[1, 2, 2, 3, 4, 4, 5]`.\n",
    "\n",
    "```python\n",
    "# Exercise 46\n",
    "```"
   ]
  },
  {
   "cell_type": "code",
   "execution_count": 17,
   "id": "15a166d7-9f8f-4d0c-a4d2-db73c1c47aff",
   "metadata": {},
   "outputs": [
    {
     "name": "stdout",
     "output_type": "stream",
     "text": [
      "[1, 2, 3, 4, 5]\n"
     ]
    }
   ],
   "source": [
    "numbers = [1, 2, 2, 3, 4, 4, 5]\n",
    "\n",
    "unique_numbers = list(set(numbers))\n",
    "\n",
    "print(unique_numbers)"
   ]
  },
  {
   "cell_type": "markdown",
   "id": "4a8a9a2a-e48c-47dc-963e-023458101203",
   "metadata": {
    "id": "bea983a3"
   },
   "source": [
    "---\n",
    "\n",
    "### Exercise 47:\n",
    "Write a Python function that takes a list of dictionaries and returns a list of the values for a given key.\n",
    "\n",
    "```python\n",
    "# Exercise 47\n",
    "```"
   ]
  },
  {
   "cell_type": "code",
   "execution_count": 18,
   "id": "edc0afc0-ae7d-4285-b90d-ea9c354885cb",
   "metadata": {},
   "outputs": [],
   "source": [
    "def get_values(dict_list, key):\n",
    "    \"\"\"Return a list of values for the given key from a list of dictionaries.\"\"\"\n",
    "    return [d[key] for d in dict_list if key in d]"
   ]
  },
  {
   "cell_type": "markdown",
   "id": "b931e152-7a82-4694-a5a1-3e2a0c2ae65e",
   "metadata": {
    "id": "bea983a3"
   },
   "source": [
    "---\n",
    "\n",
    "### Exercise 48:\n",
    "Write a Python function that uses a generator to yield the Fibonacci sequence up to `n` terms.\n",
    "\n",
    "```python\n",
    "# Exercise 48\n",
    "```"
   ]
  },
  {
   "cell_type": "code",
   "execution_count": 19,
   "id": "d03b0f6d-5da7-41d2-b070-92952b352a5a",
   "metadata": {},
   "outputs": [],
   "source": [
    "def fibonacci(n):\n",
    "    \"\"\"Yield the Fibonacci sequence up to n terms.\"\"\"\n",
    "    a, b = 0, 1\n",
    "    for _ in range(n):\n",
    "        yield a\n",
    "        a, b = b, a + b"
   ]
  },
  {
   "cell_type": "markdown",
   "id": "3b3007b3-416a-46d8-8825-d07348b3a14d",
   "metadata": {
    "id": "bea983a3"
   },
   "source": [
    "---\n",
    "\n",
    "### Exercise 49:\n",
    "Write a Python function that takes a string and returns a list of all unique characters in the string.\n",
    "\n",
    "```python\n",
    "# Exercise 49\n",
    "```"
   ]
  },
  {
   "cell_type": "code",
   "execution_count": 20,
   "id": "adda0036-ef13-4165-8ee2-8be282cf5acd",
   "metadata": {},
   "outputs": [],
   "source": [
    "def unique_characters(s):\n",
    "    \"\"\"Return a list of all unique characters in the string.\"\"\"\n",
    "    return list(set(s))"
   ]
  },
  {
   "cell_type": "markdown",
   "id": "f71d9811-bbb7-4799-bace-6ed3b726768d",
   "metadata": {
    "id": "bea983a3"
   },
   "source": [
    "---\n",
    "\n",
    "### Exercise 50:\n",
    "Write a Python function that merges two sorted lists into a single sorted list.\n",
    "\n",
    "```python\n",
    "# Exercise 50\n",
    "```"
   ]
  },
  {
   "cell_type": "code",
   "execution_count": 21,
   "id": "7492e203-84d0-4611-9550-5c03d46f157a",
   "metadata": {},
   "outputs": [],
   "source": [
    "def merge_sorted_lists(list1, list2):\n",
    "    \"\"\"Merge two sorted lists into a single sorted list.\"\"\"\n",
    "    merged = []\n",
    "    i = j = 0\n",
    "\n",
    "    while i < len(list1) and j < len(list2):\n",
    "        if list1[i] < list2[j]:\n",
    "            merged.append(list1[i])\n",
    "            i += 1\n",
    "        else:\n",
    "            merged.append(list2[j])\n",
    "            j += 1\n",
    "\n",
    "    merged.extend(list1[i:])\n",
    "    merged.extend(list2[j:])\n",
    "    return merged"
   ]
  },
  {
   "cell_type": "markdown",
   "id": "d30cb1ae-e525-481c-9a3f-b408833cd31d",
   "metadata": {
    "id": "bea983a3"
   },
   "source": [
    "---\n",
    "\n",
    "### Exercise 51:\n",
    "Use the\n",
    "\n",
    " `filter()` function to filter out odd numbers from the list `[1, 2, 3, 4, 5, 6]`.\n",
    "\n",
    "```python\n",
    "# Exercise 51\n",
    "```"
   ]
  },
  {
   "cell_type": "code",
   "execution_count": 23,
   "id": "fb2a8bc5-68ae-4701-a2f4-3b7886d0c915",
   "metadata": {},
   "outputs": [
    {
     "name": "stdout",
     "output_type": "stream",
     "text": [
      "[2, 4, 6]\n"
     ]
    }
   ],
   "source": [
    "numbers = [1, 2, 3, 4, 5, 6]\n",
    "\n",
    "even_numbers = list(filter(lambda x: x % 2 == 0, numbers))\n",
    "\n",
    "print(even_numbers)"
   ]
  },
  {
   "cell_type": "markdown",
   "id": "0385de1c-a253-437d-bd09-43f1c303e8e5",
   "metadata": {
    "id": "bea983a3"
   },
   "source": [
    "---\n",
    "\n",
    "### Exercise 52:\n",
    "Write a Python program that converts a list of tuples `[(1, 2), (3, 4), (5, 6)]` into a dictionary.\n",
    "\n",
    "```python\n",
    "# Exercise 52\n",
    "```"
   ]
  },
  {
   "cell_type": "code",
   "execution_count": 24,
   "id": "60f201ea-f73a-4471-8325-9aaf605a33d5",
   "metadata": {},
   "outputs": [
    {
     "name": "stdout",
     "output_type": "stream",
     "text": [
      "{1: 2, 3: 4, 5: 6}\n"
     ]
    }
   ],
   "source": [
    "pairs = [(1, 2), (3, 4), (5, 6)]\n",
    "\n",
    "result = dict(pairs)\n",
    "\n",
    "print(result)"
   ]
  },
  {
   "cell_type": "markdown",
   "id": "bbce3d86-3eec-4562-b68e-baadf3fcaf70",
   "metadata": {
    "id": "bea983a3"
   },
   "source": [
    "---\n",
    "\n",
    "### Exercise 53:\n",
    "Write a Python function that takes two sets and returns their symmetric difference.\n",
    "\n",
    "```python\n",
    "# Exercise 53\n",
    "```"
   ]
  },
  {
   "cell_type": "code",
   "execution_count": 25,
   "id": "ed6cae6f-655a-4787-90c1-909ae22bd5e9",
   "metadata": {},
   "outputs": [],
   "source": [
    "def symmetric_difference(set1, set2):\n",
    "    \"\"\"Return the symmetric difference of two sets.\"\"\"\n",
    "    return set1 ^ set2"
   ]
  },
  {
   "cell_type": "markdown",
   "id": "a5317ce0-9cfb-405c-8562-d34c5acf1740",
   "metadata": {
    "id": "bea983a3"
   },
   "source": [
    "---\n",
    "\n",
    "### Exercise 54:\n",
    "Write a Python program that finds the common elements in three lists `list1`, `list2`, and `list3`.\n",
    "\n",
    "```python\n",
    "# Exercise 54\n",
    "```"
   ]
  },
  {
   "cell_type": "code",
   "execution_count": 27,
   "id": "968bebe3-8092-483d-93e0-69dd51a8beaf",
   "metadata": {},
   "outputs": [],
   "source": [
    "common = list(set(list1).intersection(list2, list3))"
   ]
  },
  {
   "cell_type": "markdown",
   "id": "6b8aa097-3a80-4c94-8e73-fe94501c9de0",
   "metadata": {
    "id": "bea983a3"
   },
   "source": [
    "---\n",
    "\n",
    "### Exercise 55:\n",
    "Write a Python function that returns the factorial of a number using recursion.\n",
    "\n",
    "```python\n",
    "# Exercise 55\n",
    "```"
   ]
  },
  {
   "cell_type": "code",
   "execution_count": 28,
   "id": "e6a87052-4739-486f-9713-f634017807c4",
   "metadata": {},
   "outputs": [],
   "source": [
    "def factorial(n):\n",
    "    \"\"\"Return the factorial of a number using recursion.\"\"\"\n",
    "    if n == 0 or n == 1:\n",
    "        return 1\n",
    "    else:\n",
    "        return n * factorial(n - 1)"
   ]
  },
  {
   "cell_type": "markdown",
   "id": "f1d13f83-90d5-461f-a989-56cc2105f03d",
   "metadata": {
    "id": "bea983a3"
   },
   "source": [
    "---\n",
    "\n",
    "### Exercise 56:\n",
    "Write a Python program that removes all empty strings from the list `[\"apple\", \"\", \"banana\", \"\", \"cherry\"]`.\n",
    "\n",
    "```python\n",
    "# Exercise 56\n",
    "```"
   ]
  },
  {
   "cell_type": "code",
   "execution_count": 29,
   "id": "1e642a8d-66f5-408b-9ab8-88ed2ca20924",
   "metadata": {},
   "outputs": [
    {
     "name": "stdout",
     "output_type": "stream",
     "text": [
      "['apple', 'banana', 'cherry']\n"
     ]
    }
   ],
   "source": [
    "fruits = [\"apple\", \"\", \"banana\", \"\", \"cherry\"]\n",
    "\n",
    "cleaned_list = [fruit for fruit in fruits if fruit != \"\"]\n",
    "\n",
    "print(cleaned_list)"
   ]
  },
  {
   "cell_type": "markdown",
   "id": "68604052-813c-4005-9fbb-22bcb44d811f",
   "metadata": {
    "id": "bea983a3"
   },
   "source": [
    "---\n",
    "\n",
    "### Exercise 57:\n",
    "Write a Python function that takes a dictionary and returns a new dictionary with the keys and values swapped.\n",
    "\n",
    "```python\n",
    "# Exercise 57\n",
    "```"
   ]
  },
  {
   "cell_type": "code",
   "execution_count": 30,
   "id": "1590c7c0-cdff-4bbe-89ef-191b3ee63282",
   "metadata": {},
   "outputs": [],
   "source": [
    "def swap_keys_values(d):\n",
    "    \"\"\"Return a new dictionary with keys and values swapped.\"\"\"\n",
    "    return {value: key for key, value in d.items()}"
   ]
  },
  {
   "cell_type": "markdown",
   "id": "de1c3954-01d3-4536-9f88-701e7967719d",
   "metadata": {
    "id": "bea983a3"
   },
   "source": [
    "---\n",
    "\n",
    "### Exercise 58:\n",
    "Write a Python function that takes a list of integers and returns a new list with only the even numbers.\n",
    "\n",
    "```python\n",
    "# Exercise 58\n",
    "```"
   ]
  },
  {
   "cell_type": "code",
   "execution_count": 31,
   "id": "d0819c32-b0a5-41e1-bd6e-592cfc7eaa83",
   "metadata": {},
   "outputs": [],
   "source": [
    "def get_even_numbers(numbers):\n",
    "    \"\"\"Return a list containing only the even numbers.\"\"\"\n",
    "    return [num for num in numbers if num % 2 == 0]"
   ]
  },
  {
   "cell_type": "markdown",
   "id": "94392a4e-691f-4bb9-8c5d-f98cc892825c",
   "metadata": {
    "id": "bea983a3"
   },
   "source": [
    "---\n",
    "\n",
    "### Exercise 59:\n",
    "Write a Python function that takes a list of tuples and returns a list of the first elements of each tuple.\n",
    "\n",
    "```python\n",
    "# Exercise 59\n",
    "```"
   ]
  },
  {
   "cell_type": "code",
   "execution_count": 32,
   "id": "6c039c80-6e8f-4977-8467-c5f6e5bcaa40",
   "metadata": {},
   "outputs": [],
   "source": [
    "def get_first_elements(tuples_list):\n",
    "    \"\"\"Return a list of the first elements from each tuple.\"\"\"\n",
    "    return [t[0] for t in tuples_list]"
   ]
  },
  {
   "cell_type": "markdown",
   "id": "c897ee62-9a85-46e9-8ca7-9ce7b700e812",
   "metadata": {
    "id": "bea983a3"
   },
   "source": [
    "---\n",
    "\n",
    "### Exercise 60:\n",
    "Write a Python program that removes duplicates from a list without changing the order of elements.\n",
    "\n",
    "```python\n",
    "# Exercise 60\n",
    "```"
   ]
  },
  {
   "cell_type": "code",
   "execution_count": 33,
   "id": "b6c9fff7-4631-4cff-9328-161cdaff7c50",
   "metadata": {},
   "outputs": [
    {
     "name": "stdout",
     "output_type": "stream",
     "text": [
      "[1, 2, 3, 4, 5]\n"
     ]
    }
   ],
   "source": [
    "numbers = [1, 2, 2, 3, 4, 4, 5]\n",
    "\n",
    "unique_numbers = []\n",
    "for num in numbers:\n",
    "    if num not in unique_numbers:\n",
    "        unique_numbers.append(num)\n",
    "\n",
    "print(unique_numbers)"
   ]
  },
  {
   "cell_type": "markdown",
   "id": "1c182371-6d17-4c4e-bf85-c957639ce3df",
   "metadata": {
    "id": "bea983a3"
   },
   "source": [
    "---\n",
    "\n",
    "### Exercise 61:\n",
    "Use the `map()` function to convert a list of strings to a list of their lengths.\n",
    "\n",
    "```python\n",
    "# Exercise 61\n",
    "```"
   ]
  },
  {
   "cell_type": "code",
   "execution_count": 34,
   "id": "f027a448-d245-4e60-8c72-9b05a0148295",
   "metadata": {},
   "outputs": [
    {
     "name": "stdout",
     "output_type": "stream",
     "text": [
      "[5, 6, 6]\n"
     ]
    }
   ],
   "source": [
    "words = [\"apple\", \"banana\", \"cherry\"]\n",
    "\n",
    "lengths = list(map(len, words))\n",
    "\n",
    "print(lengths)"
   ]
  },
  {
   "cell_type": "markdown",
   "id": "2c74f4e5-db62-4c55-8e7a-12cf4c13e05d",
   "metadata": {
    "id": "bea983a3"
   },
   "source": [
    "---\n",
    "\n",
    "### Exercise 62:\n",
    "Write a Python program that calculates the average of a list of numbers.\n",
    "\n",
    "```python\n",
    "# Exercise 62\n",
    "```"
   ]
  },
  {
   "cell_type": "code",
   "execution_count": 35,
   "id": "180e9cb7-7aeb-4700-877b-b307c80d2697",
   "metadata": {},
   "outputs": [
    {
     "name": "stdout",
     "output_type": "stream",
     "text": [
      "Average: 30.0\n"
     ]
    }
   ],
   "source": [
    "numbers = [10, 20, 30, 40, 50]\n",
    "\n",
    "average = sum(numbers) / len(numbers)\n",
    "\n",
    "print(\"Average:\", average)"
   ]
  },
  {
   "cell_type": "markdown",
   "id": "8cdca347-e562-4b09-8418-aa37b542aea2",
   "metadata": {
    "id": "bea983a3"
   },
   "source": [
    "---\n",
    "\n",
    "### Exercise 63:\n",
    "Write a Python function that generates a list of the first `n` Fibonacci numbers.\n",
    "\n",
    "```python\n",
    "# Exercise 63\n",
    "```"
   ]
  },
  {
   "cell_type": "code",
   "execution_count": 36,
   "id": "c321d4de-064f-4659-ad41-cc33ab0d8a4b",
   "metadata": {},
   "outputs": [],
   "source": [
    "def fibonacci_list(n):\n",
    "    \"\"\"Return a list of the first n Fibonacci numbers.\"\"\"\n",
    "    fib = [0, 1]\n",
    "    for i in range(2, n):\n",
    "        fib.append(fib[-1] + fib[-2])\n",
    "    return fib[:n]"
   ]
  },
  {
   "cell_type": "markdown",
   "id": "65db4c82-fed9-4d41-b40e-173529cb7b23",
   "metadata": {
    "id": "bea983a3"
   },
   "source": [
    "---\n",
    "\n",
    "### Exercise 64:\n",
    "Write a Python program that counts how many times each element appears in the list `[\"apple\", \"banana\", \"apple\", \"cherry\"]`.\n",
    "\n",
    "```python\n",
    "# Exercise 64\n",
    "```"
   ]
  },
  {
   "cell_type": "code",
   "execution_count": 37,
   "id": "3f65a1ee-aebe-4ee0-8409-de799fc51c65",
   "metadata": {},
   "outputs": [
    {
     "name": "stdout",
     "output_type": "stream",
     "text": [
      "{'apple': 2, 'banana': 1, 'cherry': 1}\n"
     ]
    }
   ],
   "source": [
    "fruits = [\"apple\", \"banana\", \"apple\", \"cherry\"]\n",
    "\n",
    "counts = {}\n",
    "for fruit in fruits:\n",
    "    counts[fruit] = counts.get(fruit, 0) + 1\n",
    "\n",
    "print(counts)"
   ]
  },
  {
   "cell_type": "markdown",
   "id": "f1253a98-92da-4e48-9fa0-156d8c558f13",
   "metadata": {
    "id": "bea983a3"
   },
   "source": [
    "---\n",
    "\n",
    "### Exercise 65:\n",
    "Write a Python program that removes all occurrences of a specific value from a list.\n",
    "\n",
    "```python\n",
    "# Exercise 65\n",
    "```"
   ]
  },
  {
   "cell_type": "code",
   "execution_count": 38,
   "id": "762a06b1-61a9-496d-9ff9-21aafaabdf23",
   "metadata": {},
   "outputs": [
    {
     "name": "stdout",
     "output_type": "stream",
     "text": [
      "[1, 3, 4, 5]\n"
     ]
    }
   ],
   "source": [
    "numbers = [1, 2, 3, 2, 4, 2, 5]\n",
    "value_to_remove = 2\n",
    "\n",
    "result = [num for num in numbers if num != value_to_remove]\n",
    "\n",
    "print(result)"
   ]
  },
  {
   "cell_type": "markdown",
   "id": "cf1103c9-e63f-45b2-8455-67a6523d2623",
   "metadata": {
    "id": "bea983a3"
   },
   "source": [
    "---\n",
    "\n",
    "### Exercise 66:\n",
    "Write a Python function that takes a list of strings and returns a list of the strings that start with a vowel.\n",
    "\n",
    "```python\n",
    "# Exercise 66\n",
    "```"
   ]
  },
  {
   "cell_type": "code",
   "execution_count": 39,
   "id": "ccebadbd-a00f-413c-8bcd-f539b30a9a78",
   "metadata": {},
   "outputs": [],
   "source": [
    "def strings_starting_with_vowel(words):\n",
    "    \"\"\"Return a list of strings that start with a vowel.\"\"\"\n",
    "    vowels = ('a', 'e', 'i', 'o', 'u')\n",
    "    return [word for word in words if word.lower().startswith(vowels)]"
   ]
  },
  {
   "cell_type": "markdown",
   "id": "22d83e58-05b6-4895-8c7b-718d20c12523",
   "metadata": {
    "id": "bea983a3"
   },
   "source": [
    "---\n",
    "\n",
    "### Exercise 67:\n",
    "Write a Python program that finds the intersection of two sets `set1` and `set2`.\n",
    "\n",
    "```python\n",
    "# Exercise 67\n",
    "```"
   ]
  },
  {
   "cell_type": "code",
   "execution_count": 44,
   "id": "598796bb-171c-4683-a10c-ae239e6f77ec",
   "metadata": {},
   "outputs": [
    {
     "name": "stdout",
     "output_type": "stream",
     "text": [
      "{3, 4, 5}\n"
     ]
    }
   ],
   "source": [
    "set1 = {1, 2, 3, 4, 5}\n",
    "set2 = {3, 4, 5, 6, 7}\n",
    "\n",
    "intersection = set1 & set2\n",
    "\n",
    "print(intersection)"
   ]
  },
  {
   "cell_type": "markdown",
   "id": "c7ca450e-ac3a-4912-8323-e8c61eb66fe6",
   "metadata": {
    "id": "bea983a3"
   },
   "source": [
    "---\n",
    "\n",
    "### Exercise 68:\n",
    "Write a Python function that flattens a nested list.\n",
    "\n",
    "```python\n",
    "# Exercise 68\n",
    "```"
   ]
  },
  {
   "cell_type": "code",
   "execution_count": 45,
   "id": "35611005-3a40-48f8-bf73-c049d42d6dcb",
   "metadata": {},
   "outputs": [],
   "source": [
    "def flatten_list(nested_list):\n",
    "    \"\"\"Return a flattened version of a nested list.\"\"\"\n",
    "    flat = []\n",
    "    for item in nested_list:\n",
    "        if isinstance(item, list):\n",
    "            flat.extend(flatten_list(item))  \n",
    "        else:\n",
    "            flat.append(item)\n",
    "    return flat"
   ]
  },
  {
   "cell_type": "markdown",
   "id": "20d80c30-a67a-4119-bc7e-166a9db0afa6",
   "metadata": {
    "id": "bea983a3"
   },
   "source": [
    "---\n",
    "\n",
    "### Exercise 69:\n",
    "Write a Python program that checks if all the elements in a list are unique.\n",
    "\n",
    "```python\n",
    "# Exercise 69\n",
    "```"
   ]
  },
  {
   "cell_type": "code",
   "execution_count": 46,
   "id": "532e04f7-e032-4c12-93dc-75200f9283ad",
   "metadata": {},
   "outputs": [
    {
     "name": "stdout",
     "output_type": "stream",
     "text": [
      "True\n"
     ]
    }
   ],
   "source": [
    "numbers = [1, 2, 3, 4, 5]\n",
    "\n",
    "is_unique = len(numbers) == len(set(numbers))\n",
    "\n",
    "print(is_unique)"
   ]
  },
  {
   "cell_type": "markdown",
   "id": "226cd297-6ef2-45d6-ac22-687f6d1b5253",
   "metadata": {
    "id": "bea983a3"
   },
   "source": [
    "---\n",
    "\n",
    "### Exercise 70:\n",
    "Use the `reduce()` function from the `functools` module to multiply all elements in a list.\n",
    "\n",
    "```python\n",
    "# Exercise 70\n",
    "```"
   ]
  },
  {
   "cell_type": "code",
   "execution_count": 47,
   "id": "3b7468db-fad6-43e6-9eba-966019d60906",
   "metadata": {},
   "outputs": [
    {
     "name": "stdout",
     "output_type": "stream",
     "text": [
      "120\n"
     ]
    }
   ],
   "source": [
    "from functools import reduce\n",
    "\n",
    "numbers = [1, 2, 3, 4, 5]\n",
    "\n",
    "product = reduce(lambda x, y: x * y, numbers)\n",
    "\n",
    "print(product)"
   ]
  },
  {
   "cell_type": "markdown",
   "id": "65998847-2986-4a23-a2e3-c67c63501ae9",
   "metadata": {
    "id": "bea983a3"
   },
   "source": [
    "---\n",
    "\n",
    "### Exercise 71:\n",
    "Write a Python function that takes a list of strings and returns a dictionary where keys are strings and values are their lengths.\n",
    "\n",
    "```python\n",
    "# Exercise 71\n",
    "```"
   ]
  },
  {
   "cell_type": "code",
   "execution_count": 48,
   "id": "5906e451-c54e-4ed8-ba62-94f4169b37e1",
   "metadata": {},
   "outputs": [],
   "source": [
    "def strings_to_length_dict(strings):\n",
    "    \"\"\"Return a dictionary where keys are strings and values are their lengths.\"\"\"\n",
    "    return {s: len(s) for s in strings}"
   ]
  },
  {
   "cell_type": "markdown",
   "id": "a8a9d09a-fa7a-4416-a786-cb710e998610",
   "metadata": {
    "id": "bea983a3"
   },
   "source": [
    "---\n",
    "\n",
    "### Exercise 72:\n",
    "Write a Python program that counts the number of vowels in a string.\n",
    "\n",
    "```python\n",
    "# Exercise 72\n",
    "```"
   ]
  },
  {
   "cell_type": "code",
   "execution_count": 49,
   "id": "5f6561b1-4455-4b9b-8395-fd97d564af6b",
   "metadata": {},
   "outputs": [],
   "source": [
    "def count_vowels(s):\n",
    "    vowels = {'a', 'e', 'i', 'o', 'u'}\n",
    "    return sum(1 for ch in s.lower() if ch in vowels)"
   ]
  },
  {
   "cell_type": "markdown",
   "id": "7a37f22c-7096-4940-8b52-d20853a583e1",
   "metadata": {
    "id": "bea983a3"
   },
   "source": [
    "---\n",
    "\n",
    "### Exercise 73:\n",
    "Create a list of tuples where each tuple contains a number from 1 to 5 and its factorial.\n",
    "\n",
    "```python\n",
    "# Exercise 73\n",
    "```"
   ]
  },
  {
   "cell_type": "code",
   "execution_count": 50,
   "id": "b84f507e-d6b3-4e83-a000-28aea8a8697e",
   "metadata": {},
   "outputs": [
    {
     "name": "stdout",
     "output_type": "stream",
     "text": [
      "[(1, 1), (2, 2), (3, 6), (4, 24), (5, 120)]\n"
     ]
    }
   ],
   "source": [
    "import math\n",
    "\n",
    "factorials = [(x, math.factorial(x)) for x in range(1, 6)]\n",
    "print(factorials)"
   ]
  },
  {
   "cell_type": "markdown",
   "id": "881b7548-f58f-4836-a310-f25e87a128ee",
   "metadata": {
    "id": "bea983a3"
   },
   "source": [
    "---\n",
    "\n",
    "### Exercise 74:\n",
    "Write a Python program that converts a list of dictionaries into a single dictionary by merging them.\n",
    "\n",
    "```python\n",
    "# Exercise 74\n",
    "```"
   ]
  },
  {
   "cell_type": "code",
   "execution_count": 51,
   "id": "dfd60346-3062-47e3-a291-c1a9210e7cf3",
   "metadata": {},
   "outputs": [
    {
     "name": "stdout",
     "output_type": "stream",
     "text": [
      "{'a': 1, 'b': 2, 'c': 3}\n"
     ]
    }
   ],
   "source": [
    "dicts = [{\"a\": 1}, {\"b\": 2}, {\"c\": 3}]\n",
    "\n",
    "merged_dict = {}\n",
    "for d in dicts:\n",
    "    merged_dict.update(d)\n",
    "\n",
    "print(merged_dict)"
   ]
  },
  {
   "cell_type": "markdown",
   "id": "d237484c-4682-42a9-996d-6fa120f4076f",
   "metadata": {
    "id": "bea983a3"
   },
   "source": [
    "---\n",
    "\n",
    "### Exercise 75:\n",
    "Write a Python function that checks if a set is a subset of another set.\n",
    "\n",
    "```python\n",
    "# Exercise 75\n",
    "```"
   ]
  },
  {
   "cell_type": "code",
   "execution_count": 52,
   "id": "94b9a986-550f-4c7b-8c61-6447fe398ef9",
   "metadata": {},
   "outputs": [],
   "source": [
    "def is_subset(set1, set2):\n",
    "    \"\"\"Return True if set1 is a subset of set2.\"\"\"\n",
    "    return set1.issubset(set2)"
   ]
  },
  {
   "cell_type": "markdown",
   "id": "a9f0dabb-2a7a-4e0e-9b82-95e7070b0f0b",
   "metadata": {
    "id": "bea983a3"
   },
   "source": [
    "---\n",
    "\n",
    "### Exercise 76:\n",
    "Write a Python program that sorts a list of tuples based on the second element in each tuple.\n",
    "\n",
    "```python\n",
    "# Exercise 76\n",
    "```"
   ]
  },
  {
   "cell_type": "code",
   "execution_count": 54,
   "id": "a41d25ad-b74f-48b6-9099-936728cd0ccb",
   "metadata": {},
   "outputs": [
    {
     "name": "stdout",
     "output_type": "stream",
     "text": [
      "[(2, 1), (4, 2), (1, 3), (3, 5)]\n"
     ]
    }
   ],
   "source": [
    "data = [(1, 3), (2, 1), (4, 2), (3, 5)]\n",
    "\n",
    "sorted_data = sorted(data, key=lambda x: x[1])\n",
    "\n",
    "print(sorted_data)"
   ]
  },
  {
   "cell_type": "markdown",
   "id": "23b68d51-27a6-4f23-9e95-bfc1f314b50d",
   "metadata": {
    "id": "bea983a3"
   },
   "source": [
    "---\n",
    "\n",
    "### Exercise 77:\n",
    "Write a Python function that takes a list of integers and returns a new list with only the positive integers.\n",
    "\n",
    "```python\n",
    "# Exercise 77\n",
    "```"
   ]
  },
  {
   "cell_type": "code",
   "execution_count": 55,
   "id": "51d3845d-f978-4887-a314-c561ec343fb8",
   "metadata": {},
   "outputs": [],
   "source": [
    "def get_positive_numbers(numbers):\n",
    "    \"\"\"Return a list containing only positive integers.\"\"\"\n",
    "    return [n for n in numbers if n > 0]"
   ]
  },
  {
   "cell_type": "markdown",
   "id": "d3f61348-c920-497a-ae98-aeec69e2fdcc",
   "metadata": {
    "id": "bea983a3"
   },
   "source": [
    "---\n",
    "\n",
    "### Exercise 78:\n",
    "Write a Python function that takes two sets and returns their union.\n",
    "\n",
    "```python\n",
    "# Exercise 78\n",
    "```"
   ]
  },
  {
   "cell_type": "code",
   "execution_count": 56,
   "id": "efbf7487-14dd-42ee-af5a-8a51e7bb4218",
   "metadata": {},
   "outputs": [],
   "source": [
    "def union_sets(set1, set2):\n",
    "    \"\"\"Return the union of two sets.\"\"\"\n",
    "    return set1.union(set2)"
   ]
  },
  {
   "cell_type": "markdown",
   "id": "55e07fcf-9464-4e7d-9b72-c760fe581d05",
   "metadata": {
    "id": "bea983a3"
   },
   "source": [
    "---\n",
    "\n",
    "### Exercise 79:\n",
    "Write a Python function that takes a list of numbers and returns the product of all the numbers.\n",
    "\n",
    "```python\n",
    "# Exercise 79\n",
    "```"
   ]
  },
  {
   "cell_type": "code",
   "execution_count": 57,
   "id": "e745193d-ad46-417b-ab9e-649ec036f3d5",
   "metadata": {},
   "outputs": [],
   "source": [
    "from functools import reduce\n",
    "\n",
    "def product_of_list(numbers):\n",
    "    \"\"\"Return the product of all numbers in the list.\"\"\"\n",
    "    return reduce(lambda x, y: x * y, numbers)"
   ]
  },
  {
   "cell_type": "markdown",
   "id": "ebff953a-3a59-4d2c-897f-743a18fd659a",
   "metadata": {
    "id": "bea983a3"
   },
   "source": [
    "---\n",
    "\n",
    "### Exercise 80:\n",
    "Write a Python program that converts a list of characters into a string.\n",
    "\n",
    "```python\n",
    "# Exercise 80\n",
    "```"
   ]
  },
  {
   "cell_type": "code",
   "execution_count": 59,
   "id": "e7d0b1ff-d34b-42e6-a6d9-43fe795aed53",
   "metadata": {},
   "outputs": [
    {
     "name": "stdout",
     "output_type": "stream",
     "text": [
      "Holla\n"
     ]
    }
   ],
   "source": [
    "chars = ['H', 'o', 'l', 'l', 'a']\n",
    "\n",
    "# Convert list of characters to string\n",
    "result = ''.join(chars)\n",
    "\n",
    "print(result)"
   ]
  },
  {
   "cell_type": "markdown",
   "id": "27f5d8dc-64ae-4867-96d7-c38aad13d521",
   "metadata": {
    "id": "bea983a3"
   },
   "source": [
    "---\n",
    "\n",
    "### Exercise 81:\n",
    "Write a Python program that finds the second largest number in a list of integers.\n",
    "\n",
    "```python\n",
    "# Exercise 81\n",
    "```"
   ]
  },
  {
   "cell_type": "code",
   "execution_count": 60,
   "id": "660688be-5241-4be6-88e7-8754c7ea4cc7",
   "metadata": {},
   "outputs": [
    {
     "name": "stdout",
     "output_type": "stream",
     "text": [
      "Second largest number is: 45\n"
     ]
    }
   ],
   "source": [
    "numbers = [10, 20, 4, 45, 99]\n",
    "\n",
    "unique_numbers = list(set(numbers))\n",
    "unique_numbers.sort()\n",
    "\n",
    "second_largest = unique_numbers[-2]\n",
    "\n",
    "print(\"Second largest number is:\", second_largest)"
   ]
  },
  {
   "cell_type": "markdown",
   "id": "60190370-e774-44d3-9a02-b457286ad8b4",
   "metadata": {
    "id": "bea983a3"
   },
   "source": [
    "---\n",
    "\n",
    "### Exercise 82:\n",
    "Write a Python function that takes a dictionary and returns a list of its keys in sorted order.\n",
    "\n",
    "```python\n",
    "# Exercise 82\n",
    "```"
   ]
  },
  {
   "cell_type": "code",
   "execution_count": 61,
   "id": "69422d2d-054a-4f76-9f57-e60ce9115ef1",
   "metadata": {},
   "outputs": [],
   "source": [
    "def get_sorted_keys(d):\n",
    "    \"\"\"Return a list of dictionary keys in sorted order.\"\"\"\n",
    "    return sorted(d.keys())"
   ]
  },
  {
   "cell_type": "markdown",
   "id": "be040f4d-8a55-4d54-ac56-8a15e511bf14",
   "metadata": {
    "id": "bea983a3"
   },
   "source": [
    "---\n",
    "\n",
    "### Exercise 83:\n",
    "Write a Python program that finds the most common element in a list.\n",
    "\n",
    "```python\n",
    "# Exercise 83\n",
    "```"
   ]
  },
  {
   "cell_type": "code",
   "execution_count": 62,
   "id": "76c3580c-c463-470b-a854-7421d2d5044f",
   "metadata": {},
   "outputs": [
    {
     "name": "stdout",
     "output_type": "stream",
     "text": [
      "Most common element: 2\n"
     ]
    }
   ],
   "source": [
    "from collections import Counter\n",
    "\n",
    "numbers = [1, 2, 3, 2, 4, 2, 5, 3]\n",
    "\n",
    "counter = Counter(numbers)\n",
    "\n",
    "most_common = counter.most_common(1)[0][0]\n",
    "\n",
    "print(\"Most common element:\", most_common)"
   ]
  },
  {
   "cell_type": "markdown",
   "id": "56a69cc1-77af-4dd1-8369-0bdd921f8147",
   "metadata": {
    "id": "bea983a3"
   },
   "source": [
    "---\n",
    "\n",
    "### Exercise 84:\n",
    "Write a Python function that takes a list of tuples and returns a list of the tuples sorted by the first element.\n",
    "\n",
    "```python\n",
    "# Exercise 84\n",
    "```"
   ]
  },
  {
   "cell_type": "code",
   "execution_count": 63,
   "id": "4d750e31-070f-47c3-a3f2-45041d6d8461",
   "metadata": {},
   "outputs": [],
   "source": [
    "def sort_by_first_element(tuples_list):\n",
    "    \"\"\"Return a list of tuples sorted by the first element.\"\"\"\n",
    "    return sorted(tuples_list, key=lambda x: x[0])"
   ]
  },
  {
   "cell_type": "markdown",
   "id": "cc42070b-003f-451e-8e84-3648b5087e09",
   "metadata": {
    "id": "bea983a3"
   },
   "source": [
    "---\n",
    "\n",
    "### Exercise 85:\n",
    "Write a Python program that removes duplicates from a list of dictionaries.\n",
    "\n",
    "```python\n",
    "# Exercise 85\n",
    "```"
   ]
  },
  {
   "cell_type": "code",
   "execution_count": 65,
   "id": "de9763b8-a2dd-4e4b-9ea0-5d1e1b6e8c1d",
   "metadata": {},
   "outputs": [
    {
     "name": "stdout",
     "output_type": "stream",
     "text": [
      "[{'name': 'Alice', 'age': 25}, {'name': 'Bob', 'age': 30}, {'name': 'Charlie', 'age': 35}]\n"
     ]
    }
   ],
   "source": [
    "data = [ {\"name\": \"Alice\", \"age\": 25},\n",
    "    {\"name\": \"Bob\", \"age\": 30},\n",
    "    {\"name\": \"Alice\", \"age\": 25},  \n",
    "    {\"name\": \"Charlie\", \"age\": 35},\n",
    "    {\"name\": \"Bob\", \"age\": 30}     \n",
    "]\n",
    "\n",
    "unique_dicts = []\n",
    "for d in data:\n",
    "    if d not in unique_dicts:\n",
    "        unique_dicts.append(d)\n",
    "\n",
    "print(unique_dicts)"
   ]
  },
  {
   "cell_type": "markdown",
   "id": "14310adc-b754-4dd8-ad42-b271edd51787",
   "metadata": {
    "id": "bea983a3"
   },
   "source": [
    "---\n",
    "\n",
    "### Exercise 86:\n",
    "Write a Python function that takes a list of numbers and returns the minimum and maximum numbers in the list.\n",
    "\n",
    "```python\n",
    "# Exercise 86\n",
    "```"
   ]
  },
  {
   "cell_type": "code",
   "execution_count": 66,
   "id": "780ef6cf-8752-4865-b749-988cf17e7393",
   "metadata": {},
   "outputs": [],
   "source": [
    "def find_min_max(numbers):\n",
    "    \"\"\"Return the minimum and maximum numbers in the list.\"\"\"\n",
    "    return min(numbers), max(numbers)"
   ]
  },
  {
   "cell_type": "markdown",
   "id": "655ec64b-f745-47b1-9923-5f09a8c725d5",
   "metadata": {
    "id": "bea983a3"
   },
   "source": [
    "---\n",
    "\n",
    "### Exercise 87:\n",
    "Write a Python program that creates a list of tuples from two lists.\n",
    "\n",
    "```python\n",
    "# Exercise 87\n",
    "```"
   ]
  },
  {
   "cell_type": "code",
   "execution_count": 67,
   "id": "56d6714b-7fc2-4622-903e-ff8ff14f6703",
   "metadata": {},
   "outputs": [
    {
     "name": "stdout",
     "output_type": "stream",
     "text": [
      "[(1, 'a'), (2, 'b'), (3, 'c')]\n"
     ]
    }
   ],
   "source": [
    "list1 = [1, 2, 3]\n",
    "list2 = ['a', 'b', 'c']\n",
    "\n",
    "result = list(zip(list1, list2))\n",
    "\n",
    "print(result)"
   ]
  },
  {
   "cell_type": "markdown",
   "id": "cc117e81-33fc-42d9-a4cc-6f9adf8c14b0",
   "metadata": {
    "id": "bea983a3"
   },
   "source": [
    "---\n",
    "\n",
    "### Exercise 88:\n",
    "Write a Python function that takes a list of strings and returns a list of the strings in reverse order.\n",
    "\n",
    "```python\n",
    "# Exercise 88\n",
    "```"
   ]
  },
  {
   "cell_type": "code",
   "execution_count": 68,
   "id": "705c5637-d84b-4c8a-bf18-185824f8ac41",
   "metadata": {},
   "outputs": [],
   "source": [
    "def reverse_strings(strings):\n",
    "    \"\"\"Return a list of the strings in reverse order.\"\"\"\n",
    "    return [s[::-1] for s in strings]"
   ]
  },
  {
   "cell_type": "markdown",
   "id": "5f26f755-cc71-469e-8421-224fccc57153",
   "metadata": {
    "id": "bea983a3"
   },
   "source": [
    "---\n",
    "\n",
    "### Exercise 89:\n",
    "Write a Python function that takes a list of integers and returns the sum of all odd numbers.\n",
    "\n",
    "```python\n",
    "# Exercise 89\n",
    "```"
   ]
  },
  {
   "cell_type": "code",
   "execution_count": 69,
   "id": "0770ac15-a4c4-4964-8b69-2d68cb237d1c",
   "metadata": {},
   "outputs": [],
   "source": [
    "def sum_of_odds(numbers):\n",
    "    \"\"\"Return the sum of all odd numbers in the list.\"\"\"\n",
    "    return sum(n for n in numbers if n % 2 != 0)"
   ]
  },
  {
   "cell_type": "markdown",
   "id": "b17e7a3f-e204-42cf-a5c7-063b4c9f87f4",
   "metadata": {
    "id": "bea983a3"
   },
   "source": [
    "---\n",
    "\n",
    "### Exercise 90:\n",
    "Write a Python program that checks if a string is a palindrome.\n",
    "\n",
    "```python\n",
    "# Exercise 90\n",
    "```"
   ]
  },
  {
   "cell_type": "code",
   "execution_count": 71,
   "id": "6fc5030f-fdc3-4852-a0ba-5e3743e91c74",
   "metadata": {},
   "outputs": [
    {
     "name": "stdout",
     "output_type": "stream",
     "text": [
      "The string is not a palindrome.\n"
     ]
    }
   ],
   "source": [
    "text = \"sir\"\n",
    "\n",
    "text = text.lower()\n",
    "\n",
    "if text == text[::-1]:\n",
    "    print(\"The string is a palindrome.\")\n",
    "else:\n",
    "    print(\"The string is not a palindrome.\")\n"
   ]
  },
  {
   "cell_type": "markdown",
   "id": "af807b60-bcfa-4d1a-98ed-dd01c43a544c",
   "metadata": {
    "id": "bea983a3"
   },
   "source": [
    "---\n",
    "\n",
    "### Exercise 91:\n",
    "Write a Python program that finds the median of a list of numbers.\n",
    "\n",
    "```python\n",
    "# Exercise 91\n",
    "```"
   ]
  },
  {
   "cell_type": "code",
   "execution_count": 72,
   "id": "dd07aec4-7dfb-4c24-bbdd-45c61e32581e",
   "metadata": {},
   "outputs": [
    {
     "name": "stdout",
     "output_type": "stream",
     "text": [
      "Median: 3\n"
     ]
    }
   ],
   "source": [
    "numbers = [3, 1, 4, 2, 5]\n",
    "\n",
    "numbers.sort()\n",
    "\n",
    "n = len(numbers)\n",
    "mid = n // 2\n",
    "\n",
    "if n % 2 == 0:\n",
    "    median = (numbers[mid - 1] + numbers[mid]) / 2\n",
    "else:\n",
    "    median = numbers[mid]\n",
    "\n",
    "print(\"Median:\", median)"
   ]
  },
  {
   "cell_type": "markdown",
   "id": "1aaebd9b-fa66-4c07-a81e-194b7bc09b31",
   "metadata": {
    "id": "bea983a3"
   },
   "source": [
    "---\n",
    "\n",
    "### Exercise 92:\n",
    "Write a Python function that takes a list of dictionaries and returns a dictionary with the total value for each key.\n",
    "\n",
    "```python\n",
    "# Exercise 92\n",
    "```"
   ]
  },
  {
   "cell_type": "code",
   "execution_count": 73,
   "id": "4b845b7c-1e38-4c03-b53b-4702fee9d43d",
   "metadata": {},
   "outputs": [],
   "source": [
    "def sum_dict_values(dict_list):\n",
    "    \"\"\"Return a dictionary with the total value for each key.\"\"\"\n",
    "    total = {}\n",
    "    for d in dict_list:\n",
    "        for key, value in d.items():\n",
    "            total[key] = total.get(key, 0) + value\n",
    "    return total"
   ]
  },
  {
   "cell_type": "markdown",
   "id": "1b0bab6a-06bd-4583-91cd-9a0451fc35b6",
   "metadata": {
    "id": "bea983a3"
   },
   "source": [
    "---\n",
    "\n",
    "### Exercise 93:\n",
    "Write a Python program that calculates the mode of a list of numbers.\n",
    "\n",
    "```python\n",
    "# Exercise 93\n",
    "```"
   ]
  },
  {
   "cell_type": "code",
   "execution_count": 74,
   "id": "373aed8a-7f19-4f70-8fa8-1b3ce026fbc9",
   "metadata": {},
   "outputs": [
    {
     "name": "stdout",
     "output_type": "stream",
     "text": [
      "Mode: [4]\n"
     ]
    }
   ],
   "source": [
    "from collections import Counter\n",
    "\n",
    "numbers = [1, 2, 2, 3, 4, 4, 4, 5]\n",
    "\n",
    "counter = Counter(numbers)\n",
    "\n",
    "mode = [k for k, v in counter.items() if v == max(counter.values())]\n",
    "\n",
    "print(\"Mode:\", mode)"
   ]
  },
  {
   "cell_type": "markdown",
   "id": "85538919-0c3d-4420-883b-a1a376ca34b7",
   "metadata": {
    "id": "bea983a3"
   },
   "source": [
    "---\n",
    "\n",
    "### Exercise 94:\n",
    "Write a Python function that takes a list of numbers and returns the sum of the squares of all the numbers.\n",
    "\n",
    "```python\n",
    "# Exercise 94\n",
    "```"
   ]
  },
  {
   "cell_type": "code",
   "execution_count": 75,
   "id": "e6405705-7aa5-4f86-88aa-0da94cf84931",
   "metadata": {},
   "outputs": [],
   "source": [
    "def sum_of_squares(numbers):\n",
    "    \"\"\"Return the sum of the squares of all numbers in the list.\"\"\"\n",
    "    return sum(n**2 for n in numbers)"
   ]
  },
  {
   "cell_type": "markdown",
   "id": "c3ea0eb0-8bec-4665-acab-71b4f3d30c03",
   "metadata": {
    "id": "bea983a3"
   },
   "source": [
    "---\n",
    "\n",
    "### Exercise 95:\n",
    "Write a Python program that creates a list of tuples, where each tuple contains a number and its cube for numbers from 1 to 5.\n",
    "\n",
    "```python\n",
    "# Exercise 95\n",
    "```"
   ]
  },
  {
   "cell_type": "code",
   "execution_count": 76,
   "id": "af9b2eff-d50a-4672-8796-5e559932c3cf",
   "metadata": {},
   "outputs": [
    {
     "name": "stdout",
     "output_type": "stream",
     "text": [
      "[(1, 1), (2, 8), (3, 27), (4, 64), (5, 125)]\n"
     ]
    }
   ],
   "source": [
    "cubes = [(x, x**3) for x in range(1, 6)]\n",
    "\n",
    "print(cubes)"
   ]
  },
  {
   "cell_type": "markdown",
   "id": "37b3aabf-a2f7-42da-a289-6235d547e96e",
   "metadata": {
    "id": "bea983a3"
   },
   "source": [
    "---\n",
    "\n",
    "### Exercise 96:\n",
    "Write a Python function that returns a list of all prime numbers up to `n`.\n",
    "\n",
    "```python\n",
    "# Exercise 96\n",
    "```"
   ]
  },
  {
   "cell_type": "code",
   "execution_count": 77,
   "id": "de4e9299-7902-4c94-9389-66c30da228bb",
   "metadata": {},
   "outputs": [],
   "source": [
    "def primes_up_to(n):\n",
    "    \"\"\"Return a list of all prime numbers up to n.\"\"\"\n",
    "    primes = []\n",
    "    for num in range(2, n + 1):\n",
    "        # Check if num is prime\n",
    "        if all(num % i != 0 for i in range(2, int(num**0.5) + 1)):\n",
    "            primes.append(num)\n",
    "    return primes"
   ]
  },
  {
   "cell_type": "markdown",
   "id": "04e59636-6fff-4318-88f8-34367ddd2897",
   "metadata": {
    "id": "bea983a3"
   },
   "source": [
    "---\n",
    "\n",
    "### Exercise 97:\n",
    "Write a Python program that finds the common keys between two dictionaries.\n",
    "\n",
    "```python\n",
    "# Exercise 97\n",
    "```"
   ]
  },
  {
   "cell_type": "code",
   "execution_count": 78,
   "id": "7a3eaf32-4116-4399-996e-047078dcbade",
   "metadata": {},
   "outputs": [
    {
     "name": "stdout",
     "output_type": "stream",
     "text": [
      "Common keys: {'b', 'c'}\n"
     ]
    }
   ],
   "source": [
    "dict1 = {\"a\": 1, \"b\": 2, \"c\": 3}\n",
    "dict2 = {\"b\": 4, \"c\": 5, \"d\": 6}\n",
    "\n",
    "# Find common keys\n",
    "common_keys = set(dict1.keys()) & set(dict2.keys())\n",
    "\n",
    "print(\"Common keys:\", common_keys)"
   ]
  },
  {
   "cell_type": "markdown",
   "id": "6d5143fb-1527-4276-8c81-603edf42aa5c",
   "metadata": {
    "id": "bea983a3"
   },
   "source": [
    "---\n",
    "\n",
    "### Exercise 98:\n",
    "Write a Python function that takes a list of strings and returns a list of the strings that contain more than 5 characters.\n",
    "\n",
    "```python\n",
    "# Exercise 98\n",
    "```"
   ]
  },
  {
   "cell_type": "code",
   "execution_count": 79,
   "id": "f7ef0026-d9f9-4c34-8088-de3974784aeb",
   "metadata": {},
   "outputs": [],
   "source": [
    "def long_strings(strings):\n",
    "    \"\"\"Return a list of strings that contain more than 5 characters.\"\"\"\n",
    "    return [s for s in strings if len(s) > 5]"
   ]
  },
  {
   "cell_type": "markdown",
   "id": "a811f8a9-8ef3-4b29-ab02-2060496d1c44",
   "metadata": {
    "id": "bea983a3"
   },
   "source": [
    "---\n",
    "\n",
    "### Exercise 99:\n",
    "Write a Python program that converts a list of strings into a list of tuples, where each tuple contains the string and its length.\n",
    "\n",
    "```python\n",
    "# Exercise 99\n",
    "```"
   ]
  },
  {
   "cell_type": "code",
   "execution_count": 80,
   "id": "be233940-7846-45e1-8974-123163a9afdd",
   "metadata": {},
   "outputs": [
    {
     "name": "stdout",
     "output_type": "stream",
     "text": [
      "[('apple', 5), ('banana', 6), ('cherry', 6), ('kiwi', 4)]\n"
     ]
    }
   ],
   "source": [
    "words = [\"apple\", \"banana\", \"cherry\", \"kiwi\"]\n",
    "\n",
    "# Convert to list of tuples (string, length)\n",
    "result = [(word, len(word)) for word in words]\n",
    "\n",
    "print(result)"
   ]
  },
  {
   "cell_type": "markdown",
   "id": "93f06431-9528-4479-ba26-b27c96c159cc",
   "metadata": {
    "id": "bea983a3"
   },
   "source": [
    "---\n",
    "\n",
    "### Exercise 100:\n",
    "Write a Python function that takes a list of dictionaries and returns a new dictionary by summing the values of each key across all dictionaries.\n",
    "\n",
    "```python\n",
    "# Exercise 100\n",
    "```"
   ]
  },
  {
   "cell_type": "code",
   "execution_count": 81,
   "id": "2401f5d1-74f9-4d1b-bd5a-7f425f55b8b6",
   "metadata": {},
   "outputs": [],
   "source": [
    "def sum_dicts(dict_list):\n",
    "    \"\"\"Return a dictionary with the sum of values for each key across all dictionaries.\"\"\"\n",
    "    result = {}\n",
    "    for d in dict_list:\n",
    "        for key, value in d.items():\n",
    "            result[key] = result.get(key, 0) + value\n",
    "    return result"
   ]
  }
 ],
 "metadata": {
  "colab": {
   "provenance": []
  },
  "kernelspec": {
   "display_name": "Python 3 (ipykernel)",
   "language": "python",
   "name": "python3"
  },
  "language_info": {
   "codemirror_mode": {
    "name": "ipython",
    "version": 3
   },
   "file_extension": ".py",
   "mimetype": "text/x-python",
   "name": "python",
   "nbconvert_exporter": "python",
   "pygments_lexer": "ipython3",
   "version": "3.13.5"
  }
 },
 "nbformat": 4,
 "nbformat_minor": 5
}
