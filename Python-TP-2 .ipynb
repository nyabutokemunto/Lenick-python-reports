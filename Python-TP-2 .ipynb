{
 "cells": [
  {
   "cell_type": "markdown",
   "id": "d68c1dee",
   "metadata": {
    "id": "d68c1dee"
   },
   "source": [
    "# Practical_2: String and files"
   ]
  },
  {
   "cell_type": "markdown",
   "id": "0fd3e121-6395-453e-9bb8-8ea00c9c60b9",
   "metadata": {
    "id": "bea983a3"
   },
   "source": [
    "---\n",
    "\n",
    "### Exercise 1:\n",
    "Create a string variable `text` and assign it the value `\"Python is amazing!\"`.\n",
    "\n",
    "```python\n",
    "# Exercise 1\n",
    "```"
   ]
  },
  {
   "cell_type": "code",
   "execution_count": 1,
   "id": "4f1cd1fa-41b6-4ddb-8ac3-0260283e1712",
   "metadata": {},
   "outputs": [],
   "source": [
    "text=\"Python is amaizing\""
   ]
  },
  {
   "cell_type": "markdown",
   "id": "4203ab18-1398-4ee7-a66f-bfee8f244312",
   "metadata": {
    "id": "bea983a3"
   },
   "source": [
    "---\n",
    "\n",
    "### Exercise 2:\n",
    "Find the length of the string `\"Hello, World!\"` and store it in a variable `length`.\n",
    "\n",
    "```python\n",
    "# Exercise 2\n",
    "```"
   ]
  },
  {
   "cell_type": "code",
   "execution_count": 4,
   "id": "97836ef7-c2fc-45f2-92c6-7d28d5be88be",
   "metadata": {},
   "outputs": [
    {
     "data": {
      "text/plain": [
       "12"
      ]
     },
     "execution_count": 4,
     "metadata": {},
     "output_type": "execute_result"
    }
   ],
   "source": [
    "Length=\"Hello World!\"\n",
    "len(Length)"
   ]
  },
  {
   "cell_type": "markdown",
   "id": "d406b374-69ee-4495-8691-f9470953f5a2",
   "metadata": {
    "id": "bea983a3"
   },
   "source": [
    "---\n",
    "\n",
    "### Exercise 3:\n",
    "Convert the string `\"python programming\"` to uppercase and store it in a variable `upper_text`.\n",
    "\n",
    "```python\n",
    "# Exercise 3\n",
    "```"
   ]
  },
  {
   "cell_type": "code",
   "execution_count": 5,
   "id": "a6811b31-9abe-4738-b8d2-2989d4b18e31",
   "metadata": {},
   "outputs": [
    {
     "name": "stdout",
     "output_type": "stream",
     "text": [
      "PYTHON PROGRAMMING\n"
     ]
    }
   ],
   "source": [
    "Upper_text=\"Python Programming\"\n",
    "print(Upper_text.upper())"
   ]
  },
  {
   "cell_type": "markdown",
   "id": "5742a97c-8c36-441b-b039-d4bea08a378e",
   "metadata": {
    "id": "bea983a3"
   },
   "source": [
    "---\n",
    "\n",
    "### Exercise 4:\n",
    "Extract the first 5 characters from the string `\"Artificial Intelligence\"`.\n",
    "\n",
    "```python\n",
    "# Exercise 4\n",
    "```"
   ]
  },
  {
   "cell_type": "code",
   "execution_count": 6,
   "id": "b3a53fe1-a7cd-4151-954b-8e6f66813823",
   "metadata": {},
   "outputs": [
    {
     "name": "stdout",
     "output_type": "stream",
     "text": [
      "Artif\n"
     ]
    }
   ],
   "source": [
    "a=\"Artificial Intelligence\"\n",
    "b=a[0:5]\n",
    "print(b)"
   ]
  },
  {
   "cell_type": "markdown",
   "id": "5f9aa4ca-8c97-45ff-adef-0600596342ee",
   "metadata": {
    "id": "bea983a3"
   },
   "source": [
    "---\n",
    "\n",
    "### Exercise 5:\n",
    "Concatenate the strings `\"Hello\"` and `\"World\"` with a space in between.\n",
    "\n",
    "```python\n",
    "# Exercise 5\n",
    "```"
   ]
  },
  {
   "cell_type": "code",
   "execution_count": 8,
   "id": "a68ee2b1-b1c3-4974-85f8-46d3b01c7577",
   "metadata": {},
   "outputs": [
    {
     "name": "stdout",
     "output_type": "stream",
     "text": [
      "Hello World\n"
     ]
    }
   ],
   "source": [
    "string1=\"Hello\"\n",
    "string2=\"World\"\n",
    "my_strings=string1+\" \"+string2\n",
    "print(my_strings)"
   ]
  },
  {
   "cell_type": "markdown",
   "id": "e808e685-73f4-4d5d-8e57-076fcb5802a9",
   "metadata": {
    "id": "bea983a3"
   },
   "source": [
    "---\n",
    "\n",
    "### Exercise 6:\n",
    "Replace the word `\"dog\"` with `\"cat\"` in the string `\"The quick brown dog jumps over the lazy dog.\"`.\n",
    "\n",
    "```python\n",
    "# Exercise 6\n",
    "```"
   ]
  },
  {
   "cell_type": "code",
   "execution_count": 9,
   "id": "98bcc29b-0b9b-495b-a9a9-ae2df3fb8694",
   "metadata": {},
   "outputs": [
    {
     "name": "stdout",
     "output_type": "stream",
     "text": [
      "The quick brown cat jumps over the lazy cat.\n"
     ]
    }
   ],
   "source": [
    "strings=\"The quick brown dog jumps over the lazy dog.\"\n",
    "print(strings.replace(\"dog\",\"cat\"))"
   ]
  },
  {
   "cell_type": "markdown",
   "id": "939889bb-6f42-4d02-9218-3e01b1cbd0a1",
   "metadata": {
    "id": "bea983a3"
   },
   "source": [
    "---\n",
    "\n",
    "### Exercise 7:\n",
    "Split the string `\"apple,banana,orange\"` by commas and store the result in a list `fruits_list`.\n",
    "\n",
    "```python\n",
    "# Exercise 7\n",
    "```"
   ]
  },
  {
   "cell_type": "code",
   "execution_count": 10,
   "id": "dc472581-6719-4224-b8e0-88912e24c668",
   "metadata": {},
   "outputs": [
    {
     "name": "stdout",
     "output_type": "stream",
     "text": [
      "['apple,banana,orange']\n"
     ]
    }
   ],
   "source": [
    "fruits_list=\"apple,banana,orange\"\n",
    "print(fruits_list.split())"
   ]
  },
  {
   "cell_type": "markdown",
   "id": "355b9f59-db1a-4ba0-8355-45eb3b052279",
   "metadata": {
    "id": "bea983a3"
   },
   "source": [
    "---\n",
    "\n",
    "### Exercise 8:\n",
    "Use string formatting to create the sentence `\"My name is Alice and I am 25 years old.\"`, where the name and age are variables.\n",
    "\n",
    "```python\n",
    "# Exercise 8\n",
    "```"
   ]
  },
  {
   "cell_type": "code",
   "execution_count": 11,
   "id": "80ca6e63-7c8d-4f6c-adf2-b8402d434286",
   "metadata": {},
   "outputs": [
    {
     "name": "stdout",
     "output_type": "stream",
     "text": [
      "My name is Alice and I am 25 years old.\n"
     ]
    }
   ],
   "source": [
    "strings=\"My name is {x} and I am {y} years old.\"\n",
    "print(strings.format(x=\"Alice\",y=\"25\"))"
   ]
  },
  {
   "cell_type": "markdown",
   "id": "27d2dd3b-4167-4929-b51a-ae947dc26ab2",
   "metadata": {
    "id": "bea983a3"
   },
   "source": [
    "---\n",
    "\n",
    "### Exercise 9:\n",
    "Check if the string `\"python\"` is present in the sentence `\"I love python programming\"`.\n",
    "\n",
    "```python\n",
    "# Exercise 9\n",
    "```"
   ]
  },
  {
   "cell_type": "code",
   "execution_count": 12,
   "id": "af8188a4-6f0e-45a8-8135-96768c0f05d9",
   "metadata": {},
   "outputs": [
    {
     "name": "stdout",
     "output_type": "stream",
     "text": [
      "7\n"
     ]
    }
   ],
   "source": [
    "course=\"I love python programming\"\n",
    "print(course.find(\"python\"))"
   ]
  },
  {
   "cell_type": "markdown",
   "id": "ec2a8ca9-1fb1-4b4b-9be7-4502560218b6",
   "metadata": {
    "id": "bea983a3"
   },
   "source": [
    "---\n",
    "\n",
    "### Exercise 10:\n",
    "Count the number of occurrences of the letter `\"e\"` in the string `\"Elephant is an elegant animal\"`.\n",
    "\n",
    "```python\n",
    "# Exercise 10\n",
    "```"
   ]
  },
  {
   "cell_type": "code",
   "execution_count": 14,
   "id": "d0045f59-066d-4450-af51-2f3f7aa73359",
   "metadata": {},
   "outputs": [
    {
     "name": "stdout",
     "output_type": "stream",
     "text": [
      "3\n"
     ]
    }
   ],
   "source": [
    "strings=\"Elephant is an elegant animal\"\n",
    "print(strings.count(\"e\"))"
   ]
  },
  {
   "cell_type": "markdown",
   "id": "919325a3-b242-4050-86b8-2c398aa3fe39",
   "metadata": {
    "id": "bea983a3"
   },
   "source": [
    "---\n",
    "\n",
    "### Exercise 11:\n",
    "Remove any leading and trailing spaces from the string `\"   Data Science   \"`.\n",
    "\n",
    "```python\n",
    "# Exercise 11\n",
    "```"
   ]
  },
  {
   "cell_type": "code",
   "execution_count": 15,
   "id": "e6d41521-e728-42b0-8a69-c09e6b236c80",
   "metadata": {},
   "outputs": [
    {
     "name": "stdout",
     "output_type": "stream",
     "text": [
      "Data Science\n"
     ]
    }
   ],
   "source": [
    "course=\"   Data Science   \"\n",
    "print(course.strip())"
   ]
  },
  {
   "cell_type": "markdown",
   "id": "57b0b690-2992-47f9-a43c-02cf78c58ad3",
   "metadata": {
    "id": "bea983a3"
   },
   "source": [
    "---\n",
    "\n",
    "### Exercise 12:\n",
    "Convert the string `\"100\"` into an integer and store it in a variable `int_value`.\n",
    "\n",
    "```python\n",
    "# Exercise 12\n",
    "```"
   ]
  },
  {
   "cell_type": "code",
   "execution_count": 16,
   "id": "5f0c5fa1-d82e-4a3d-8130-6fb43e782ac2",
   "metadata": {},
   "outputs": [
    {
     "name": "stdout",
     "output_type": "stream",
     "text": [
      "100\n"
     ]
    }
   ],
   "source": [
    "string_number=\"100\"\n",
    "int_value=(int(string_number))\n",
    "print(int_value)"
   ]
  },
  {
   "cell_type": "markdown",
   "id": "bd0f228f-f2ab-4e18-8cf8-155e1237c173",
   "metadata": {
    "id": "bea983a3"
   },
   "source": [
    "---\n",
    "\n",
    "### Exercise 13:\n",
    "Extract the substring `\"pro\"` from the string `\"programming\"`.\n",
    "\n",
    "```python\n",
    "# Exercise 13\n",
    "```"
   ]
  },
  {
   "cell_type": "code",
   "execution_count": 18,
   "id": "86562068-feb9-4a25-b60b-5aff6d67c1b0",
   "metadata": {},
   "outputs": [
    {
     "name": "stdout",
     "output_type": "stream",
     "text": [
      "gramming\n"
     ]
    }
   ],
   "source": [
    "string1=\"programming\"\n",
    "string2=(string1[3::])\n",
    "print(string2)"
   ]
  },
  {
   "cell_type": "markdown",
   "id": "787e349c-57bb-4014-b0f2-003c73a40f91",
   "metadata": {
    "id": "bea983a3"
   },
   "source": [
    "---\n",
    "\n",
    "### Exercise 14:\n",
    "Check if the string `\"data\"` starts with `\"da\"` and ends with `\"ta\"`.\n",
    "\n",
    "```python\n",
    "# Exercise 14\n",
    "```"
   ]
  },
  {
   "cell_type": "code",
   "execution_count": 19,
   "id": "27bb6161-5c5b-4c74-86f9-d55b329946c2",
   "metadata": {},
   "outputs": [
    {
     "name": "stdout",
     "output_type": "stream",
     "text": [
      "True True\n"
     ]
    }
   ],
   "source": [
    "string=\"data\"\n",
    "print(string.startswith(\"da\"),string.endswith(\"ta\"))"
   ]
  },
  {
   "cell_type": "markdown",
   "id": "7a6835f5-e02c-474a-a0bd-0254933f8d6b",
   "metadata": {
    "id": "bea983a3"
   },
   "source": [
    "---\n",
    "\n",
    "### Exercise 15:\n",
    "Reverse the string `\"machine learning\"` and store the result in `reversed_text`.\n",
    "\n",
    "```python\n",
    "# Exercise 15\n",
    "```"
   ]
  },
  {
   "cell_type": "code",
   "execution_count": 21,
   "id": "b0a69b02-9537-489d-a363-892dad1ecc79",
   "metadata": {},
   "outputs": [
    {
     "data": {
      "text/plain": [
       "'gninrael enihcam'"
      ]
     },
     "execution_count": 21,
     "metadata": {},
     "output_type": "execute_result"
    }
   ],
   "source": [
    "original_string=\"machine learning\"\n",
    "reversed_text=original_string[::-1]\n",
    "reversed_text"
   ]
  },
  {
   "cell_type": "markdown",
   "id": "aff05db0-6679-4727-9e3d-3e37ec9f8433",
   "metadata": {
    "id": "bea983a3"
   },
   "source": [
    "---\n",
    "\n",
    "### Exercise 16:\n",
    "Convert the first letter of each word in the string `\"machine learning is fun\"` to uppercase.\n",
    "\n",
    "```python\n",
    "# Exercise 16\n",
    "```"
   ]
  },
  {
   "cell_type": "code",
   "execution_count": 22,
   "id": "0af64ebd-be80-4573-8fe0-b32dd2da0690",
   "metadata": {},
   "outputs": [
    {
     "name": "stdout",
     "output_type": "stream",
     "text": [
      "Machine Learning Is Fun\n"
     ]
    }
   ],
   "source": [
    "text=\"machine learning is fun\"\n",
    "uppercase=text.title()\n",
    "print(uppercase)"
   ]
  },
  {
   "cell_type": "markdown",
   "id": "5d6b8082-b2bb-4770-91dc-453dd2a04b36",
   "metadata": {
    "id": "bea983a3"
   },
   "source": [
    "---\n",
    "\n",
    "### Exercise 17:\n",
    "Create a multiline string representing a poem and store it in a variable `poem`.\n",
    "\n",
    "```python\n",
    "# Exercise 17\n",
    "```"
   ]
  },
  {
   "cell_type": "code",
   "execution_count": 23,
   "id": "9a5962c2-10da-4df3-abbf-e33742dc92bb",
   "metadata": {},
   "outputs": [
    {
     "data": {
      "text/plain": [
       "'first line\\nsecond line\\nthird line\\nagain....\\n'"
      ]
     },
     "execution_count": 23,
     "metadata": {},
     "output_type": "execute_result"
    }
   ],
   "source": [
    "poem=\"\"\"first line\n",
    "second line\n",
    "third line\n",
    "again....\n",
    "\"\"\"\n",
    "poem"
   ]
  },
  {
   "cell_type": "markdown",
   "id": "8a4a78d5-7d36-4c25-ac37-3e30661b8a80",
   "metadata": {
    "id": "bea983a3"
   },
   "source": [
    "---\n",
    "\n",
    "### Exercise 18:\n",
    "Write a string to a file named `\"output.txt\"`.\n",
    "\n",
    "```python\n",
    "# Exercise 18\n",
    "```"
   ]
  },
  {
   "cell_type": "code",
   "execution_count": 24,
   "id": "a4b16918-b23c-436e-b23e-06350b40c7f9",
   "metadata": {},
   "outputs": [],
   "source": [
    "file=open(\"output.txt\",\"w\")\n",
    "file.close()"
   ]
  },
  {
   "cell_type": "markdown",
   "id": "35e913fa-c4c9-459a-903a-f3e3376e78f3",
   "metadata": {
    "id": "bea983a3"
   },
   "source": [
    "---\n",
    "\n",
    "### Exercise 19:\n",
    "Read the contents of a file named `\"data.txt\"` and print it line by line.\n",
    "\n",
    "```python\n",
    "# Exercise 19\n",
    "```"
   ]
  },
  {
   "cell_type": "code",
   "execution_count": null,
   "id": "731ab2c9-179d-4872-b241-3dfdc44027af",
   "metadata": {},
   "outputs": [],
   "source": [
    "file=open(\"data.txt\",\"r\")\n",
    "line=file.readline()\n",
    "while line:\n",
    "    print(line,end='')\n",
    "    line=file.readline()\n",
    "    file.close()"
   ]
  },
  {
   "cell_type": "markdown",
   "id": "57ca9c07-025a-49c2-9c88-f2bdd0fb23e8",
   "metadata": {
    "id": "bea983a3"
   },
   "source": [
    "---\n",
    "\n",
    "### Exercise 20:\n",
    "Check if a file `\"example.txt\"` exists before opening it.\n",
    "\n",
    "```python\n",
    "# Exercise 20\n",
    "```"
   ]
  },
  {
   "cell_type": "code",
   "execution_count": 28,
   "id": "eda7f0e8-a90e-4e1a-950c-70728fe00468",
   "metadata": {},
   "outputs": [
    {
     "name": "stdout",
     "output_type": "stream",
     "text": [
      "File not found.\n"
     ]
    }
   ],
   "source": [
    "import os\n",
    "from pathlib import Path\n",
    "\n",
    "try:\n",
    "    with open('example.txt','r') as file:\n",
    "        content=file.read()\n",
    "except FileNotFoundError:\n",
    "    print('File not found.')\n",
    "except IOError:\n",
    "    print('An IOError occurred.')"
   ]
  },
  {
   "cell_type": "markdown",
   "id": "efdbec0d-dbd7-4186-a7d0-27855b803a49",
   "metadata": {
    "id": "bea983a3"
   },
   "source": [
    "---\n",
    "\n",
    "### Exercise 21:\n",
    "Append a new line `\"This is a new line\"` to an existing file `\"notes.txt\"`.\n",
    "\n",
    "```python\n",
    "# Exercise 21\n",
    "```"
   ]
  },
  {
   "cell_type": "code",
   "execution_count": 29,
   "id": "ac918655-0754-435c-b24c-51ff33fc48f6",
   "metadata": {},
   "outputs": [],
   "source": [
    "file=open('notes.txt','a')\n",
    "file.write('This is a new line')\n",
    "file.close()"
   ]
  },
  {
   "cell_type": "markdown",
   "id": "66518396-495b-4367-89f4-cc689005f8b8",
   "metadata": {
    "id": "bea983a3"
   },
   "source": [
    "---\n",
    "\n",
    "### Exercise 22:\n",
    "Read the contents of a file `\"log.txt\"` and store each line in a list `log_lines`.\n",
    "\n",
    "```python\n",
    "# Exercise 22\n",
    "```"
   ]
  },
  {
   "cell_type": "code",
   "execution_count": null,
   "id": "31f4118b-4edb-4b72-af79-bb62f1bc9579",
   "metadata": {},
   "outputs": [],
   "source": [
    "file=open(\"log.txt\",\"r\")\n",
    "log_lines=file.readline()\n",
    "\n",
    "print(log_lines)\n",
    "file.close()"
   ]
  },
  {
   "cell_type": "markdown",
   "id": "0953ca11-554f-4b9a-a442-42459aa4370f",
   "metadata": {
    "id": "bea983a3"
   },
   "source": [
    "---\n",
    "\n",
    "### Exercise 23:\n",
    "Create a new file `\"report.txt\"` and write the string `\"Data analysis report\"` to it.\n",
    "\n",
    "```python\n",
    "# Exercise 23\n",
    "```"
   ]
  },
  {
   "cell_type": "code",
   "execution_count": 31,
   "id": "50f8aa56-9c1d-4bd6-bfb4-9604d0183cbe",
   "metadata": {},
   "outputs": [],
   "source": [
    "file=open('report.txt','w')\n",
    "file.write(\"Data analysis report\")\n",
    "file.close()"
   ]
  },
  {
   "cell_type": "markdown",
   "id": "d2be8099-02cc-4801-a2c5-6ad7ad34be94",
   "metadata": {
    "id": "bea983a3"
   },
   "source": [
    "---\n",
    "\n",
    "### Exercise 24:\n",
    "Replace the word `\"error\"` with `\"issue\"` in a file `\"log.txt\"`.\n",
    "\n",
    "```python\n",
    "# Exercise 24\n",
    "```"
   ]
  },
  {
   "cell_type": "code",
   "execution_count": null,
   "id": "5555da24-9908-4f02-9a7b-8606175692d0",
   "metadata": {},
   "outputs": [],
   "source": [
    "file=open(\"log.txt\",'r+')\n",
    "content=file.read()\n",
    "print(content)\n",
    "new_content=content.replace(\"error\",\"issue\")\n",
    "print(new_content)\n",
    "file.write(new_content)\n",
    "file.close()"
   ]
  },
  {
   "cell_type": "markdown",
   "id": "93e0c12a-0cc4-4f9a-b6a7-5701ea33be6f",
   "metadata": {
    "id": "bea983a3"
   },
   "source": [
    "---\n",
    "\n",
    "### Exercise 25:\n",
    "Count the number of words in a text file `\"document.txt\"`.\n",
    "\n",
    "```python\n",
    "# Exercise 25\n",
    "```"
   ]
  },
  {
   "cell_type": "code",
   "execution_count": null,
   "id": "22d2a93d-1184-4f94-910d-69479ec0677d",
   "metadata": {},
   "outputs": [],
   "source": [
    "file=open(\"document.txt\",'r')\n",
    "content=file.read()\n",
    "print(content)\n",
    "\n",
    "result=(len(content)-1)\n",
    "print(result)"
   ]
  },
  {
   "cell_type": "markdown",
   "id": "7d8b548b-20b8-4e63-8fd4-45442ef2571f",
   "metadata": {
    "id": "bea983a3"
   },
   "source": [
    "---\n",
    "\n",
    "### Exercise 26:\n",
    "Write a Python script that reads a file `\"essay.txt\"` and prints the total number of lines, words, and characters.\n",
    "\n",
    "```python\n",
    "# Exercise 26\n",
    "```"
   ]
  },
  {
   "cell_type": "code",
   "execution_count": null,
   "id": "b663fac0-da17-4ad3-80b6-e0193635e21a",
   "metadata": {},
   "outputs": [],
   "source": [
    "line_count=0\n",
    "char_count=0\n",
    "word_count=0\n",
    "\n",
    "with open(\"essay.txt\",'r') as file:\n",
    "          for line in file:\n",
    "              line_count+=1\n",
    "              char_count+=len(line)\n",
    "              words=line.split()\n",
    "              word_count+=len(words)"
   ]
  },
  {
   "cell_type": "markdown",
   "id": "fccf4c29-8ad0-424b-a573-a9bf6f8485d2",
   "metadata": {
    "id": "bea983a3"
   },
   "source": [
    "---\n",
    "\n",
    "### Exercise 27:\n",
    "Copy the contents of one file `\"source.txt\"` to another file `\"destination.txt\"`.\n",
    "\n",
    "```python\n",
    "# Exercise 27\n",
    "```"
   ]
  },
  {
   "cell_type": "code",
   "execution_count": null,
   "id": "0a2e13a4-6579-474c-a317-e0fc1b74b78f",
   "metadata": {},
   "outputs": [],
   "source": [
    "with open(\"source.txt\", \"r\") as source_file:\n",
    "    content = source_file.read()\n",
    "\n",
    "with open(\"destination.txt\", \"w\") as dest_file:\n",
    "    dest_file.write(content)\n",
    "\n",
    "print(\"File copied successfully!\")"
   ]
  },
  {
   "cell_type": "markdown",
   "id": "e78cb1dd-165c-40ce-a830-661e20ad4c1d",
   "metadata": {
    "id": "bea983a3"
   },
   "source": [
    "---\n",
    "\n",
    "### Exercise 28:\n",
    "Write a Python function that takes a filename as input and returns the number of lines in the file.\n",
    "\n",
    "```python\n",
    "# Exercise 28\n",
    "```"
   ]
  },
  {
   "cell_type": "code",
   "execution_count": 34,
   "id": "fc4f3c8c-bafb-4bc9-b50e-f949d1033f2c",
   "metadata": {},
   "outputs": [],
   "source": [
    "def count_lines(filename):\n",
    "    with open(filename, \"r\") as file:\n",
    "        lines = file.readlines()\n",
    "        return len(lines)"
   ]
  },
  {
   "cell_type": "markdown",
   "id": "97c7f3bd-c827-40b5-873b-732b239d308c",
   "metadata": {
    "id": "bea983a3"
   },
   "source": [
    "---\n",
    "\n",
    "### Exercise 29:\n",
    "Extract all the words from a text file `\"article.txt\"` that contain more than 5 characters.\n",
    "\n",
    "```python\n",
    "# Exercise 29\n",
    "```"
   ]
  },
  {
   "cell_type": "code",
   "execution_count": null,
   "id": "f69e55fd-e5e6-4ab6-b37e-8f7584e6baa4",
   "metadata": {},
   "outputs": [],
   "source": [
    "with open(\"article.txt\", \"r\") as file:\n",
    "    text = file.read()\n",
    "\n",
    "# Split the text into words\n",
    "words = text.split()\n",
    "\n",
    "# Filter words longer than 5 characters\n",
    "long_words = [word for word in words if len(word) > 5]\n",
    "\n",
    "print(long_words)"
   ]
  },
  {
   "cell_type": "markdown",
   "id": "1a7de474-f780-48d7-a462-7a9fb1ceb286",
   "metadata": {
    "id": "bea983a3"
   },
   "source": [
    "---\n",
    "\n",
    "### Exercise 30:\n",
    "Convert the contents of a file `\"notes.txt\"` to uppercase and save the result in another file `\"uppercase_notes.txt\"`.\n",
    "\n",
    "```python\n",
    "# Exercise 30\n",
    "```"
   ]
  },
  {
   "cell_type": "code",
   "execution_count": null,
   "id": "0a4c75f6-6e7b-46c8-9ab7-651d8a6fdcf8",
   "metadata": {},
   "outputs": [],
   "source": [
    "with open(\"notes.txt\", \"r\") as source_file:\n",
    "    content = source_file.read()\n",
    "\n",
    "# Convert content to uppercase\n",
    "uppercase_content = content.upper()\n",
    "\n",
    "# Write the uppercase content to a new file\n",
    "with open(\"uppercase_notes.txt\", \"w\") as dest_file:\n",
    "    dest_file.write(uppercase_content)\n",
    "\n",
    "print(\"File has been converted to uppercase successfully!\")"
   ]
  },
  {
   "cell_type": "markdown",
   "id": "a7b18b87-1d88-41ea-ba60-11ee1b4246b1",
   "metadata": {
    "id": "bea983a3"
   },
   "source": [
    "---\n",
    "\n",
    "### Exercise 31:\n",
    "Write a Python script that reads a file and removes all empty lines.\n",
    "\n",
    "```python\n",
    "# Exercise 31\n",
    "```"
   ]
  },
  {
   "cell_type": "code",
   "execution_count": null,
   "id": "f24d63c6-eda4-41c3-b139-7e0839aebe8d",
   "metadata": {},
   "outputs": [],
   "source": [
    "with open(\"input.txt\", \"r\") as file:\n",
    "    lines = file.readlines()\n",
    "\n",
    "# Remove empty lines (lines with only whitespace)\n",
    "non_empty_lines = [line for line in lines if line.strip() != \"\"]\n",
    "\n",
    "# Write the cleaned lines to a new file\n",
    "with open(\"cleaned.txt\", \"w\") as file:\n",
    "    file.writelines(non_empty_lines)\n",
    "\n",
    "print(\"Empty lines removed successfully!\")"
   ]
  },
  {
   "cell_type": "markdown",
   "id": "89d822c2-87d9-4852-a788-7af460a1b6c4",
   "metadata": {
    "id": "bea983a3"
   },
   "source": [
    "---\n",
    "\n",
    "### Exercise 32:\n",
    "Open a file `\"config.txt\"` in both read and write mode.\n",
    "\n",
    "```python\n",
    "# Exercise 32\n",
    "```"
   ]
  },
  {
   "cell_type": "code",
   "execution_count": null,
   "id": "ba505b3d-08dd-4e10-bea3-d44468b0f288",
   "metadata": {},
   "outputs": [],
   "source": [
    "with open(\"config.txt\", \"r+\") as file:\n",
    "    content = file.read()       \n",
    "    print(\"Current content:\\n\", content)\n",
    "\n",
    "    file.write(\"\\nNew configuration added.\")"
   ]
  },
  {
   "cell_type": "markdown",
   "id": "7183b69d-01c6-4c69-857c-d6caec066120",
   "metadata": {
    "id": "bea983a3"
   },
   "source": [
    "---\n",
    "\n",
    "### Exercise 33:\n",
    "Write a Python function that reads a file and prints the longest line in the file.\n",
    "\n",
    "```python\n",
    "# Exercise 33\n",
    "```"
   ]
  },
  {
   "cell_type": "code",
   "execution_count": null,
   "id": "d38773e4-4afe-4a93-9b4c-470a8e46751a",
   "metadata": {},
   "outputs": [],
   "source": [
    "def print_longest_line(filename):\n",
    "    with open(filename, \"r\") as file:\n",
    "        lines = file.readlines()\n",
    "\n",
    "    longest_line = max(lines, key=len)\n",
    "    print(\"The longest line is:\\n\", longest_line.strip())\n"
   ]
  },
  {
   "cell_type": "markdown",
   "id": "d9a7a2c1-78f1-4f93-a322-6769934d8224",
   "metadata": {
    "id": "bea983a3"
   },
   "source": [
    "---\n",
    "\n",
    "### Exercise 34:\n",
    "Write a Python script to count the frequency of each letter in a text file `\"message.txt\"`.\n",
    "\n",
    "```python\n",
    "# Exercise 34\n",
    "``"
   ]
  },
  {
   "cell_type": "code",
   "execution_count": null,
   "id": "48869d59-290d-47aa-a687-bd63a870232a",
   "metadata": {},
   "outputs": [],
   "source": [
    "from collections import Counter\n",
    "\n",
    "with open(\"message.txt\", \"r\") as file:\n",
    "    text = file.read().lower()  \n",
    "\n",
    "letters = [ch for ch in text if ch.isalpha()]\n",
    "\n",
    "frequency = Counter(letters)\n",
    "\n",
    "for letter, count in sorted(frequency.items()):\n",
    "    print(f\"{letter}: {count}\")"
   ]
  },
  {
   "cell_type": "markdown",
   "id": "5e3dca6b-01ad-4a75-a68f-5f2dbac86901",
   "metadata": {
    "id": "bea983a3"
   },
   "source": [
    "`\n",
    "\n",
    "---\n",
    "\n",
    "### Exercise 35:\n",
    "Write a Python script that reads a file and prints the total number of characters, excluding spaces.\n",
    "\n",
    "```python\n",
    "# Exercise 35\n",
    "```"
   ]
  },
  {
   "cell_type": "code",
   "execution_count": null,
   "id": "e46be195-d090-44a7-9242-0cb9c4cb4331",
   "metadata": {},
   "outputs": [],
   "source": [
    "with open(\"input.txt\", \"r\") as file:\n",
    "    text = file.read()\n",
    "\n",
    "char_count = len(text.replace(\" \", \"\").replace(\"\\n\", \"\").replace(\"\\t\", \"\"))\n",
    "\n",
    "print(\"Total number of characters (excluding spaces):\", char_count)"
   ]
  },
  {
   "cell_type": "markdown",
   "id": "e592ebee-7b58-413b-98f9-d9b2651e4b3c",
   "metadata": {
    "id": "bea983a3"
   },
   "source": [
    "---\n",
    "\n",
    "### Exercise 36:\n",
    "Create a Python script to check whether a file is empty or not.\n",
    "\n",
    "```python\n",
    "# Exercise 36\n",
    "```"
   ]
  },
  {
   "cell_type": "code",
   "execution_count": 37,
   "id": "95963867-06e2-4fae-8cbf-ff7dae7cd885",
   "metadata": {},
   "outputs": [
    {
     "name": "stdout",
     "output_type": "stream",
     "text": [
      "The file does not exist.\n"
     ]
    }
   ],
   "source": [
    "import os\n",
    "\n",
    "filename = \"example.txt\"\n",
    "\n",
    "if os.path.exists(filename):\n",
    "    if os.path.getsize(filename) == 0:\n",
    "        print(\"The file is empty.\")\n",
    "    else:\n",
    "        print(\"The file is not empty.\")\n",
    "else:\n",
    "    print(\"The file does not exist.\")"
   ]
  },
  {
   "cell_type": "markdown",
   "id": "b69f1cf2-fc06-4f8d-af5f-954e2e0a34b7",
   "metadata": {
    "id": "bea983a3"
   },
   "source": [
    "---\n",
    "\n",
    "### Exercise 37:\n",
    "Write a Python function that reads a file and removes all punctuation marks from the text.\n",
    "\n",
    "```python\n",
    "# Exercise 37\n",
    "```"
   ]
  },
  {
   "cell_type": "code",
   "execution_count": 36,
   "id": "7a40c5cf-5a16-4b17-9110-1a8b0471bd78",
   "metadata": {},
   "outputs": [],
   "source": [
    "import string\n",
    "\n",
    "def remove_punctuation(filename):\n",
    "    with open(filename, \"r\") as file:\n",
    "        text = file.read()\n",
    "\n",
    "    cleaned_text = text.translate(str.maketrans(\"\", \"\", string.punctuation))\n",
    "\n",
    "    return cleaned_text"
   ]
  },
  {
   "cell_type": "markdown",
   "id": "62d29867-809d-4932-9f25-6388fe48e069",
   "metadata": {
    "id": "bea983a3"
   },
   "source": [
    "---\n",
    "\n",
    "### Exercise 38:\n",
    "Create a Python function that writes a list of strings to a file, each string on a new line.\n",
    "\n",
    "```python\n",
    "# Exercise 38\n",
    "```"
   ]
  },
  {
   "cell_type": "code",
   "execution_count": 35,
   "id": "d3fc722a-83b0-4c54-b910-92edac88795a",
   "metadata": {},
   "outputs": [],
   "source": [
    "def write_lines_to_file(filename, lines):\n",
    "    with open(filename, \"w\") as file:\n",
    "        for line in lines:\n",
    "            file.write(line + \"\\n\")"
   ]
  },
  {
   "cell_type": "markdown",
   "id": "deb441d5-c1e5-40d3-b6bc-0114676ccc23",
   "metadata": {
    "id": "bea983a3"
   },
   "source": [
    "---\n",
    "\n",
    "### Exercise 39:\n",
    "Write a Python script to count the number of lines that start with a specific letter (e.g., \"A\") in a text file.\n",
    "\n",
    "```python\n",
    "# Exercise 39\n",
    "```"
   ]
  },
  {
   "cell_type": "code",
   "execution_count": 39,
   "id": "a28d54bd-18fa-40db-8379-e2b23692b1c9",
   "metadata": {},
   "outputs": [],
   "source": [
    "def count_lines_starting_with(filename, letter):\n",
    "    count = 0\n",
    "    with open(filename, \"r\") as file:\n",
    "        for line in file:\n",
    "            if line.strip().startswith(letter):\n",
    "                count += 1\n",
    "    return count\n"
   ]
  },
  {
   "cell_type": "markdown",
   "id": "08f72696-2150-4e39-9e88-6d08fcd96759",
   "metadata": {
    "id": "bea983a3"
   },
   "source": [
    "---\n",
    "\n",
    "### Exercise 40:\n",
    "Write a Python function that takes a string as input and writes it to a file `\"output.txt\"` in reverse order.\n",
    "\n",
    "```python\n",
    "# Exercise 40\n",
    "```"
   ]
  },
  {
   "cell_type": "code",
   "execution_count": 40,
   "id": "bad77b64-57b3-41c2-b70d-fe892a757c4b",
   "metadata": {},
   "outputs": [],
   "source": [
    "def write_reversed_string(text):\n",
    "    reversed_text = text[::-1]  # Reverse the string\n",
    "    with open(\"output.txt\", \"w\") as file:\n",
    "        file.write(reversed_text)"
   ]
  },
  {
   "cell_type": "markdown",
   "id": "2265e316-dffe-497d-9f7e-0978ef96861c",
   "metadata": {
    "id": "bea983a3"
   },
   "source": [
    "---\n",
    "\n",
    "### Exercise 41:\n",
    "Write a Python script that reads a file and prints all the lines that contain the word `\"Python\"`.\n",
    "\n",
    "```python\n",
    "# Exercise 41\n",
    "```"
   ]
  },
  {
   "cell_type": "code",
   "execution_count": null,
   "id": "2f4e5212-5105-45cf-a912-d51ccb8fd1f7",
   "metadata": {},
   "outputs": [],
   "source": [
    "with open(\"input.txt\", \"r\") as file:\n",
    "    for line in file:\n",
    "        if \"Python\" in line:\n",
    "            print(line.strip())"
   ]
  },
  {
   "cell_type": "markdown",
   "id": "d2578618-3727-4a18-8d38-ecf40db7abe6",
   "metadata": {
    "id": "bea983a3"
   },
   "source": [
    "---\n",
    "\n",
    "### Exercise 42:\n",
    "Write a Python script that opens a file and removes all numeric digits from the file's content.\n",
    "\n",
    "```python\n",
    "# Exercise 42\n",
    "```"
   ]
  },
  {
   "cell_type": "code",
   "execution_count": null,
   "id": "7d27c4f0-611b-41b0-a6e2-f01045e3adb7",
   "metadata": {},
   "outputs": [],
   "source": [
    "def remove_digits_from_file(input_file, output_file):\n",
    "    with open(input_file, \"r\") as file:\n",
    "        text = file.read()\n",
    "\n",
    "    cleaned_text = text.translate(str.maketrans(\"\", \"\", \"0123456789\"))\n",
    "\n",
    "    with open(output_file, \"w\") as file:\n",
    "        file.write(cleaned_text)\n",
    "\n",
    "    print(\"All digits removed successfully!\")"
   ]
  },
  {
   "cell_type": "markdown",
   "id": "3c1e74bd-9c07-4888-b83a-bb1361b885a4",
   "metadata": {
    "id": "bea983a3"
   },
   "source": [
    "---\n",
    "\n",
    "### Exercise 43:\n",
    "Write a Python script to find the most frequent word in a text file `\"book.txt\"`.\n",
    "\n",
    "```python\n",
    "# Exercise 43\n",
    "```"
   ]
  },
  {
   "cell_type": "code",
   "execution_count": null,
   "id": "e89ab9a6-8fe9-4dcb-82ef-4a567f10ac45",
   "metadata": {},
   "outputs": [],
   "source": [
    "from collections import Counter\n",
    "import string\n",
    "\n",
    "# Open and read the file\n",
    "with open(\"book.txt\", \"r\") as file:\n",
    "    text = file.read().lower()  # Convert to lowercase for consistency\n",
    "\n",
    "# Remove punctuation\n",
    "text = text.translate(str.maketrans(\"\", \"\", string.punctuation))\n",
    "\n",
    "# Split text into words\n",
    "words = text.split()\n",
    "\n",
    "# Count the frequency of each word\n",
    "word_counts = Counter(words)\n",
    "\n",
    "# Find the most common word\n",
    "most_common_word, frequency = word_counts.most_common(1)[0]\n",
    "\n",
    "print(f\"The most frequent word is '{most_common_word}' (appears {frequency} times).\")"
   ]
  },
  {
   "cell_type": "markdown",
   "id": "a46aa757-9557-400e-8377-446505dd9813",
   "metadata": {
    "id": "bea983a3"
   },
   "source": [
    "---\n",
    "\n",
    "### Exercise 44:\n",
    "Write a Python script that reads a file and prints all the lines that contain exactly 5 words.\n",
    "\n",
    "```python\n",
    "# Exercise 44\n",
    "```"
   ]
  },
  {
   "cell_type": "code",
   "execution_count": null,
   "id": "20fe02f1-647c-4266-87cf-8ff0aaf23d74",
   "metadata": {},
   "outputs": [],
   "source": [
    "with open(\"input.txt\", \"r\") as file:\n",
    "    for line in file:\n",
    "        words = line.strip().split()\n",
    "\n",
    "        if len(words) == 5:\n",
    "            print(line.strip())"
   ]
  },
  {
   "cell_type": "markdown",
   "id": "b0a72f5a-38c1-404d-a99f-70f0b4170449",
   "metadata": {
    "id": "bea983a3"
   },
   "source": [
    "---\n",
    "\n",
    "### Exercise 45:\n",
    "Write a Python script to read a file and print the first and last line of the file.\n",
    "\n",
    "```python\n",
    "# Exercise 45\n",
    "```"
   ]
  },
  {
   "cell_type": "code",
   "execution_count": null,
   "id": "f04c643b-7997-4996-b720-fd0d76c619b6",
   "metadata": {},
   "outputs": [],
   "source": [
    "with open(\"input.txt\", \"r\") as file:\n",
    "    lines = file.readlines()\n",
    "\n",
    "# Check if the file is not empty\n",
    "if lines:\n",
    "    print(\"First line:\", lines[0].strip())\n",
    "    print(\"Last line:\", lines[-1].strip())\n",
    "else:\n",
    "    print(\"The file is empty.\")"
   ]
  },
  {
   "cell_type": "markdown",
   "id": "3f8a9706-90c2-4034-bb0f-8f6dccdab61a",
   "metadata": {
    "id": "bea983a3"
   },
   "source": [
    "---\n",
    "\n",
    "### Exercise 46:\n",
    "Write a Python script that checks if a file `\"students.txt\"` is writable.\n",
    "\n",
    "```python\n",
    "# Exercise 46\n",
    "```"
   ]
  },
  {
   "cell_type": "code",
   "execution_count": null,
   "id": "b7961333-8798-4137-877e-2421bd3f382a",
   "metadata": {},
   "outputs": [],
   "source": [
    "import os\n",
    "\n",
    "filename = \"students.txt\"\n",
    "\n",
    "# Check if the file exists first\n",
    "if os.path.exists(filename):\n",
    "    if os.access(filename, os.W_OK):\n",
    "        print(f\"The file '{filename}' is writable.\")\n",
    "    else:\n",
    "        print(f\"The file '{filename}' is not writable.\")\n",
    "else:\n",
    "    print(f\"The file '{filename}' does not exist.\")"
   ]
  },
  {
   "cell_type": "markdown",
   "id": "016a101a-fa72-4574-aa7e-be761cc7251e",
   "metadata": {
    "id": "bea983a3"
   },
   "source": [
    "---\n",
    "\n",
    "### Exercise 47:\n",
    "Create a Python function that opens a file and returns the number of unique words in the file.\n",
    "\n",
    "```python\n",
    "# Exercise 47\n",
    "```"
   ]
  },
  {
   "cell_type": "code",
   "execution_count": null,
   "id": "4afd57de-6dfe-4e5b-9930-3f555a67107f",
   "metadata": {},
   "outputs": [],
   "source": [
    "import string\n",
    "\n",
    "def count_unique_words(filename):\n",
    "    with open(filename, \"r\") as file:\n",
    "        text = file.read().lower()  # Convert to lowercase for consistency\n",
    "\n",
    "    # Remove punctuation\n",
    "    text = text.translate(str.maketrans(\"\", \"\", string.punctuation))\n",
    "\n",
    "    # Split text into words\n",
    "    words = text.split()\n",
    "\n",
    "    # Use a set to keep only unique words\n",
    "    unique_words = set(words)\n",
    "\n",
    "    return len(unique_words)"
   ]
  },
  {
   "cell_type": "markdown",
   "id": "8e293645-2fec-4d97-a215-e077bbf42d29",
   "metadata": {
    "id": "bea983a3"
   },
   "source": [
    "---\n",
    "\n",
    "### Exercise 48:\n",
    "Write a Python script that reads a file and prints all lines in reverse order.\n",
    "\n",
    "```python\n",
    "# Exercise 48\n",
    "```"
   ]
  },
  {
   "cell_type": "code",
   "execution_count": null,
   "id": "eb5931ba-a36e-44cd-a5be-e1adadc11e34",
   "metadata": {},
   "outputs": [],
   "source": [
    "with open(\"input.txt\", \"r\") as file:\n",
    "    lines = file.readlines()\n",
    "\n",
    "# Print lines in reverse order\n",
    "for line in reversed(lines):\n",
    "    print(line.strip())"
   ]
  },
  {
   "cell_type": "markdown",
   "id": "e1c542f1-d572-4ef6-b1b4-54db6be3c69e",
   "metadata": {
    "id": "bea983a3"
   },
   "source": [
    "---\n",
    "\n",
    "### Exercise 49:\n",
    "Write a Python function that reads a file and returns the most common letter in the text.\n",
    "\n",
    "```python\n",
    "# Exercise 49\n",
    "```"
   ]
  },
  {
   "cell_type": "code",
   "execution_count": null,
   "id": "76abd08f-6195-456d-8b0d-fcccb20159ad",
   "metadata": {},
   "outputs": [],
   "source": [
    "from collections import Counter\n",
    "import string\n",
    "\n",
    "def most_common_letter(filename):\n",
    "    with open(filename, \"r\") as file:\n",
    "        text = file.read().lower()  # Convert to lowercase for consistency\n",
    "\n",
    "    # Keep only letters (ignore spaces, digits, and punctuation)\n",
    "    letters = [ch for ch in text if ch.isalpha()]\n",
    "\n",
    "    # Count each letter's frequency\n",
    "    letter_counts = Counter(letters)\n",
    "\n",
    "    # Find the most common letter\n",
    "    most_common = letter_counts.most_common(1)[0]  # (letter, count)\n",
    "\n",
    "    return most_common\n"
   ]
  },
  {
   "cell_type": "markdown",
   "id": "d12dcbc5-1532-4a18-bfb5-3b7b45cd09ed",
   "metadata": {
    "id": "bea983a3"
   },
   "source": [
    "---\n",
    "\n",
    "### Exercise 50:\n",
    "Write a Python script that reads a file and replaces every occurrence of `\"Python\"` with `\"Java\"`.\n",
    "\n",
    "```python\n",
    "# Exercise 50\n",
    "```"
   ]
  },
  {
   "cell_type": "code",
   "execution_count": 32,
   "id": "e1d65cc0-8199-4d2c-910c-ebcb79797f88",
   "metadata": {},
   "outputs": [],
   "source": [
    "def replace_python_with_java(filename):\n",
    "    with open(filename, 'r') as file:\n",
    "        content = file.read()\n",
    "\n",
    "    updated_content = content.replace(\"Python\", \"Java\")\n",
    "    \n",
    "    with open(filename, 'w') as file:\n",
    "        file.write(updated_content)\n",
    "    \n",
    "    print(\"All occurrences of 'Python' have been replaced with 'Java'.\")"
   ]
  }
 ],
 "metadata": {
  "colab": {
   "provenance": []
  },
  "kernelspec": {
   "display_name": "Python 3 (ipykernel)",
   "language": "python",
   "name": "python3"
  },
  "language_info": {
   "codemirror_mode": {
    "name": "ipython",
    "version": 3
   },
   "file_extension": ".py",
   "mimetype": "text/x-python",
   "name": "python",
   "nbconvert_exporter": "python",
   "pygments_lexer": "ipython3",
   "version": "3.13.5"
  }
 },
 "nbformat": 4,
 "nbformat_minor": 5
}
