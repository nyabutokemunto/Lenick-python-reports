{
 "cells": [
  {
   "cell_type": "code",
   "execution_count": 2,
   "id": "1a95213a",
   "metadata": {},
   "outputs": [
    {
     "name": "stdout",
     "output_type": "stream",
     "text": [
      "30\n"
     ]
    }
   ],
   "source": [
    "a=2\n",
    "b=4\n",
    "c=5\n",
    "total=(a+b)*c\n",
    "print(total)"
   ]
  },
  {
   "cell_type": "code",
   "execution_count": 5,
   "id": "288917c9",
   "metadata": {},
   "outputs": [
    {
     "name": "stdout",
     "output_type": "stream",
     "text": [
      "Give me a number to check...\n",
      "-4\n",
      "negative\n"
     ]
    }
   ],
   "source": [
    "number=input(\"Give me a number to check...\\n\")\n",
    "number=int(number)\n",
    "if number==0:\n",
    "    print(\"0\")\n",
    "elif number <0:\n",
    "    print(\"negative\")\n",
    "else:\n",
    "    print(\"positive\")"
   ]
  },
  {
   "cell_type": "code",
   "execution_count": 2,
   "id": "2253c315",
   "metadata": {},
   "outputs": [
    {
     "name": "stdout",
     "output_type": "stream",
     "text": [
      "hello world\n",
      "\n",
      "hello world\n",
      "\n",
      "hello world\n",
      "\n",
      "hello world\n",
      "\n",
      "hello world\n",
      "\n",
      "hello world\n",
      "\n",
      "hello world\n",
      "\n",
      "hello world\n",
      "\n",
      "hello world\n",
      "\n",
      "hello world\n",
      "\n"
     ]
    }
   ],
   "source": [
    "N=0\n",
    "\n",
    "for N in range(10):\n",
    "    print(\"hello world\\n\")\n"
   ]
  },
  {
   "cell_type": "code",
   "execution_count": 8,
   "id": "88097b6d",
   "metadata": {},
   "outputs": [
    {
     "name": "stdout",
     "output_type": "stream",
     "text": [
      "enter a number 8\n",
      "The cube root is  2\n"
     ]
    }
   ],
   "source": [
    "N=input(\"enter a number \")\n",
    "N=int(N)\n",
    "if N<=0:\n",
    "    print(\"error\")\n",
    "for i in range(100):\n",
    "    if N==i*i*i:\n",
    "        print(\"The cube root is \",i)"
   ]
  },
  {
   "cell_type": "code",
   "execution_count": 5,
   "id": "ccf45532",
   "metadata": {},
   "outputs": [],
   "source": []
  },
  {
   "cell_type": "code",
   "execution_count": null,
   "id": "0d9f29b7",
   "metadata": {},
   "outputs": [],
   "source": []
  }
 ],
 "metadata": {
  "kernelspec": {
   "display_name": "Python 3 (ipykernel)",
   "language": "python",
   "name": "python3"
  },
  "language_info": {
   "codemirror_mode": {
    "name": "ipython",
    "version": 3
   },
   "file_extension": ".py",
   "mimetype": "text/x-python",
   "name": "python",
   "nbconvert_exporter": "python",
   "pygments_lexer": "ipython3",
   "version": "3.10.12"
  }
 },
 "nbformat": 4,
 "nbformat_minor": 5
}
