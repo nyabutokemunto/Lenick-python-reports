{
 "cells": [
  {
   "cell_type": "markdown",
   "id": "d68c1dee",
   "metadata": {
    "id": "d68c1dee"
   },
   "source": [
    "# Practical_4: Flow control"
   ]
  },
  {
   "cell_type": "markdown",
   "id": "cab7c4c6-f99e-472e-a4e7-68686559c096",
   "metadata": {
    "id": "bea983a3"
   },
   "source": [
    "---\n",
    "\n",
    "### Exercise 1:\n",
    "Write a Python program that checks if a number is positive or negative.\n",
    "\n",
    "```python\n",
    "# Exercise 1\n",
    "```"
   ]
  },
  {
   "cell_type": "code",
   "execution_count": 1,
   "id": "5f6b4df8-c564-40bd-862a-f35855ad42d2",
   "metadata": {},
   "outputs": [
    {
     "name": "stdin",
     "output_type": "stream",
     "text": [
      "Enter a number:  -4\n"
     ]
    },
    {
     "name": "stdout",
     "output_type": "stream",
     "text": [
      "The number is negative.\n"
     ]
    }
   ],
   "source": [
    "num = float(input(\"Enter a number: \"))\n",
    "\n",
    "if num > 0:\n",
    "    print(\"The number is positive.\")\n",
    "elif num < 0:\n",
    "    print(\"The number is negative.\")\n",
    "else:\n",
    "    print(\"The number is zero.\")"
   ]
  },
  {
   "cell_type": "markdown",
   "id": "006a70f7-40d4-40ef-b14e-536ea0cfdd64",
   "metadata": {
    "id": "bea983a3"
   },
   "source": [
    "---\n",
    "\n",
    "### Exercise 2:\n",
    "Write a Python function that checks if a string starts with a vowel.\n",
    "\n",
    "```python\n",
    "# Exercise 2\n",
    "```"
   ]
  },
  {
   "cell_type": "code",
   "execution_count": 2,
   "id": "feab54fb-2ca5-498f-8c0e-23372de20ea1",
   "metadata": {},
   "outputs": [],
   "source": [
    "def starts_with_vowel(s):\n",
    "    \"\"\"Return True if the string starts with a vowel, otherwise False.\"\"\"\n",
    "    vowels = 'aeiouAEIOU'\n",
    "    return s != \"\" and s[0] in vowels"
   ]
  },
  {
   "cell_type": "markdown",
   "id": "b7931d3a-8cfc-472b-b088-d1037c749918",
   "metadata": {
    "id": "bea983a3"
   },
   "source": [
    "---\n",
    "\n",
    "### Exercise 3:\n",
    "Write a Python program that takes a list of integers and prints \"Even\" for each even number and \"Odd\" for each odd number.\n",
    "\n",
    "```python\n",
    "# Exercise 3\n",
    "```"
   ]
  },
  {
   "cell_type": "code",
   "execution_count": 3,
   "id": "1e2f3889-e759-4ebb-866a-269c0dbd7edc",
   "metadata": {},
   "outputs": [
    {
     "name": "stdout",
     "output_type": "stream",
     "text": [
      "1 is Odd\n",
      "2 is Even\n",
      "3 is Odd\n",
      "4 is Even\n",
      "5 is Odd\n",
      "6 is Even\n"
     ]
    }
   ],
   "source": [
    "numbers = [1, 2, 3, 4, 5, 6]\n",
    "\n",
    "for num in numbers:\n",
    "    if num % 2 == 0:\n",
    "        print(f\"{num} is Even\")\n",
    "    else:\n",
    "        print(f\"{num} is Odd\")"
   ]
  },
  {
   "cell_type": "markdown",
   "id": "3b9aea7f-5de1-415d-abbb-75d777b08eb4",
   "metadata": {
    "id": "bea983a3"
   },
   "source": [
    "---\n",
    "\n",
    "### Exercise 4:\n",
    "Write a Python program that checks if a given year is a leap year.\n",
    "\n",
    "```python\n",
    "# Exercise 4\n",
    "```"
   ]
  },
  {
   "cell_type": "code",
   "execution_count": 4,
   "id": "61f581ab-eafd-4020-b9ec-9ac1baef4fa1",
   "metadata": {},
   "outputs": [
    {
     "name": "stdin",
     "output_type": "stream",
     "text": [
      "Enter a year:  2014\n"
     ]
    },
    {
     "name": "stdout",
     "output_type": "stream",
     "text": [
      "2014 is not a leap year.\n"
     ]
    }
   ],
   "source": [
    "year = int(input(\"Enter a year: \"))\n",
    "\n",
    "if (year % 4 == 0 and year % 100 != 0) or (year % 400 == 0):\n",
    "    print(f\"{year} is a leap year.\")\n",
    "else:\n",
    "    print(f\"{year} is not a leap year.\")"
   ]
  },
  {
   "cell_type": "markdown",
   "id": "8a1b685b-4c14-4933-b4ec-14f3219bde7f",
   "metadata": {
    "id": "bea983a3"
   },
   "source": [
    "---\n",
    "\n",
    "### Exercise 5:\n",
    "Write a Python function that checks if a number is divisible by both 3 and 5.\n",
    "\n",
    "```python\n",
    "# Exercise 5\n",
    "```"
   ]
  },
  {
   "cell_type": "code",
   "execution_count": 5,
   "id": "c8983735-1ead-4069-87b8-d24407490a8c",
   "metadata": {},
   "outputs": [],
   "source": [
    "def divisible_by_3_and_5(num):\n",
    "    \"\"\"Return True if the number is divisible by both 3 and 5, otherwise False.\"\"\"\n",
    "    return num % 3 == 0 and num % 5 == 0"
   ]
  },
  {
   "cell_type": "markdown",
   "id": "e3c98e6c-fdb0-44ca-8799-0a3bf75d04ee",
   "metadata": {
    "id": "bea983a3"
   },
   "source": [
    "---\n",
    "\n",
    "### Exercise 6:\n",
    "Write a Python program that prints \"Hot\" if the temperature is above 30, \"Warm\" if it is between 15 and 30, and \"Cold\" if it is below 15.\n",
    "\n",
    "```python\n",
    "# Exercise 6\n",
    "```"
   ]
  },
  {
   "cell_type": "code",
   "execution_count": 6,
   "id": "83653724-1e45-4b18-ac83-01183ade2be6",
   "metadata": {},
   "outputs": [
    {
     "name": "stdin",
     "output_type": "stream",
     "text": [
      "Enter the temperature in °C:  60\n"
     ]
    },
    {
     "name": "stdout",
     "output_type": "stream",
     "text": [
      "Hot\n"
     ]
    }
   ],
   "source": [
    "temperature = float(input(\"Enter the temperature in °C: \"))\n",
    "\n",
    "if temperature > 30:\n",
    "    print(\"Hot\")\n",
    "elif 15 <= temperature <= 30:\n",
    "    print(\"Warm\")\n",
    "else:\n",
    "    print(\"Cold\")"
   ]
  },
  {
   "cell_type": "markdown",
   "id": "4c7096f2-eed0-4f05-bb94-40984d72bbe5",
   "metadata": {
    "id": "bea983a3"
   },
   "source": [
    "---\n",
    "\n",
    "### Exercise 7:\n",
    "Write a Python program that checks if a string contains the letter 'a'.\n",
    "\n",
    "```python\n",
    "# Exercise 7\n",
    "```"
   ]
  },
  {
   "cell_type": "code",
   "execution_count": 7,
   "id": "a9badcd0-cb37-4fbe-aff8-d3d10251df9f",
   "metadata": {},
   "outputs": [
    {
     "name": "stdin",
     "output_type": "stream",
     "text": [
      "Enter a string:  ant\n"
     ]
    },
    {
     "name": "stdout",
     "output_type": "stream",
     "text": [
      "The string contains the letter 'a'.\n"
     ]
    }
   ],
   "source": [
    "text = input(\"Enter a string: \")\n",
    "\n",
    "if 'a' in text or 'A' in text:\n",
    "    print(\"The string contains the letter 'a'.\")\n",
    "else:\n",
    "    print(\"The string does not contain the letter 'a'.\")"
   ]
  },
  {
   "cell_type": "markdown",
   "id": "e1d4d8ac-7578-413d-b214-6c3f024bdfbd",
   "metadata": {
    "id": "bea983a3"
   },
   "source": [
    "---\n",
    "\n",
    "### Exercise 8:\n",
    "Write a Python function that checks if two numbers are equal, or which one is larger.\n",
    "\n",
    "```python\n",
    "# Exercise 8\n",
    "```"
   ]
  },
  {
   "cell_type": "code",
   "execution_count": 8,
   "id": "36517c11-154a-44e6-9a79-6869b360e26c",
   "metadata": {},
   "outputs": [],
   "source": [
    "def compare_numbers(a, b):\n",
    "    \"\"\"Compare two numbers and print their relationship.\"\"\"\n",
    "    if a == b:\n",
    "        print(\"Both numbers are equal.\")\n",
    "    elif a > b:\n",
    "        print(f\"{a} is greater than {b}.\")\n",
    "    else:\n",
    "        print(f\"{b} is greater than {a}.\")"
   ]
  },
  {
   "cell_type": "markdown",
   "id": "670beb17-a9c8-4a28-93b1-162c90debaa0",
   "metadata": {
    "id": "bea983a3"
   },
   "source": [
    "---\n",
    "\n",
    "### Exercise 9:\n",
    "Write a Python program that checks if a list is empty.\n",
    "\n",
    "```python\n",
    "# Exercise 9\n",
    "```"
   ]
  },
  {
   "cell_type": "code",
   "execution_count": 9,
   "id": "4987dadf-8f91-4c06-a78d-5bf93df3e21a",
   "metadata": {},
   "outputs": [
    {
     "name": "stdout",
     "output_type": "stream",
     "text": [
      "The list is empty.\n"
     ]
    }
   ],
   "source": [
    "my_list = []\n",
    "\n",
    "if not my_list:\n",
    "    print(\"The list is empty.\")\n",
    "else:\n",
    "    print(\"The list is not empty.\")"
   ]
  },
  {
   "cell_type": "markdown",
   "id": "aaf9b9ce-d9f0-408d-8193-5a7e8b34283d",
   "metadata": {
    "id": "bea983a3"
   },
   "source": [
    "---\n",
    "\n",
    "### Exercise 10:\n",
    "Write a Python function that takes two strings and checks if they are anagrams.\n",
    "\n",
    "```python\n",
    "# Exercise 10\n",
    "```"
   ]
  },
  {
   "cell_type": "code",
   "execution_count": 10,
   "id": "5494a034-ff62-4cf9-b21a-336d34501979",
   "metadata": {},
   "outputs": [],
   "source": [
    "def are_anagrams(str1, str2):\n",
    "    \"\"\"Return True if the two strings are anagrams, otherwise False.\"\"\"\n",
    "    str1 = str1.replace(\" \", \"\").lower()\n",
    "    str2 = str2.replace(\" \", \"\").lower()\n",
    "\n",
    "    return sorted(str1) == sorted(str2)"
   ]
  },
  {
   "cell_type": "markdown",
   "id": "cbbab6be-8ddd-4407-8815-fa94cf4062a3",
   "metadata": {
    "id": "bea983a3"
   },
   "source": [
    "---\n",
    "\n",
    "### Exercise 11:\n",
    "Write a Python program that checks if a number is prime.\n",
    "\n",
    "```python\n",
    "# Exercise 11\n",
    "```"
   ]
  },
  {
   "cell_type": "code",
   "execution_count": 11,
   "id": "9677620c-ea56-4496-9d12-5a26f6227460",
   "metadata": {},
   "outputs": [
    {
     "name": "stdin",
     "output_type": "stream",
     "text": [
      "Enter a number:  17\n"
     ]
    },
    {
     "name": "stdout",
     "output_type": "stream",
     "text": [
      "17 is a prime number.\n"
     ]
    }
   ],
   "source": [
    "num = int(input(\"Enter a number: \"))\n",
    "\n",
    "if num <= 1:\n",
    "    print(f\"{num} is not a prime number.\")\n",
    "else:\n",
    "    for i in range(2, int(num**0.5) + 1):\n",
    "        if num % i == 0:\n",
    "            print(f\"{num} is not a prime number.\")\n",
    "            break\n",
    "    else:\n",
    "        print(f\"{num} is a prime number.\")"
   ]
  },
  {
   "cell_type": "markdown",
   "id": "94d1f399-994b-4c1d-80cc-99226c472bbd",
   "metadata": {
    "id": "bea983a3"
   },
   "source": [
    "---\n",
    "\n",
    "### Exercise 12:\n",
    "Write a Python program that checks if a list of numbers is sorted in ascending order.\n",
    "\n",
    "```python\n",
    "# Exercise 12\n",
    "```"
   ]
  },
  {
   "cell_type": "code",
   "execution_count": 12,
   "id": "cf170e0a-243a-4a33-b436-12e20120eec9",
   "metadata": {},
   "outputs": [
    {
     "name": "stdout",
     "output_type": "stream",
     "text": [
      "The list is sorted in ascending order.\n"
     ]
    }
   ],
   "source": [
    "numbers = [1, 2, 3, 4, 5]\n",
    "\n",
    "if numbers == sorted(numbers):\n",
    "    print(\"The list is sorted in ascending order.\")\n",
    "else:\n",
    "    print(\"The list is not sorted in ascending order.\")"
   ]
  },
  {
   "cell_type": "markdown",
   "id": "feca8b41-5166-4f7e-bc9c-b6db80a9a3f1",
   "metadata": {
    "id": "bea983a3"
   },
   "source": [
    "---\n",
    "\n",
    "### Exercise 13:\n",
    "Write a Python function that takes a character and checks if it is a digit.\n",
    "\n",
    "```python\n",
    "# Exercise 13\n",
    "```"
   ]
  },
  {
   "cell_type": "code",
   "execution_count": 13,
   "id": "2958e0c2-a0db-4534-a513-425f45fc7001",
   "metadata": {},
   "outputs": [],
   "source": [
    "def is_digit(char):\n",
    "    \"\"\"Return True if the character is a digit, otherwise False.\"\"\"\n",
    "    return char.isdigit()"
   ]
  },
  {
   "cell_type": "markdown",
   "id": "85b21416-70c1-49c4-8436-69e0ccd39d02",
   "metadata": {
    "id": "bea983a3"
   },
   "source": [
    "---\n",
    "\n",
    "### Exercise 14:\n",
    "Write a Python function that checks if a string contains only uppercase letters.\n",
    "\n",
    "```python\n",
    "# Exercise 14\n",
    "```"
   ]
  },
  {
   "cell_type": "code",
   "execution_count": 14,
   "id": "d2e78959-8e7e-40e2-bb91-34e409733f39",
   "metadata": {},
   "outputs": [],
   "source": [
    "def is_all_uppercase(s):\n",
    "    \"\"\"Return True if the string contains only uppercase letters, otherwise False.\"\"\"\n",
    "    return s.isupper()"
   ]
  },
  {
   "cell_type": "markdown",
   "id": "b2cff5aa-e573-41c6-a7b3-fe73657124e4",
   "metadata": {
    "id": "bea983a3"
   },
   "source": [
    "---\n",
    "\n",
    "### Exercise 15:\n",
    "Write a Python program that checks if a number is a multiple of 10.\n",
    "\n",
    "```python\n",
    "# Exercise 15\n",
    "```"
   ]
  },
  {
   "cell_type": "code",
   "execution_count": 15,
   "id": "8fb6208b-3f3a-4dec-b62f-b2fc804a46eb",
   "metadata": {},
   "outputs": [
    {
     "name": "stdin",
     "output_type": "stream",
     "text": [
      "Enter a number:  300\n"
     ]
    },
    {
     "name": "stdout",
     "output_type": "stream",
     "text": [
      "300 is a multiple of 10.\n"
     ]
    }
   ],
   "source": [
    "num = int(input(\"Enter a number: \"))\n",
    "\n",
    "if num % 10 == 0:\n",
    "    print(f\"{num} is a multiple of 10.\")\n",
    "else:\n",
    "    print(f\"{num} is not a multiple of 10.\")"
   ]
  },
  {
   "cell_type": "markdown",
   "id": "8b5f79c9-cbdd-46e3-91d7-08f410ef13e1",
   "metadata": {
    "id": "bea983a3"
   },
   "source": [
    "---\n",
    "\n",
    "### Exercise 16:\n",
    "Write a Python function that checks if a list contains any duplicates.\n",
    "\n",
    "```python\n",
    "# Exercise 16\n",
    "```"
   ]
  },
  {
   "cell_type": "code",
   "execution_count": 16,
   "id": "ce62a337-9228-4705-b19e-53ab6eb05f1d",
   "metadata": {},
   "outputs": [],
   "source": [
    "def has_duplicates(lst):\n",
    "    \"\"\"Return True if the list contains duplicates, otherwise False.\"\"\"\n",
    "    return len(lst) != len(set(lst))"
   ]
  },
  {
   "cell_type": "markdown",
   "id": "0a7c8ec2-4ed7-4731-960e-2843aa275a74",
   "metadata": {
    "id": "bea983a3"
   },
   "source": [
    "---\n",
    "\n",
    "### Exercise 17:\n",
    "Write a Python program that prints \"Teenager\" if the age is between 13 and 19, otherwise it prints \"Not a teenager.\"\n",
    "\n",
    "```python\n",
    "# Exercise 17\n",
    "```"
   ]
  },
  {
   "cell_type": "code",
   "execution_count": 17,
   "id": "e7505958-09f2-4d39-a304-4088d86ad9c1",
   "metadata": {},
   "outputs": [
    {
     "name": "stdin",
     "output_type": "stream",
     "text": [
      "Enter your age:  16\n"
     ]
    },
    {
     "name": "stdout",
     "output_type": "stream",
     "text": [
      "Teenager\n"
     ]
    }
   ],
   "source": [
    "age = int(input(\"Enter your age: \"))\n",
    "\n",
    "if 13 <= age <= 19:\n",
    "    print(\"Teenager\")\n",
    "else:\n",
    "    print(\"Not a teenager.\")"
   ]
  },
  {
   "cell_type": "markdown",
   "id": "b934112d-8776-48ed-be1e-b56f1acd1f02",
   "metadata": {
    "id": "bea983a3"
   },
   "source": [
    "---\n",
    "\n",
    "### Exercise 18:\n",
    "Write a Python function that checks if a list contains an element greater than 100.\n",
    "\n",
    "```python\n",
    "# Exercise 18\n",
    "```"
   ]
  },
  {
   "cell_type": "code",
   "execution_count": 18,
   "id": "692ab64c-42a8-4c97-97bc-d51780592353",
   "metadata": {},
   "outputs": [],
   "source": [
    "def has_greater_than_100(lst):\n",
    "    \"\"\"Return True if the list contains any element greater than 100.\"\"\"\n",
    "    return any(x > 100 for x in lst)"
   ]
  },
  {
   "cell_type": "markdown",
   "id": "ba04853d-54e9-4ad8-b568-aaa0b409fc3b",
   "metadata": {
    "id": "bea983a3"
   },
   "source": [
    "---\n",
    "\n",
    "### Exercise 19:\n",
    "Write a Python program that checks if a number is even or odd.\n",
    "\n",
    "```python\n",
    "# Exercise 19\n",
    "```"
   ]
  },
  {
   "cell_type": "code",
   "execution_count": 19,
   "id": "4a332882-061b-4874-ae88-da9b3be9edf9",
   "metadata": {},
   "outputs": [
    {
     "name": "stdin",
     "output_type": "stream",
     "text": [
      "Enter a number:  56\n"
     ]
    },
    {
     "name": "stdout",
     "output_type": "stream",
     "text": [
      "56 is even.\n"
     ]
    }
   ],
   "source": [
    "num = int(input(\"Enter a number: \"))\n",
    "\n",
    "if num % 2 == 0:\n",
    "    print(f\"{num} is even.\")\n",
    "else:\n",
    "    print(f\"{num} is odd.\")"
   ]
  },
  {
   "cell_type": "markdown",
   "id": "90d2c1b6-c3aa-42b7-b468-dcc10586b95f",
   "metadata": {
    "id": "bea983a3"
   },
   "source": [
    "---\n",
    "\n",
    "### Exercise 20:\n",
    "Write a Python function that checks if a string ends with a punctuation mark.\n",
    "\n",
    "```python\n",
    "# Exercise 20\n",
    "```"
   ]
  },
  {
   "cell_type": "code",
   "execution_count": 20,
   "id": "a5ef9d50-e299-4286-a661-7e1663f83224",
   "metadata": {},
   "outputs": [],
   "source": [
    "import string\n",
    "\n",
    "def ends_with_punctuation(s):\n",
    "    \"\"\"Return True if the string ends with a punctuation mark, otherwise False.\"\"\"\n",
    "    return len(s) > 0 and s[-1] in string.punctuation"
   ]
  },
  {
   "cell_type": "markdown",
   "id": "7ef3510c-6b22-4a32-a244-2d8a429a226f",
   "metadata": {
    "id": "bea983a3"
   },
   "source": [
    "---\n",
    "\n",
    "### Exercise 21:\n",
    "Write a Python program that prints \"Yes\" if the number is between 1 and 100, otherwise it prints \"No.\"\n",
    "\n",
    "```python\n",
    "# Exercise 21\n",
    "```"
   ]
  },
  {
   "cell_type": "code",
   "execution_count": 21,
   "id": "4a2469f8-b331-4fde-b44b-ed611c713f28",
   "metadata": {},
   "outputs": [
    {
     "name": "stdin",
     "output_type": "stream",
     "text": [
      "Enter a number:  89\n"
     ]
    },
    {
     "name": "stdout",
     "output_type": "stream",
     "text": [
      "Yes\n"
     ]
    }
   ],
   "source": [
    "num = int(input(\"Enter a number: \"))\n",
    "\n",
    "if 1 <= num <= 100:\n",
    "    print(\"Yes\")\n",
    "else:\n",
    "    print(\"No.\")"
   ]
  },
  {
   "cell_type": "markdown",
   "id": "56d22e05-e64c-4472-a87f-7d09419f016a",
   "metadata": {
    "id": "bea983a3"
   },
   "source": [
    "---\n",
    "\n",
    "### Exercise 22:\n",
    "Write a Python program that checks if two strings have the same length.\n",
    "\n",
    "```python\n",
    "# Exercise 22\n",
    "```"
   ]
  },
  {
   "cell_type": "code",
   "execution_count": 22,
   "id": "e084a0c9-8fa1-4d80-856f-821d6b2a3686",
   "metadata": {},
   "outputs": [
    {
     "name": "stdin",
     "output_type": "stream",
     "text": [
      "Enter the first string:  I like Python\n",
      "Enter the second string:  I do it everyday\n"
     ]
    },
    {
     "name": "stdout",
     "output_type": "stream",
     "text": [
      "The strings do not have the same length.\n"
     ]
    }
   ],
   "source": [
    "str1 = input(\"Enter the first string: \")\n",
    "str2 = input(\"Enter the second string: \")\n",
    "\n",
    "if len(str1) == len(str2):\n",
    "    print(\"The strings have the same length.\")\n",
    "else:\n",
    "    print(\"The strings do not have the same length.\")"
   ]
  },
  {
   "cell_type": "markdown",
   "id": "c98f5655-aa24-4f7f-b946-359084e4a11a",
   "metadata": {
    "id": "bea983a3"
   },
   "source": [
    "---\n",
    "\n",
    "### Exercise 23:\n",
    "Write a Python function that checks if a number is greater than its reverse.\n",
    "\n",
    "```python\n",
    "# Exercise 23\n",
    "```"
   ]
  },
  {
   "cell_type": "code",
   "execution_count": 23,
   "id": "ec0ca8a7-3536-4849-ae72-3530fc317e6b",
   "metadata": {},
   "outputs": [
    {
     "name": "stdout",
     "output_type": "stream",
     "text": [
      "False\n",
      "True\n"
     ]
    }
   ],
   "source": [
    "def is_greater_than_reverse(num):\n",
    "    reverse_num = int(str(num)[::-1])\n",
    "    \n",
    "    if num > reverse_num:\n",
    "        return True\n",
    "    else:\n",
    "        return False\n",
    "\n",
    "\n",
    "print(is_greater_than_reverse(123))  # False\n",
    "print(is_greater_than_reverse(321))  # True"
   ]
  },
  {
   "cell_type": "markdown",
   "id": "5379c01a-cc0b-45d9-9a61-fb42ce5ad036",
   "metadata": {
    "id": "bea983a3"
   },
   "source": [
    "---\n",
    "\n",
    "### Exercise 24:\n",
    "Write a Python program that checks if a password contains both letters and numbers.\n",
    "\n",
    "```python\n",
    "# Exercise 24\n",
    "```"
   ]
  },
  {
   "cell_type": "code",
   "execution_count": 24,
   "id": "b54afc78-b21b-41a8-b763-e5b244201fb6",
   "metadata": {},
   "outputs": [],
   "source": [
    "def check_password(password):\n",
    "    has_letter = False\n",
    "    has_number = False\n",
    "\n",
    "    for char in password:\n",
    "        if char.isalpha():\n",
    "            has_letter = True\n",
    "        elif char.isdigit():\n",
    "            has_number = True\n",
    "\n",
    "    if has_letter and has_number:\n",
    "        print(\"Valid password: contains both letters and numbers.\")\n",
    "    else:\n",
    "        print(\"Invalid password: must contain both letters and numbers.\")\n"
   ]
  },
  {
   "cell_type": "markdown",
   "id": "e4adc87b-ce45-4614-a902-c9551ea9a2f5",
   "metadata": {
    "id": "bea983a3"
   },
   "source": [
    "---\n",
    "\n",
    "### Exercise 25:\n",
    "Write a Python program that checks if a number is between two given numbers.\n",
    "\n",
    "```python\n",
    "# Exercise 25\n",
    "```"
   ]
  },
  {
   "cell_type": "code",
   "execution_count": 25,
   "id": "f5bbb2a4-091b-46df-875b-f7b8e9530b12",
   "metadata": {},
   "outputs": [],
   "source": [
    "def check_between(num, lower, upper):\n",
    "    if lower < num < upper:\n",
    "        print(f\"{num} is between {lower} and {upper}.\")\n",
    "    else:\n",
    "        print(f\"{num} is not between {lower} and {upper}.\")"
   ]
  },
  {
   "cell_type": "markdown",
   "id": "3c571596-646d-45ac-8624-fb1c19ee6264",
   "metadata": {
    "id": "bea983a3"
   },
   "source": [
    "---\n",
    "\n",
    "### Exercise 26:\n",
    "Write a Python function that checks if all characters in a string are unique.\n",
    "\n",
    "```python\n",
    "# Exercise 26\n",
    "```"
   ]
  },
  {
   "cell_type": "code",
   "execution_count": 26,
   "id": "c034cab1-b053-422e-b88d-149a5b4c8b9f",
   "metadata": {},
   "outputs": [],
   "source": [
    "def all_unique_chars(s):\n",
    "    return len(s) == len(set(s))\n"
   ]
  },
  {
   "cell_type": "markdown",
   "id": "46244350-477d-4249-bfb3-170a5ee43db3",
   "metadata": {
    "id": "bea983a3"
   },
   "source": [
    "---\n",
    "\n",
    "### Exercise 27:\n",
    "Write a Python program that checks if a number is a perfect square.\n",
    "\n",
    "```python\n",
    "# Exercise 27\n",
    "```"
   ]
  },
  {
   "cell_type": "code",
   "execution_count": 27,
   "id": "0ffab542-d85a-4ddb-b69f-01bf393c8216",
   "metadata": {},
   "outputs": [],
   "source": [
    "import math\n",
    "\n",
    "def is_perfect_square(num):\n",
    "    if num < 0:\n",
    "        return False  \n",
    "    sqrt_num = int(math.sqrt(num))\n",
    "    return sqrt_num * sqrt_num == num"
   ]
  },
  {
   "cell_type": "markdown",
   "id": "7de5aaf9-ee6a-4b5f-a483-66e514850b2e",
   "metadata": {
    "id": "bea983a3"
   },
   "source": [
    "---\n",
    "\n",
    "### Exercise 28:\n",
    "Write a Python function that checks if a word is a palindrome.\n",
    "\n",
    "```python\n",
    "# Exercise 28\n",
    "```"
   ]
  },
  {
   "cell_type": "code",
   "execution_count": 28,
   "id": "17a9352e-bcc0-4efc-a632-65c8d12a6832",
   "metadata": {},
   "outputs": [],
   "source": [
    "def is_palindrome(word):\n",
    "    word = word.lower()  \n",
    "    return word == word[::-1]\n"
   ]
  },
  {
   "cell_type": "markdown",
   "id": "2f54eed9-a2ec-4f7e-900a-a0fed2170799",
   "metadata": {
    "id": "bea983a3"
   },
   "source": [
    "---\n",
    "\n",
    "### Exercise 29:\n",
    "Write a Python program that prints \"Fizz\" if a number is divisible by 3, \"Buzz\" if it is divisible by 5, and \"FizzBuzz\" if divisible by both.\n",
    "\n",
    "```python\n",
    "# Exercise 29\n",
    "```"
   ]
  },
  {
   "cell_type": "code",
   "execution_count": 29,
   "id": "1faf1f9f-81a7-460c-ae06-18845a1d364d",
   "metadata": {},
   "outputs": [],
   "source": [
    "def fizz_buzz(num):\n",
    "    if num % 3 == 0 and num % 5 == 0:\n",
    "        print(\"FizzBuzz\")\n",
    "    elif num % 3 == 0:\n",
    "        print(\"Fizz\")\n",
    "    elif num % 5 == 0:\n",
    "        print(\"Buzz\")\n",
    "    else:\n",
    "        print(num)"
   ]
  },
  {
   "cell_type": "markdown",
   "id": "43141dbe-2d21-44af-9f6e-e63e5d3e41a1",
   "metadata": {
    "id": "bea983a3"
   },
   "source": [
    "---\n",
    "\n",
    "### Exercise 30:\n",
    "Write a Python program that checks if the sum of the digits of a number is even.\n",
    "\n",
    "```python\n",
    "# Exercise 30\n",
    "```"
   ]
  },
  {
   "cell_type": "code",
   "execution_count": 30,
   "id": "ba45370a-21f8-4c39-b6e2-ea6bc036f083",
   "metadata": {},
   "outputs": [],
   "source": [
    "def is_sum_even(num):\n",
    "    digit_sum = sum(int(digit) for digit in str(abs(num)))  \n",
    "    \n",
    "    if digit_sum % 2 == 0:\n",
    "        print(f\"The sum of digits ({digit_sum}) is even.\")\n",
    "    else:\n",
    "        print(f\"The sum of digits ({digit_sum}) is odd.\")\n"
   ]
  },
  {
   "cell_type": "markdown",
   "id": "2d1ea788-93d7-4656-b598-13719c54100d",
   "metadata": {
    "id": "bea983a3"
   },
   "source": [
    "---\n",
    "\n",
    "### Exercise 31:\n",
    "Write a Python program that checks if a string is a valid email address.\n",
    "\n",
    "```python\n",
    "# Exercise 31\n",
    "```"
   ]
  },
  {
   "cell_type": "code",
   "execution_count": 31,
   "id": "9be45e31-9e9d-44d1-8bca-457a1472c4fc",
   "metadata": {},
   "outputs": [],
   "source": [
    "import re\n",
    "\n",
    "def is_valid_email(email):\n",
    "    # Basic email regex pattern\n",
    "    pattern = r'^[\\w\\.-]+@[\\w\\.-]+\\.\\w+$'\n",
    "    \n",
    "    if re.match(pattern, email):\n",
    "        print(f\"{email} is a valid email address.\")\n",
    "    else:\n",
    "        print(f\"{email} is NOT a valid email address.\")"
   ]
  },
  {
   "cell_type": "markdown",
   "id": "3806631e-eabd-4d0a-873f-5a46b574ec22",
   "metadata": {
    "id": "bea983a3"
   },
   "source": [
    "---\n",
    "\n",
    "### Exercise 32:\n",
    "Write a Python function that checks if a number is within 10 of 100 or 200.\n",
    "\n",
    "```python\n",
    "# Exercise 32\n",
    "```"
   ]
  },
  {
   "cell_type": "code",
   "execution_count": null,
   "id": "b6599825-f484-47a0-a908-49470ab5e779",
   "metadata": {},
   "outputs": [],
   "source": [
    "def near_hundred(num):\n",
    "    return abs(100 - num) <= 10 or abs(200 - num) <= 10"
   ]
  },
  {
   "cell_type": "markdown",
   "id": "6d3ee415-39e6-453d-b84b-a45f94e00835",
   "metadata": {
    "id": "bea983a3"
   },
   "source": [
    "---\n",
    "\n",
    "### Exercise 33:\n",
    "Write a Python program that checks if a given string is a valid URL.\n",
    "\n",
    "```python\n",
    "# Exercise 33\n",
    "```"
   ]
  },
  {
   "cell_type": "code",
   "execution_count": 32,
   "id": "6cea1042-0f28-46d8-8abb-a988a00f989a",
   "metadata": {},
   "outputs": [],
   "source": [
    "def is_valid_url(url):\n",
    "    return url.startswith((\"http://\", \"https://\", \"www.\")) and \".\" in url\n"
   ]
  },
  {
   "cell_type": "markdown",
   "id": "107453c8-17dd-4e60-aedc-e81c04c47b3c",
   "metadata": {
    "id": "bea983a3"
   },
   "source": [
    "---\n",
    "\n",
    "### Exercise 34:\n",
    "Write a Python program that checks if a list contains all even numbers.\n",
    "\n",
    "```python\n",
    "# Exercise 34\n",
    "```"
   ]
  },
  {
   "cell_type": "code",
   "execution_count": 33,
   "id": "24969a9b-2ed3-43ed-96d1-7e27b66cd522",
   "metadata": {},
   "outputs": [],
   "source": [
    "def all_even(numbers):\n",
    "    return all(num % 2 == 0 for num in numbers)\n"
   ]
  },
  {
   "cell_type": "markdown",
   "id": "ab4f831a-765b-467e-bd40-0a573d93cb02",
   "metadata": {
    "id": "bea983a3"
   },
   "source": [
    "---\n",
    "\n",
    "### Exercise 35:\n",
    "Write a Python program that checks if a word is longer than a given length.\n",
    "\n",
    "```python\n",
    "# Exercise 35\n",
    "```"
   ]
  },
  {
   "cell_type": "code",
   "execution_count": 34,
   "id": "73a88d68-22df-4a17-98db-bd4da0def3a8",
   "metadata": {},
   "outputs": [],
   "source": [
    "def is_longer_than(word, length):\n",
    "    if len(word) > length:\n",
    "        print(f\"'{word}' is longer than {length} characters.\")\n",
    "    else:\n",
    "        print(f\"'{word}' is NOT longer than {length} characters.\")\n"
   ]
  },
  {
   "cell_type": "markdown",
   "id": "691eab64-63b8-4afc-bccc-f609834a56f3",
   "metadata": {
    "id": "bea983a3"
   },
   "source": [
    "---\n",
    "\n",
    "### Exercise 36:\n",
    "Write a Python program that checks if a list contains only positive numbers.\n",
    "\n",
    "```python\n",
    "# Exercise 36\n",
    "```"
   ]
  },
  {
   "cell_type": "code",
   "execution_count": 35,
   "id": "c5f1e332-d979-49a7-a60c-e4896c678e7b",
   "metadata": {},
   "outputs": [],
   "source": [
    "def all_positive(numbers):\n",
    "    return all(num > 0 for num in numbers)\n"
   ]
  },
  {
   "cell_type": "markdown",
   "id": "cf3eb76c-1680-48c0-9a63-e6adb6c0a63d",
   "metadata": {
    "id": "bea983a3"
   },
   "source": [
    "---\n",
    "\n",
    "### Exercise 37:\n",
    "Write a Python function that checks if a year is a century year (i.e., divisible by 100).\n",
    "\n",
    "```python\n",
    "# Exercise 37\n",
    "```"
   ]
  },
  {
   "cell_type": "code",
   "execution_count": 36,
   "id": "ad320e33-68ac-474b-9bd5-867d446225ad",
   "metadata": {},
   "outputs": [],
   "source": [
    "def is_century_year(year):\n",
    "    return year % 100 == 0\n"
   ]
  },
  {
   "cell_type": "markdown",
   "id": "ead0cf73-60cb-4804-8f16-85113be96da1",
   "metadata": {
    "id": "bea983a3"
   },
   "source": [
    "---\n",
    "\n",
    "### Exercise 38:\n",
    "Write a Python program that checks if the sum of a list of numbers is greater than 100.\n",
    "\n",
    "```python\n",
    "# Exercise 38\n",
    "```"
   ]
  },
  {
   "cell_type": "code",
   "execution_count": 37,
   "id": "2c65ae93-d315-410f-b638-39e1ea0c6662",
   "metadata": {},
   "outputs": [],
   "source": [
    "def is_sum_greater_than_100(numbers):\n",
    "    total = sum(numbers)\n",
    "    if total > 100:\n",
    "        print(f\"The sum ({total}) is greater than 100.\")\n",
    "    else:\n",
    "        print(f\"The sum ({total}) is NOT greater than 100.\")\n"
   ]
  },
  {
   "cell_type": "markdown",
   "id": "fd1d6ff7-08aa-45c7-892a-6e2b383ce8ab",
   "metadata": {
    "id": "bea983a3"
   },
   "source": [
    "---\n",
    "\n",
    "### Exercise 39:\n",
    "Write a Python function that checks if a given word is a substring of another string.\n",
    "\n",
    "```python\n",
    "# Exercise 39\n",
    "```"
   ]
  },
  {
   "cell_type": "code",
   "execution_count": 38,
   "id": "2e15cb88-88cf-401b-9fcc-882e4bcb398b",
   "metadata": {},
   "outputs": [],
   "source": [
    "def is_substring(word, text):\n",
    "    return word in text\n"
   ]
  },
  {
   "cell_type": "markdown",
   "id": "90e87045-640a-4b20-a281-5ba5a42a3621",
   "metadata": {
    "id": "bea983a3"
   },
   "source": [
    "---\n",
    "\n",
    "### Exercise 40:\n",
    "Write a Python program that checks if a number is a power of 2.\n",
    "\n",
    "```python\n",
    "# Exercise 40\n",
    "```"
   ]
  },
  {
   "cell_type": "code",
   "execution_count": 39,
   "id": "e618c361-73d0-4eb0-b178-34bf786b7071",
   "metadata": {},
   "outputs": [],
   "source": [
    "def is_power_of_two(num):\n",
    "    if num <= 0:\n",
    "        return False\n",
    "    return (num & (num - 1)) == 0"
   ]
  },
  {
   "cell_type": "markdown",
   "id": "1d6aa041-ea0b-4daa-933c-8e9c9f2bd3a3",
   "metadata": {
    "id": "bea983a3"
   },
   "source": [
    "---\n",
    "\n",
    "### Exercise 41:\n",
    "Write a Python function that checks if a string contains no spaces.\n",
    "\n",
    "```python\n",
    "# Exercise 41\n",
    "```"
   ]
  },
  {
   "cell_type": "code",
   "execution_count": 49,
   "id": "2fd7000c-5263-43dd-af40-2069df186ac3",
   "metadata": {},
   "outputs": [],
   "source": [
    "def no_spaces(s):\n",
    "    return ' ' not in s\n"
   ]
  },
  {
   "cell_type": "markdown",
   "id": "6a7903e2-adf0-48fd-ae13-f703037b7b8c",
   "metadata": {
    "id": "bea983a3"
   },
   "source": [
    "---\n",
    "\n",
    "### Exercise 42:\n",
    "Write a Python program that prints \"Yes\" if a number is divisible by both 2 and 3, otherwise it prints \"No.\"\n",
    "\n",
    "```python\n",
    "# Exercise 42\n",
    "```"
   ]
  },
  {
   "cell_type": "code",
   "execution_count": 48,
   "id": "311af668-d62e-4760-afc7-7ef4da1cd9ff",
   "metadata": {},
   "outputs": [
    {
     "name": "stdin",
     "output_type": "stream",
     "text": [
      "Enter a number:  36\n"
     ]
    },
    {
     "name": "stdout",
     "output_type": "stream",
     "text": [
      "Yes\n"
     ]
    }
   ],
   "source": [
    "num = int(input(\"Enter a number: \"))\n",
    "\n",
    "if num % 2 == 0 and num % 3 == 0:\n",
    "    print(\"Yes\")\n",
    "else:\n",
    "    print(\"No\")"
   ]
  },
  {
   "cell_type": "markdown",
   "id": "14feaed2-f913-4b5b-b824-db5f8ad445c6",
   "metadata": {
    "id": "bea983a3"
   },
   "source": [
    "---\n",
    "\n",
    "### Exercise 43:\n",
    "Write a Python program that checks if a number is a palindrome.\n",
    "\n",
    "```python\n",
    "# Exercise 43\n",
    "```"
   ]
  },
  {
   "cell_type": "code",
   "execution_count": 47,
   "id": "de45bea2-cfaa-4843-8d92-91e9b5f2ce7c",
   "metadata": {},
   "outputs": [],
   "source": [
    "def is_palindrome_number(n):\n",
    "    s = str(n)\n",
    "    return s == s[::-1]"
   ]
  },
  {
   "cell_type": "markdown",
   "id": "affba4dc-800c-4b0f-be30-577116f3fb52",
   "metadata": {
    "id": "bea983a3"
   },
   "source": [
    "---\n",
    "\n",
    "### Exercise 44:\n",
    "Write a Python function that checks if a string is made of only lowercase letters.\n",
    "\n",
    "```python\n",
    "# Exercise 44\n",
    "```"
   ]
  },
  {
   "cell_type": "code",
   "execution_count": 46,
   "id": "1289874e-6a5b-4a4d-a279-6b0887151608",
   "metadata": {},
   "outputs": [],
   "source": [
    "def is_all_lowercase(s):\n",
    "    return s.islower()\n"
   ]
  },
  {
   "cell_type": "markdown",
   "id": "6f334f89-176e-4925-953e-5cc206774ba2",
   "metadata": {
    "id": "bea983a3"
   },
   "source": [
    "---\n",
    "\n",
    "### Exercise 45:\n",
    "Write a Python program that checks if a string starts with a specific prefix.\n",
    "\n",
    "```python\n",
    "# Exercise 45\n",
    "```"
   ]
  },
  {
   "cell_type": "code",
   "execution_count": 45,
   "id": "5109a4eb-b114-4734-9a8e-713edea34cad",
   "metadata": {},
   "outputs": [],
   "source": [
    "def starts_with_prefix(text, prefix):\n",
    "    if text.startswith(prefix):\n",
    "        print(f\"The string starts with '{prefix}'.\")\n",
    "    else:\n",
    "        print(f\"The string does NOT start with '{prefix}'.\")\n"
   ]
  },
  {
   "cell_type": "markdown",
   "id": "91e94b5a-29d1-4164-af9c-6dc7cfe4e379",
   "metadata": {
    "id": "bea983a3"
   },
   "source": [
    "---\n",
    "\n",
    "### Exercise 46:\n",
    "Write a Python function that checks if a number is divisible by any number in a given list.\n",
    "\n",
    "```python\n",
    "# Exercise 46\n",
    "```"
   ]
  },
  {
   "cell_type": "code",
   "execution_count": 44,
   "id": "c25cafb4-4c20-4ba0-b82c-343929a0a37f",
   "metadata": {},
   "outputs": [],
   "source": [
    "def divisible_by_any(num, divisors):\n",
    "    return any(num % d == 0 for d in divisors)\n"
   ]
  },
  {
   "cell_type": "markdown",
   "id": "0023826b-d5e3-4da7-b1d2-22aa4032c3c7",
   "metadata": {
    "id": "bea983a3"
   },
   "source": [
    "---\n",
    "\n",
    "### Exercise 47:\n",
    "Write a Python program that prints \"Yes\" if a string has more than one occurrence of the same letter.\n",
    "\n",
    "```python\n",
    "# Exercise 47\n",
    "```"
   ]
  },
  {
   "cell_type": "code",
   "execution_count": 43,
   "id": "c5e99345-ecd3-4745-9274-f70b5fd0a6db",
   "metadata": {},
   "outputs": [],
   "source": [
    "def has_duplicate_letters(s):\n",
    "    if len(s) != len(set(s)):\n",
    "        print(\"Yes\")\n",
    "    else:\n",
    "        print(\"No\")"
   ]
  },
  {
   "cell_type": "markdown",
   "id": "bced570d-c0f6-40f2-a121-c501d8996035",
   "metadata": {
    "id": "bea983a3"
   },
   "source": [
    "---\n",
    "\n",
    "### Exercise 48:\n",
    "Write a Python function that checks if a number is prime by dividing it by numbers up to its square root.\n",
    "\n",
    "```python\n",
    "# Exercise 48\n",
    "```"
   ]
  },
  {
   "cell_type": "code",
   "execution_count": 42,
   "id": "4e8f1b32-3b27-4dc6-b7b9-fb6fc908ea5d",
   "metadata": {},
   "outputs": [],
   "source": [
    "import math\n",
    "\n",
    "def is_prime(num):\n",
    "    if num < 2:\n",
    "        return False  \n",
    "    for i in range(2, int(math.sqrt(num)) + 1):\n",
    "        if num % i == 0:\n",
    "            return False\n",
    "    return True"
   ]
  },
  {
   "cell_type": "markdown",
   "id": "da0319e1-e260-4cca-b99a-9457e19f9dd6",
   "metadata": {
    "id": "bea983a3"
   },
   "source": [
    "---\n",
    "\n",
    "### Exercise 49:\n",
    "Write a Python program that checks if a number is within 1 of a multiple of 10.\n",
    "\n",
    "```python\n",
    "# Exercise 49\n",
    "```"
   ]
  },
  {
   "cell_type": "code",
   "execution_count": 41,
   "id": "7f1e63c0-9c4b-4b34-a7ce-988edaa65cd4",
   "metadata": {},
   "outputs": [],
   "source": [
    "def near_multiple_of_10(num):\n",
    "    if num % 10 <= 1 or num % 10 >= 9:\n",
    "        print(f\"{num} is within 1 of a multiple of 10.\")\n",
    "    else:\n",
    "        print(f\"{num} is NOT within 1 of a multiple of 10.\")"
   ]
  },
  {
   "cell_type": "markdown",
   "id": "daa26ea4-4e25-4733-b85c-5d5cfbcbc634",
   "metadata": {
    "id": "bea983a3"
   },
   "source": [
    "---\n",
    "\n",
    "### Exercise 50:\n",
    "Write a Python program that prints \"In range\" if a number is between 10 and 20 (inclusive), otherwise it prints \"Out of range.\"\n",
    "\n",
    "```python\n",
    "# Exercise 50\n",
    "```"
   ]
  },
  {
   "cell_type": "code",
   "execution_count": 40,
   "id": "c4926958-7327-4af7-99ba-f0892fdb55c3",
   "metadata": {},
   "outputs": [],
   "source": [
    "def check_range(num):\n",
    "    if 10 <= num <= 20:\n",
    "        print(\"In range\")\n",
    "    else:\n",
    "        print(\"Out of range\")\n"
   ]
  }
 ],
 "metadata": {
  "colab": {
   "provenance": []
  },
  "kernelspec": {
   "display_name": "Python 3 (ipykernel)",
   "language": "python",
   "name": "python3"
  },
  "language_info": {
   "codemirror_mode": {
    "name": "ipython",
    "version": 3
   },
   "file_extension": ".py",
   "mimetype": "text/x-python",
   "name": "python",
   "nbconvert_exporter": "python",
   "pygments_lexer": "ipython3",
   "version": "3.13.5"
  }
 },
 "nbformat": 4,
 "nbformat_minor": 5
}
