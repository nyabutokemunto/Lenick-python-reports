{
 "cells": [
  {
   "cell_type": "markdown",
   "id": "57393725",
   "metadata": {},
   "source": [
    "## Lists"
   ]
  },
  {
   "cell_type": "code",
   "execution_count": 5,
   "id": "f0771926",
   "metadata": {},
   "outputs": [
    {
     "name": "stdout",
     "output_type": "stream",
     "text": [
      "['Lenick', 'Nyabuto', 23, 3.2]\n"
     ]
    }
   ],
   "source": [
    "my_first_list=[\"Lenick\",\"Nyabuto\",23,3.2]\n",
    "print(my_first_list)"
   ]
  },
  {
   "cell_type": "code",
   "execution_count": 9,
   "id": "dda6cfbe",
   "metadata": {},
   "outputs": [
    {
     "data": {
      "text/plain": [
       "list"
      ]
     },
     "execution_count": 9,
     "metadata": {},
     "output_type": "execute_result"
    }
   ],
   "source": [
    "type(my_first_list)"
   ]
  },
  {
   "cell_type": "code",
   "execution_count": 20,
   "id": "03907a37",
   "metadata": {},
   "outputs": [
    {
     "name": "stdout",
     "output_type": "stream",
     "text": [
      "['Linet', 'Moige', 40, 1.8] ['Charles', 'Nyabuto', 45, 1.7]\n"
     ]
    }
   ],
   "source": [
    "my_second_list=[\"Linet\",\"Moige\",40,1.8]\n",
    "my_third_list=[\"Charles\",\"Nyabuto\",45,1.7]\n",
    "print(my_second_list,my_third_list)"
   ]
  },
  {
   "cell_type": "code",
   "execution_count": 21,
   "id": "5ec03a46",
   "metadata": {},
   "outputs": [
    {
     "name": "stdout",
     "output_type": "stream",
     "text": [
      "[['Linet', 'Moige', 40, 1.8], ['Linet', 'Moige', 40, 1.8], ['Charles', 'Nyabuto', 45, 1.7]]\n"
     ]
    }
   ],
   "source": [
    "my_family_list=[my_first_list, my_second_list, my_third_list]\n",
    "print(my_family_list)"
   ]
  },
  {
   "cell_type": "code",
   "execution_count": 17,
   "id": "4e8d4e8c",
   "metadata": {},
   "outputs": [
    {
     "data": {
      "text/plain": [
       "list"
      ]
     },
     "execution_count": 17,
     "metadata": {},
     "output_type": "execute_result"
    }
   ],
   "source": [
    "type(my_family_list)"
   ]
  },
  {
   "cell_type": "code",
   "execution_count": 22,
   "id": "91833ff5",
   "metadata": {},
   "outputs": [
    {
     "data": {
      "text/plain": [
       "[['Linet', 'Moige', 40, 1.8], 'Lenick', 'Nyabuto', 23, 3.2]"
      ]
     },
     "execution_count": 22,
     "metadata": {},
     "output_type": "execute_result"
    }
   ],
   "source": [
    "my_family_1=[my_first_list,\"Lenick\",\"Nyabuto\",23,3.2]\n",
    "my_family_1"
   ]
  },
  {
   "cell_type": "code",
   "execution_count": 23,
   "id": "eded7d7e",
   "metadata": {},
   "outputs": [
    {
     "data": {
      "text/plain": [
       "['Lenick', 'Nyabuto', 23, 3.2, 'AIMS SN', 'python', 14]"
      ]
     },
     "execution_count": 23,
     "metadata": {},
     "output_type": "execute_result"
    }
   ],
   "source": [
    "my_1=[\"Lenick\",\"Nyabuto\",23,3.2]\n",
    "my_2=[\"AIMS SN\",\"python\",14]\n",
    "my_1+my_2"
   ]
  },
  {
   "cell_type": "code",
   "execution_count": 24,
   "id": "becc83fb",
   "metadata": {},
   "outputs": [
    {
     "data": {
      "text/plain": [
       "['AIMS SN', 'python', 14, 'Lenick', 'Nyabuto', 23, 3.2]"
      ]
     },
     "execution_count": 24,
     "metadata": {},
     "output_type": "execute_result"
    }
   ],
   "source": [
    "my_2+my_1"
   ]
  },
  {
   "cell_type": "code",
   "execution_count": 25,
   "id": "c7ab3ac4",
   "metadata": {},
   "outputs": [],
   "source": [
    "my_1.append(7)"
   ]
  },
  {
   "cell_type": "code",
   "execution_count": 26,
   "id": "b2c5df4e",
   "metadata": {},
   "outputs": [
    {
     "data": {
      "text/plain": [
       "['Lenick', 'Nyabuto', 23, 3.2, 7]"
      ]
     },
     "execution_count": 26,
     "metadata": {},
     "output_type": "execute_result"
    }
   ],
   "source": [
    "my_1"
   ]
  },
  {
   "cell_type": "code",
   "execution_count": 27,
   "id": "a388f50e",
   "metadata": {},
   "outputs": [
    {
     "ename": "TypeError",
     "evalue": "'int' object is not iterable",
     "output_type": "error",
     "traceback": [
      "\u001b[0;31m---------------------------------------------------------------------------\u001b[0m",
      "\u001b[0;31mTypeError\u001b[0m                                 Traceback (most recent call last)",
      "\u001b[0;32m/tmp/ipykernel_9643/4163692272.py\u001b[0m in \u001b[0;36m<module>\u001b[0;34m\u001b[0m\n\u001b[0;32m----> 1\u001b[0;31m \u001b[0mmy_1\u001b[0m\u001b[0;34m.\u001b[0m\u001b[0mextend\u001b[0m\u001b[0;34m(\u001b[0m\u001b[0;36m6\u001b[0m\u001b[0;34m)\u001b[0m\u001b[0;34m\u001b[0m\u001b[0;34m\u001b[0m\u001b[0m\n\u001b[0m",
      "\u001b[0;31mTypeError\u001b[0m: 'int' object is not iterable"
     ]
    }
   ],
   "source": [
    "my_1.extend(6)"
   ]
  },
  {
   "cell_type": "code",
   "execution_count": 28,
   "id": "6d3fe832",
   "metadata": {},
   "outputs": [],
   "source": [
    "?my_1.extend"
   ]
  },
  {
   "cell_type": "code",
   "execution_count": 29,
   "id": "61084487",
   "metadata": {},
   "outputs": [
    {
     "data": {
      "text/plain": [
       "['Lenick', 'Nyabuto', 23, 3.2, 7]"
      ]
     },
     "execution_count": 29,
     "metadata": {},
     "output_type": "execute_result"
    }
   ],
   "source": [
    "my_1"
   ]
  },
  {
   "cell_type": "code",
   "execution_count": 30,
   "id": "2be2c3a4",
   "metadata": {},
   "outputs": [],
   "source": [
    "my_1.append([7])"
   ]
  },
  {
   "cell_type": "code",
   "execution_count": 31,
   "id": "4fd6a790",
   "metadata": {},
   "outputs": [
    {
     "data": {
      "text/plain": [
       "['Lenick', 'Nyabuto', 23, 3.2, 7, [7]]"
      ]
     },
     "execution_count": 31,
     "metadata": {},
     "output_type": "execute_result"
    }
   ],
   "source": [
    "my_1"
   ]
  },
  {
   "cell_type": "code",
   "execution_count": 32,
   "id": "5d37d1ef",
   "metadata": {},
   "outputs": [
    {
     "data": {
      "text/plain": [
       "['Lenick', 'Nyabuto', 23, 3.2, 7, [7], 6]"
      ]
     },
     "execution_count": 32,
     "metadata": {},
     "output_type": "execute_result"
    }
   ],
   "source": [
    "my_1.extend([6])\n",
    "my_1"
   ]
  },
  {
   "cell_type": "code",
   "execution_count": 35,
   "id": "af68cc86",
   "metadata": {},
   "outputs": [
    {
     "name": "stdout",
     "output_type": "stream",
     "text": [
      "['Lenick', 'Nyabuto', 23, 3.2, 7, [7], 6, 'Lenick', 'Nyabuto', 23, 3.2, 7, [7], 6]\n"
     ]
    }
   ],
   "source": [
    "print(2 * my_1)"
   ]
  },
  {
   "cell_type": "code",
   "execution_count": 37,
   "id": "a9ee1d97",
   "metadata": {},
   "outputs": [
    {
     "ename": "TypeError",
     "evalue": "can't multiply sequence by non-int of type 'float'",
     "output_type": "error",
     "traceback": [
      "\u001b[0;31m---------------------------------------------------------------------------\u001b[0m",
      "\u001b[0;31mTypeError\u001b[0m                                 Traceback (most recent call last)",
      "\u001b[0;32m/tmp/ipykernel_9643/2130642811.py\u001b[0m in \u001b[0;36m<module>\u001b[0;34m\u001b[0m\n\u001b[0;32m----> 1\u001b[0;31m \u001b[0mprint\u001b[0m\u001b[0;34m(\u001b[0m\u001b[0;36m2.5\u001b[0m \u001b[0;34m*\u001b[0m \u001b[0mmy_1\u001b[0m\u001b[0;34m)\u001b[0m\u001b[0;34m\u001b[0m\u001b[0;34m\u001b[0m\u001b[0m\n\u001b[0m",
      "\u001b[0;31mTypeError\u001b[0m: can't multiply sequence by non-int of type 'float'"
     ]
    }
   ],
   "source": [
    "print(2.5 * my_1)"
   ]
  },
  {
   "cell_type": "markdown",
   "id": "1fc15197",
   "metadata": {},
   "source": [
    "## dict"
   ]
  },
  {
   "cell_type": "code",
   "execution_count": 43,
   "id": "14cb1c49",
   "metadata": {},
   "outputs": [
    {
     "name": "stdout",
     "output_type": "stream",
     "text": [
      "{'people1': ['Lenick', 'Guy', 23, 1.9], 'people2': ['Pathe', 'Gueye', 32, 1.5]}\n"
     ]
    }
   ],
   "source": [
    "my_dict_1={'people1': [\"Lenick\",\"Guy\",23,1.90],'people2': [\"Pathe\",\"Gueye\",32,1.50]}\n",
    "print(my_dict_1)"
   ]
  },
  {
   "cell_type": "code",
   "execution_count": 44,
   "id": "85652acb",
   "metadata": {},
   "outputs": [
    {
     "data": {
      "text/plain": [
       "['Lenick', 'Guy', 23, 1.9]"
      ]
     },
     "execution_count": 44,
     "metadata": {},
     "output_type": "execute_result"
    }
   ],
   "source": [
    "my_dict_1['people1']"
   ]
  },
  {
   "cell_type": "code",
   "execution_count": 46,
   "id": "17925872",
   "metadata": {},
   "outputs": [
    {
     "data": {
      "text/plain": [
       "{'people1': ['Lenick', 'Guy', 23, 1.9],\n",
       " 'people2': ['Pathe', 'Gueye', 32, 1.5],\n",
       " 'people3': ['Mandou', 'Bah', 47, 1.43]}"
      ]
     },
     "execution_count": 46,
     "metadata": {},
     "output_type": "execute_result"
    }
   ],
   "source": [
    "my_dict_1['people3'] = [\"Mandou\",\"Bah\",47,1.43]\n",
    "(my_dict_1)"
   ]
  },
  {
   "cell_type": "code",
   "execution_count": 47,
   "id": "f29eb03f",
   "metadata": {},
   "outputs": [
    {
     "data": {
      "text/plain": [
       "{'people1': ['Lenick', 'Guy', 23, 1.9],\n",
       " 'people2': ['Pathe', 'Gueye', 32, 1.5],\n",
       " 'people3': ['Mandou', 'Bah', 48, 1.65]}"
      ]
     },
     "execution_count": 47,
     "metadata": {},
     "output_type": "execute_result"
    }
   ],
   "source": [
    "my_dict_1['people3'] = [\"Mandou\",\"Bah\",48,1.65]\n",
    "my_dict_1"
   ]
  },
  {
   "cell_type": "code",
   "execution_count": 48,
   "id": "48b9b962",
   "metadata": {},
   "outputs": [],
   "source": [
    "my_dict_2={'people1': [\"Lenick\",\"Guy\",23,1.90],'people2': [\"Pathe\",\"Gueye\",32,1.50],'people3':[\"Mandou\",\"Bah\",47,1.43]}\n"
   ]
  },
  {
   "cell_type": "code",
   "execution_count": 49,
   "id": "70601941",
   "metadata": {},
   "outputs": [
    {
     "data": {
      "text/plain": [
       "{'people1': ['Lenick', 'Guy', 23, 1.9],\n",
       " 'people2': ['Pathe', 'Gueye', 32, 1.5],\n",
       " 'people3': ['Mandou', 'Bah', 47, 1.43]}"
      ]
     },
     "execution_count": 49,
     "metadata": {},
     "output_type": "execute_result"
    }
   ],
   "source": [
    "my_dict_2"
   ]
  },
  {
   "cell_type": "code",
   "execution_count": 50,
   "id": "e505c493",
   "metadata": {},
   "outputs": [
    {
     "data": {
      "text/plain": [
       "dict_items([('people1', ['Lenick', 'Guy', 23, 1.9]), ('people2', ['Pathe', 'Gueye', 32, 1.5]), ('people3', ['Mandou', 'Bah', 47, 1.43])])"
      ]
     },
     "execution_count": 50,
     "metadata": {},
     "output_type": "execute_result"
    }
   ],
   "source": [
    "my_dict_2.items()"
   ]
  },
  {
   "cell_type": "code",
   "execution_count": 51,
   "id": "9931f4d3",
   "metadata": {},
   "outputs": [
    {
     "data": {
      "text/plain": [
       "dict_keys(['people1', 'people2', 'people3'])"
      ]
     },
     "execution_count": 51,
     "metadata": {},
     "output_type": "execute_result"
    }
   ],
   "source": [
    "my_dict_2.keys()"
   ]
  },
  {
   "cell_type": "code",
   "execution_count": 54,
   "id": "98b7d7e2",
   "metadata": {},
   "outputs": [
    {
     "data": {
      "text/plain": [
       "{'people1': ['Adashu', 27, 1.6], 'people2': ['Parfait', 28, 1.8]}"
      ]
     },
     "execution_count": 54,
     "metadata": {},
     "output_type": "execute_result"
    }
   ],
   "source": [
    "my_dict_3={'people1':[\"Lenick\",\"Guy\",23,1.90],'people2':[\"Morelle\",\"guy\",22,1.7]}\n",
    "my_dict_4={'people1':[\"Adashu\",27,1.6],'people2':[\"Parfait\",28,1.8]}\n",
    "?my_dict_3.update\n",
    "dict.update(my_dict_3,my_dict_4)\n",
    "my_dict_3"
   ]
  },
  {
   "cell_type": "code",
   "execution_count": 55,
   "id": "0e137990",
   "metadata": {},
   "outputs": [],
   "source": [
    "my_dict_3.update(my_dict_4)"
   ]
  },
  {
   "cell_type": "code",
   "execution_count": 56,
   "id": "5fd8d8de",
   "metadata": {},
   "outputs": [
    {
     "data": {
      "text/plain": [
       "{'people1': ['Adashu', 27, 1.6], 'people2': ['Parfait', 28, 1.8]}"
      ]
     },
     "execution_count": 56,
     "metadata": {},
     "output_type": "execute_result"
    }
   ],
   "source": [
    "my_dict_3"
   ]
  },
  {
   "cell_type": "code",
   "execution_count": null,
   "id": "3a143268",
   "metadata": {},
   "outputs": [],
   "source": []
  }
 ],
 "metadata": {
  "kernelspec": {
   "display_name": "Python 3 (ipykernel)",
   "language": "python",
   "name": "python3"
  },
  "language_info": {
   "codemirror_mode": {
    "name": "ipython",
    "version": 3
   },
   "file_extension": ".py",
   "mimetype": "text/x-python",
   "name": "python",
   "nbconvert_exporter": "python",
   "pygments_lexer": "ipython3",
   "version": "3.10.12"
  }
 },
 "nbformat": 4,
 "nbformat_minor": 5
}
