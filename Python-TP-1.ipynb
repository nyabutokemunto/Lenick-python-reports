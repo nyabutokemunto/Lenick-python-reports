{
 "cells": [
  {
   "cell_type": "markdown",
   "id": "426486dd",
   "metadata": {
    "id": "426486dd"
   },
   "source": [
    "\n",
    "\n",
    "# Practical_1: Variables and Assignments"
   ]
  },
  {
   "cell_type": "markdown",
   "id": "f18f90d2-9362-47be-b517-46a0eafd9149",
   "metadata": {
    "id": "9fb19f0d"
   },
   "source": [
    "----\n",
    "\n",
    "### Exercise 1:\n",
    "Declare a variable `x` and assign it the value `10`.\n",
    "\n",
    "```python\n",
    "# Exercise 1\n",
    "```"
   ]
  },
  {
   "cell_type": "code",
   "execution_count": 1,
   "id": "40adcab2-000c-4d3e-9f43-cd31a24e3523",
   "metadata": {},
   "outputs": [
    {
     "data": {
      "text/plain": [
       "10"
      ]
     },
     "execution_count": 1,
     "metadata": {},
     "output_type": "execute_result"
    }
   ],
   "source": [
    "x=10\n",
    "x"
   ]
  },
  {
   "cell_type": "markdown",
   "id": "1bf68d2b-d78d-4f30-8eb8-3c7105d5a6bc",
   "metadata": {
    "id": "9fb19f0d"
   },
   "source": [
    "---\n",
    "\n",
    "### Exercise 2:\n",
    "Assign the value `True` to a variable called `is_valid`.\n",
    "\n",
    "```python\n",
    "# Exercise 2\n",
    "```"
   ]
  },
  {
   "cell_type": "code",
   "execution_count": 2,
   "id": "ebf8b5ab-cd40-4ef0-b9c0-4d10147052a3",
   "metadata": {},
   "outputs": [
    {
     "data": {
      "text/plain": [
       "True"
      ]
     },
     "execution_count": 2,
     "metadata": {},
     "output_type": "execute_result"
    }
   ],
   "source": [
    "is_valid=True\n",
    "is_valid\n"
   ]
  },
  {
   "cell_type": "markdown",
   "id": "764f3b8d-cf9d-4363-9547-acbf22ba8bae",
   "metadata": {
    "id": "9fb19f0d"
   },
   "source": [
    "---\n",
    "\n",
    "### Exercise 3:\n",
    "Create a string variable `name` with the value \"Python Programming\".\n",
    "\n",
    "```python\n",
    "# Exercise 3\n",
    "```"
   ]
  },
  {
   "cell_type": "code",
   "execution_count": 3,
   "id": "d5ace882-804e-466f-991e-3fa29b313ef2",
   "metadata": {},
   "outputs": [
    {
     "data": {
      "text/plain": [
       "'Python Programming'"
      ]
     },
     "execution_count": 3,
     "metadata": {},
     "output_type": "execute_result"
    }
   ],
   "source": [
    "name=\"Python Programming\"\n",
    "name"
   ]
  },
  {
   "cell_type": "markdown",
   "id": "560bdff9-a50a-4e64-a579-e72935dfed76",
   "metadata": {
    "id": "9fb19f0d"
   },
   "source": [
    "---\n",
    "\n",
    "### Exercise 4:\n",
    "Assign the result of `5 + 3` to a variable `sum_result`.\n",
    "\n",
    "```python\n",
    "# Exercise 4\n",
    "```"
   ]
  },
  {
   "cell_type": "code",
   "execution_count": 5,
   "id": "6fd0f746-0df7-4ac4-9c9c-2bf7e3e384ca",
   "metadata": {},
   "outputs": [
    {
     "data": {
      "text/plain": [
       "8"
      ]
     },
     "execution_count": 5,
     "metadata": {},
     "output_type": "execute_result"
    }
   ],
   "source": [
    "sum_result=5 + 3\n",
    "sum_result"
   ]
  },
  {
   "cell_type": "markdown",
   "id": "48e88415-ae76-4cfe-a8c1-799271e40478",
   "metadata": {
    "id": "9fb19f0d"
   },
   "source": [
    "---\n",
    "\n",
    "### Exercise 5:\n",
    "Assign multiple variables in one line: `a = 5`, `b = 10`, `c = 15`.\n",
    "\n",
    "```python\n",
    "# Exercise 5\n",
    "```"
   ]
  },
  {
   "cell_type": "code",
   "execution_count": 6,
   "id": "2fdf9c9b-cb00-40a6-85a8-0d23618a4a2c",
   "metadata": {},
   "outputs": [],
   "source": [
    "a,b,c=5,10,15"
   ]
  },
  {
   "cell_type": "markdown",
   "id": "8c6ac75f-752d-486e-a6f2-74977a33f14c",
   "metadata": {
    "id": "9fb19f0d"
   },
   "source": [
    "---\n",
    "\n",
    "### Exercise 6:\n",
    "Assign the value of one variable `x` to another variable `y`.\n",
    "\n",
    "```python\n",
    "# Exercise 6\n",
    "```"
   ]
  },
  {
   "cell_type": "code",
   "execution_count": 7,
   "id": "140c3a05-0bfa-4738-8dbd-c2a6f157219c",
   "metadata": {},
   "outputs": [],
   "source": [
    "x=y=2"
   ]
  },
  {
   "cell_type": "markdown",
   "id": "a395cbbb-77c5-4c48-9e77-d7d777dce603",
   "metadata": {
    "id": "9fb19f0d"
   },
   "source": [
    "---\n",
    "\n",
    "### Exercise 7:\n",
    "Assign a floating-point number `9.8` to a variable `gravity`.\n",
    "\n",
    "```python\n",
    "# Exercise 7\n",
    "```"
   ]
  },
  {
   "cell_type": "code",
   "execution_count": 8,
   "id": "b88a9b48-11b8-4c2f-917d-4d84bc0d72b4",
   "metadata": {},
   "outputs": [
    {
     "data": {
      "text/plain": [
       "9.8"
      ]
     },
     "execution_count": 8,
     "metadata": {},
     "output_type": "execute_result"
    }
   ],
   "source": [
    "gravity=9.8\n",
    "gravity"
   ]
  },
  {
   "cell_type": "markdown",
   "id": "1095cdcb-c9b7-45e0-9f4d-720303f4ad30",
   "metadata": {
    "id": "9fb19f0d"
   },
   "source": [
    "---\n",
    "\n",
    "### Exercise 8:\n",
    "Create a variable `country` and assign it the string value of your favorite country.\n",
    "\n",
    "```python\n",
    "# Exercise 8\n",
    "```"
   ]
  },
  {
   "cell_type": "code",
   "execution_count": 9,
   "id": "a2703064-4796-4adb-95e5-6ac18c25b620",
   "metadata": {},
   "outputs": [
    {
     "data": {
      "text/plain": [
       "'Kenya'"
      ]
     },
     "execution_count": 9,
     "metadata": {},
     "output_type": "execute_result"
    }
   ],
   "source": [
    "country=\"Kenya\"\n",
    "country"
   ]
  },
  {
   "cell_type": "markdown",
   "id": "8ca7c68c-a846-42c8-88ec-275796460570",
   "metadata": {
    "id": "9fb19f0d"
   },
   "source": [
    "---\n",
    "\n",
    "### Exercise 9:\n",
    "Change the value of variable `age` from `25` to `26` in two separate steps.\n",
    "\n",
    "```python\n",
    "# Exercise 9\n",
    "```"
   ]
  },
  {
   "cell_type": "code",
   "execution_count": 21,
   "id": "7c13b479-f97f-4e10-b584-25cf04a3de94",
   "metadata": {},
   "outputs": [
    {
     "name": "stdout",
     "output_type": "stream",
     "text": [
      "26\n"
     ]
    }
   ],
   "source": [
    "age = 25      \n",
    "age = 26      \n",
    "print(age)"
   ]
  },
  {
   "cell_type": "markdown",
   "id": "0f49946d-91c6-41f5-a5f2-0b8f4f5344ca",
   "metadata": {
    "id": "9fb19f0d"
   },
   "source": [
    "---\n",
    "\n",
    "### Exercise 10:\n",
    "Use one variable to store the result of subtracting two numbers `20 - 7`.\n",
    "\n",
    "```python\n",
    "# Exercise 10\n",
    "```"
   ]
  },
  {
   "cell_type": "code",
   "execution_count": 11,
   "id": "c4ef5049-3d59-4487-985f-2ac428da4ba0",
   "metadata": {},
   "outputs": [
    {
     "data": {
      "text/plain": [
       "13"
      ]
     },
     "execution_count": 11,
     "metadata": {},
     "output_type": "execute_result"
    }
   ],
   "source": [
    "a=20-7\n",
    "a"
   ]
  },
  {
   "cell_type": "markdown",
   "id": "622e0273-2b8a-4939-a693-947d79f88a8f",
   "metadata": {
    "id": "9fb19f0d"
   },
   "source": [
    "---\n",
    "\n",
    "### Exercise 11:\n",
    "Assign an integer value and a floating-point value to two different variables.\n",
    "\n",
    "```python\n",
    "# Exercise 11\n",
    "`"
   ]
  },
  {
   "cell_type": "code",
   "execution_count": 12,
   "id": "5aa0fcaa-afd4-412b-ade4-89daccc0bf8f",
   "metadata": {},
   "outputs": [],
   "source": [
    "a=2\n",
    "b=4.3"
   ]
  },
  {
   "cell_type": "markdown",
   "id": "478903c9-ca03-4915-a8ba-99612f3a00bf",
   "metadata": {
    "id": "9fb19f0d"
   },
   "source": [
    "``\n",
    "\n",
    "---\n",
    "\n",
    "### Exercise 12:\n",
    "Assign a boolean value `False` to a variable `is_completed`.\n",
    "\n",
    "```python\n",
    "# Exercise 12\n",
    "```"
   ]
  },
  {
   "cell_type": "code",
   "execution_count": 13,
   "id": "68d9d2e1-a76e-4fbf-8a02-39a32064ddfc",
   "metadata": {},
   "outputs": [
    {
     "data": {
      "text/plain": [
       "False"
      ]
     },
     "execution_count": 13,
     "metadata": {},
     "output_type": "execute_result"
    }
   ],
   "source": [
    "is_completed=False\n",
    "is_completed"
   ]
  },
  {
   "cell_type": "markdown",
   "id": "36358213-e0a6-4ab6-bd9c-0d34ee1eb0d0",
   "metadata": {
    "id": "9fb19f0d"
   },
   "source": [
    "---\n",
    "\n",
    "### Exercise 13:\n",
    "Swap the values of two variables `x` and `y`.\n",
    "\n",
    "```python\n",
    "# Exercise 13\n",
    "```"
   ]
  },
  {
   "cell_type": "code",
   "execution_count": 20,
   "id": "210a7ed3-5526-429e-80fc-cbd9f328c1f6",
   "metadata": {},
   "outputs": [
    {
     "name": "stdout",
     "output_type": "stream",
     "text": [
      "x = 10\n",
      "y = 5\n"
     ]
    }
   ],
   "source": [
    "x = 5\n",
    "y = 10\n",
    "\n",
    "\n",
    "x, y = y, x\n",
    "\n",
    "print(\"x =\", x)\n",
    "print(\"y =\", y)"
   ]
  },
  {
   "cell_type": "markdown",
   "id": "15536a9a-f28e-4aa7-90ce-0d50fcbb71af",
   "metadata": {
    "id": "9fb19f0d"
   },
   "source": [
    "---\n",
    "\n",
    "### Exercise 14:\n",
    "Assign a complex number `3 + 4j` to a variable `complex_num`.\n",
    "\n",
    "```python\n",
    "# Exercise 14\n",
    "```"
   ]
  },
  {
   "cell_type": "code",
   "execution_count": 15,
   "id": "d93b1b8b-317c-44e3-858a-34cc8037ac0d",
   "metadata": {},
   "outputs": [
    {
     "data": {
      "text/plain": [
       "(3+4j)"
      ]
     },
     "execution_count": 15,
     "metadata": {},
     "output_type": "execute_result"
    }
   ],
   "source": [
    "complex_num=3 + 4j\n",
    "complex_num"
   ]
  },
  {
   "cell_type": "markdown",
   "id": "3b644168-8dcd-4814-aec9-92bb3e391d1d",
   "metadata": {
    "id": "9fb19f0d"
   },
   "source": [
    "---\n",
    "\n",
    "### Exercise 15:\n",
    "Reassign a variable from an integer to a string.\n",
    "\n",
    "```python\n",
    "# Exercise 15\n",
    "```"
   ]
  },
  {
   "cell_type": "code",
   "execution_count": 19,
   "id": "52ba02b2-a252-4b2b-af03-8acbc2f225cb",
   "metadata": {},
   "outputs": [
    {
     "name": "stdout",
     "output_type": "stream",
     "text": [
      "10\n",
      "Hello\n"
     ]
    }
   ],
   "source": [
    "x = 10        \n",
    "print(x)    \n",
    "\n",
    "x = \"Hello\"   \n",
    "print(x)\n"
   ]
  },
  {
   "cell_type": "markdown",
   "id": "25d0b849-ad59-4362-84ba-ff0a352dc3cc",
   "metadata": {
    "id": "9fb19f0d"
   },
   "source": [
    "---\n",
    "\n",
    "### Exercise 16:\n",
    "Create two variables `first_name` and `last_name`, and assign them your first and last names.\n",
    "\n",
    "```python\n",
    "# Exercise 16\n",
    "```"
   ]
  },
  {
   "cell_type": "code",
   "execution_count": 22,
   "id": "9d4831ba-83ff-4e36-9cd1-e33c6af0f641",
   "metadata": {},
   "outputs": [],
   "source": [
    "first_name=\"Lenick\"\n",
    "last_name=\"Nyabuto\""
   ]
  },
  {
   "cell_type": "markdown",
   "id": "483c6854-7da8-472e-a498-e7a3029e3131",
   "metadata": {
    "id": "9fb19f0d"
   },
   "source": [
    "---\n",
    "\n",
    "### Exercise 17:\n",
    "Create a variable `temperature` and assign it the value of `35.5`.\n",
    "\n",
    "```python\n",
    "# Exercise 17\n",
    "```"
   ]
  },
  {
   "cell_type": "code",
   "execution_count": 23,
   "id": "b8e861d9-778a-44ed-9b57-6e57f99803f6",
   "metadata": {},
   "outputs": [],
   "source": [
    "temperature=35.5"
   ]
  },
  {
   "cell_type": "markdown",
   "id": "38371028-de5b-4112-a406-dec6f50ea555",
   "metadata": {
    "id": "9fb19f0d"
   },
   "source": [
    "---\n",
    "\n",
    "### Exercise 18:\n",
    "Assign the result of the multiplication of two numbers `8 * 6` to a variable `product`.\n",
    "\n",
    "```python\n",
    "# Exercise 18\n",
    "```"
   ]
  },
  {
   "cell_type": "code",
   "execution_count": 24,
   "id": "29e2b715-9597-4d01-94c8-83ccc7c1ff6f",
   "metadata": {},
   "outputs": [
    {
     "data": {
      "text/plain": [
       "48"
      ]
     },
     "execution_count": 24,
     "metadata": {},
     "output_type": "execute_result"
    }
   ],
   "source": [
    "product=8 * 6\n",
    "product"
   ]
  },
  {
   "cell_type": "markdown",
   "id": "795e1133-5ff4-40a3-a10c-78f4d889e74f",
   "metadata": {
    "id": "9fb19f0d"
   },
   "source": [
    "---\n",
    "\n",
    "### Exercise 19:\n",
    "Assign a sentence of your choice to a variable `sentence`.\n",
    "\n",
    "```python\n",
    "# Exercise 19\n",
    "```"
   ]
  },
  {
   "cell_type": "code",
   "execution_count": 25,
   "id": "f9a45820-a424-4784-9c23-6ded6fa00907",
   "metadata": {},
   "outputs": [
    {
     "data": {
      "text/plain": [
       "'I am in Senegal'"
      ]
     },
     "execution_count": 25,
     "metadata": {},
     "output_type": "execute_result"
    }
   ],
   "source": [
    "sentence=\"I am in Senegal\"\n",
    "sentence"
   ]
  },
  {
   "cell_type": "markdown",
   "id": "e245eab4-58cd-4952-8d0f-8674c9cba782",
   "metadata": {
    "id": "9fb19f0d"
   },
   "source": [
    "---\n",
    "\n",
    "### Exercise 20:\n",
    "Use an assignment to convert a string `'50'` into an integer variable `int_value`.\n",
    "\n",
    "```python\n",
    "# Exercise 20\n",
    "```"
   ]
  },
  {
   "cell_type": "code",
   "execution_count": 26,
   "id": "9befab2f-a092-4087-810b-82c350467cb7",
   "metadata": {},
   "outputs": [
    {
     "name": "stdout",
     "output_type": "stream",
     "text": [
      "50\n"
     ]
    }
   ],
   "source": [
    "int_value = int('50')\n",
    "print(int_value)"
   ]
  },
  {
   "cell_type": "markdown",
   "id": "63f78ae8-f82c-459b-b9c4-15160c33a2d8",
   "metadata": {
    "id": "9fb19f0d"
   },
   "source": [
    "---\n",
    "\n",
    "### Exercise 21:\n",
    "Assign the result of dividing `144` by `12` to a variable `quotient`.\n",
    "\n",
    "```python\n",
    "# Exercise 21\n",
    "```"
   ]
  },
  {
   "cell_type": "code",
   "execution_count": 27,
   "id": "e0cdef44-e7ac-4387-b014-8482f0f66292",
   "metadata": {},
   "outputs": [
    {
     "data": {
      "text/plain": [
       "12.0"
      ]
     },
     "execution_count": 27,
     "metadata": {},
     "output_type": "execute_result"
    }
   ],
   "source": [
    "quotient=144/12\n",
    "quotient"
   ]
  },
  {
   "cell_type": "markdown",
   "id": "4edfeaa4-977d-40b2-9b05-10015f364ab9",
   "metadata": {
    "id": "9fb19f0d"
   },
   "source": [
    "---\n",
    "\n",
    "### Exercise 22:\n",
    "Assign the remainder of `47 divided by 5` to a variable `remainder`.\n",
    "\n",
    "```python\n",
    "# Exercise 22\n",
    "```"
   ]
  },
  {
   "cell_type": "code",
   "execution_count": 28,
   "id": "2959f2df-4328-4330-84d6-2cb68540de61",
   "metadata": {},
   "outputs": [
    {
     "data": {
      "text/plain": [
       "2"
      ]
     },
     "execution_count": 28,
     "metadata": {},
     "output_type": "execute_result"
    }
   ],
   "source": [
    "remainder=47%5\n",
    "remainder"
   ]
  },
  {
   "cell_type": "markdown",
   "id": "b912ab4d-bf94-4cad-b360-f9fc1d05a90b",
   "metadata": {
    "id": "9fb19f0d"
   },
   "source": [
    "---\n",
    "\n",
    "### Exercise 23:\n",
    "Create a variable `is_student` and assign it the value `True`.\n",
    "\n",
    "```python\n",
    "# Exercise 23\n",
    "```"
   ]
  },
  {
   "cell_type": "code",
   "execution_count": 29,
   "id": "c76ac80e-ea6f-41e8-9dd6-36254966861b",
   "metadata": {},
   "outputs": [
    {
     "data": {
      "text/plain": [
       "True"
      ]
     },
     "execution_count": 29,
     "metadata": {},
     "output_type": "execute_result"
    }
   ],
   "source": [
    "is_student=True\n",
    "is_student"
   ]
  },
  {
   "cell_type": "markdown",
   "id": "30587aaf-9180-44bf-b7b7-0b202443fa02",
   "metadata": {
    "id": "9fb19f0d"
   },
   "source": [
    "---\n",
    "\n",
    "### Exercise 24:\n",
    "Use a variable to store the result of a modulo operation: `45 % 4`.\n",
    "\n",
    "```python\n",
    "# Exercise 24\n",
    "```"
   ]
  },
  {
   "cell_type": "code",
   "execution_count": 30,
   "id": "7da7d363-47df-4043-b0ee-e08bb2096241",
   "metadata": {},
   "outputs": [
    {
     "data": {
      "text/plain": [
       "1"
      ]
     },
     "execution_count": 30,
     "metadata": {},
     "output_type": "execute_result"
    }
   ],
   "source": [
    "a=45%4\n",
    "a"
   ]
  },
  {
   "cell_type": "markdown",
   "id": "1a27ff7f-bb09-4b87-a17f-245dc9755f86",
   "metadata": {
    "id": "9fb19f0d"
   },
   "source": [
    "---\n",
    "\n",
    "### Exercise 25:\n",
    "Create a variable `pi` and assign it the value `3.14159`.\n",
    "\n",
    "```python\n",
    "# Exercise 25\n",
    "```"
   ]
  },
  {
   "cell_type": "code",
   "execution_count": 31,
   "id": "910850c1-643c-481e-976f-f0a16b9983f9",
   "metadata": {},
   "outputs": [
    {
     "data": {
      "text/plain": [
       "3.14159"
      ]
     },
     "execution_count": 31,
     "metadata": {},
     "output_type": "execute_result"
    }
   ],
   "source": [
    "pi=3.14159\n",
    "pi"
   ]
  },
  {
   "cell_type": "markdown",
   "id": "bef4357d-092e-43be-9c36-05407ce54527",
   "metadata": {
    "id": "9fb19f0d"
   },
   "source": [
    "---\n",
    "\n",
    "### Exercise 26:\n",
    "Create two variables `length` and `width`, assign them values, and calculate the area of a rectangle.\n",
    "\n",
    "```python\n",
    "# Exercise 26\n",
    "```"
   ]
  },
  {
   "cell_type": "code",
   "execution_count": 33,
   "id": "dc6a5c47-bebb-477d-a32b-967b8d65b02b",
   "metadata": {},
   "outputs": [
    {
     "data": {
      "text/plain": [
       "42"
      ]
     },
     "execution_count": 33,
     "metadata": {},
     "output_type": "execute_result"
    }
   ],
   "source": [
    "length=6\n",
    "width=7\n",
    "area=length*width\n",
    "area"
   ]
  },
  {
   "cell_type": "markdown",
   "id": "60eb3c67-ff30-4bf5-bdd2-77b8e888a8bb",
   "metadata": {
    "id": "9fb19f0d"
   },
   "source": [
    "---\n",
    "\n",
    "### Exercise 27:\n",
    "Assign a negative number to a variable `negative_value`.\n",
    "\n",
    "```python\n",
    "# Exercise 27\n",
    "```"
   ]
  },
  {
   "cell_type": "code",
   "execution_count": 34,
   "id": "14f62f6d-2827-48df-be2e-789252ae51da",
   "metadata": {},
   "outputs": [
    {
     "data": {
      "text/plain": [
       "-8"
      ]
     },
     "execution_count": 34,
     "metadata": {},
     "output_type": "execute_result"
    }
   ],
   "source": [
    "negative_value=-8\n",
    "negative_value"
   ]
  },
  {
   "cell_type": "markdown",
   "id": "ba25f1d9-ae9c-4a9b-a30f-6f78216cd48d",
   "metadata": {
    "id": "9fb19f0d"
   },
   "source": [
    "---\n",
    "\n",
    "### Exercise 28:\n",
    "Assign a string containing a special character (e.g., \"Hello, World!\") to a variable `greeting`.\n",
    "\n",
    "```python\n",
    "# Exercise 28\n",
    "```"
   ]
  },
  {
   "cell_type": "code",
   "execution_count": 35,
   "id": "a40ef10c-b830-4b89-8645-54acc04c1042",
   "metadata": {},
   "outputs": [
    {
     "data": {
      "text/plain": [
       "'Hello, World!'"
      ]
     },
     "execution_count": 35,
     "metadata": {},
     "output_type": "execute_result"
    }
   ],
   "source": [
    "greeting= \"Hello, World!\"\n",
    "greeting"
   ]
  },
  {
   "cell_type": "markdown",
   "id": "561d65d8-44fa-4341-ac16-2700f005038c",
   "metadata": {
    "id": "9fb19f0d"
   },
   "source": [
    "---\n",
    "\n",
    "### Exercise 29:\n",
    "Create a variable `population` and assign it a large integer value (in billions).\n",
    "\n",
    "```python\n",
    "# Exercise 29\n",
    "```"
   ]
  },
  {
   "cell_type": "code",
   "execution_count": 36,
   "id": "bdaf426f-486f-4b14-bc0b-01d3f76f8427",
   "metadata": {},
   "outputs": [
    {
     "data": {
      "text/plain": [
       "12000000000"
      ]
     },
     "execution_count": 36,
     "metadata": {},
     "output_type": "execute_result"
    }
   ],
   "source": [
    "population=12000000000\n",
    "population"
   ]
  },
  {
   "cell_type": "markdown",
   "id": "8876f7e9-d488-4e4e-9d65-d28b8e7c1241",
   "metadata": {
    "id": "9fb19f0d"
   },
   "source": [
    "---\n",
    "\n",
    "### Exercise 30:\n",
    "Use a variable to store the result of raising `2` to the power of `8`.\n",
    "\n",
    "```python\n",
    "# Exercise 30\n",
    "```"
   ]
  },
  {
   "cell_type": "code",
   "execution_count": 37,
   "id": "346261e4-8650-47d9-8561-481ba1e08635",
   "metadata": {},
   "outputs": [
    {
     "data": {
      "text/plain": [
       "256"
      ]
     },
     "execution_count": 37,
     "metadata": {},
     "output_type": "execute_result"
    }
   ],
   "source": [
    "a=2**8\n",
    "a"
   ]
  },
  {
   "cell_type": "markdown",
   "id": "68177e2f-867a-4236-9dd4-762bbabc1e0d",
   "metadata": {
    "id": "9fb19f0d"
   },
   "source": [
    "---\n",
    "\n",
    "### Exercise 31:\n",
    "Assign a list of your favorite fruits to a variable `fruits`.\n",
    "\n",
    "```python\n",
    "# Exercise 31\n",
    "```"
   ]
  },
  {
   "cell_type": "code",
   "execution_count": 38,
   "id": "e477a643-714b-48d5-9ff1-76e9cd01e169",
   "metadata": {},
   "outputs": [
    {
     "data": {
      "text/plain": [
       "('apples', 'orange', 'mango')"
      ]
     },
     "execution_count": 38,
     "metadata": {},
     "output_type": "execute_result"
    }
   ],
   "source": [
    "fruits='apples','orange','mango'\n",
    "fruits"
   ]
  },
  {
   "cell_type": "markdown",
   "id": "404e9f0e-8d29-419e-9330-5abca06a1d7b",
   "metadata": {
    "id": "9fb19f0d"
   },
   "source": [
    "---\n",
    "\n",
    "### Exercise 32:\n",
    "Assign a tuple of three numbers to a variable `coordinates`.\n",
    "\n",
    "```python\n",
    "# Exercise 32\n",
    "```"
   ]
  },
  {
   "cell_type": "code",
   "execution_count": 39,
   "id": "5ef816ef-87e5-4cea-8ec2-c53329eb447b",
   "metadata": {},
   "outputs": [
    {
     "name": "stdout",
     "output_type": "stream",
     "text": [
      "(10, 20, 30)\n"
     ]
    }
   ],
   "source": [
    "coordinates = (10, 20, 30)\n",
    "print(coordinates)"
   ]
  },
  {
   "cell_type": "markdown",
   "id": "8cf7918d-5d5f-46ef-8fe9-260bed3ecb3d",
   "metadata": {
    "id": "9fb19f0d"
   },
   "source": [
    "---\n",
    "\n",
    "### Exercise 33:\n",
    "Assign a dictionary with keys `name` and `age` to a variable `person`.\n",
    "\n",
    "```python\n",
    "# Exercise 33\n",
    "```"
   ]
  },
  {
   "cell_type": "code",
   "execution_count": 40,
   "id": "e0cacfe8-6199-455b-b7bf-c6fe4ab3a395",
   "metadata": {},
   "outputs": [
    {
     "name": "stdout",
     "output_type": "stream",
     "text": [
      "{'name': 'Lenick', 'age': 25}\n"
     ]
    }
   ],
   "source": [
    "person = { \"name\": \"Lenick\", \"age\": 25}\n",
    "\n",
    "print(person)"
   ]
  },
  {
   "cell_type": "markdown",
   "id": "534b08da-0831-40ce-9f27-0f7093a7ae88",
   "metadata": {
    "id": "9fb19f0d"
   },
   "source": [
    "---\n",
    "\n",
    "### Exercise 34:\n",
    "Use variables to store the sum of two floating-point numbers.\n",
    "\n",
    "```python\n",
    "# Exercise 34\n",
    "```"
   ]
  },
  {
   "cell_type": "code",
   "execution_count": 41,
   "id": "4ab864f0-196f-4b95-aad5-99156702285b",
   "metadata": {},
   "outputs": [
    {
     "name": "stdout",
     "output_type": "stream",
     "text": [
      "9.0\n"
     ]
    }
   ],
   "source": [
    "num1 = 5.7\n",
    "num2 = 3.3\n",
    "sum_result = num1 + num2\n",
    "\n",
    "print(sum_result)"
   ]
  },
  {
   "cell_type": "markdown",
   "id": "b1694e1f-ef48-42f3-89de-0b03a2e9dadd",
   "metadata": {
    "id": "9fb19f0d"
   },
   "source": [
    "---\n",
    "\n",
    "### Exercise 35:\n",
    "Create a variable `is_sunny` and assign it the result of a comparison `10 > 5`.\n",
    "\n",
    "```python\n",
    "# Exercise 35\n",
    "```"
   ]
  },
  {
   "cell_type": "code",
   "execution_count": 42,
   "id": "383c0312-0fab-4196-ad17-8d3a2820f178",
   "metadata": {},
   "outputs": [
    {
     "data": {
      "text/plain": [
       "True"
      ]
     },
     "execution_count": 42,
     "metadata": {},
     "output_type": "execute_result"
    }
   ],
   "source": [
    "is_sunny=10 > 5\n",
    "is_sunny"
   ]
  },
  {
   "cell_type": "markdown",
   "id": "1dae5edb-02c4-4e2d-82cd-5c3f686ab12f",
   "metadata": {
    "id": "9fb19f0d"
   },
   "source": [
    "---\n",
    "\n",
    "### Exercise 36:\n",
    "Assign a string and an integer to two different variables, then print both on one line.\n",
    "\n",
    "```python\n",
    "# Exercise 36\n",
    "```"
   ]
  },
  {
   "cell_type": "code",
   "execution_count": 43,
   "id": "6772c7dc-d276-4c93-baca-1b8b973e4ccf",
   "metadata": {},
   "outputs": [
    {
     "name": "stdout",
     "output_type": "stream",
     "text": [
      "Lenick 25\n"
     ]
    }
   ],
   "source": [
    "name = \"Lenick\"\n",
    "age = 25\n",
    "\n",
    "print(name, age)"
   ]
  },
  {
   "cell_type": "markdown",
   "id": "53cf8156-6b4d-4b7b-a6d1-0dccf79b9f28",
   "metadata": {
    "id": "9fb19f0d"
   },
   "source": [
    "---\n",
    "\n",
    "### Exercise 37:\n",
    "Reassign a variable that originally held a number to a boolean value.\n",
    "\n",
    "```python\n",
    "# Exercise 37\n",
    "```"
   ]
  },
  {
   "cell_type": "code",
   "execution_count": 44,
   "id": "446417c9-5a82-40f1-a834-04d0d07fdda6",
   "metadata": {},
   "outputs": [
    {
     "name": "stdout",
     "output_type": "stream",
     "text": [
      "True\n"
     ]
    }
   ],
   "source": [
    "x = 10        \n",
    "x = True      \n",
    "print(x)"
   ]
  },
  {
   "cell_type": "markdown",
   "id": "8f47c4a0-f52b-4a78-90b9-55465099ef3b",
   "metadata": {
    "id": "9fb19f0d"
   },
   "source": [
    "---\n",
    "\n",
    "### Exercise 38:\n",
    "Create a variable `is_weekend` and assign it the result of `False`.\n",
    "\n",
    "```python\n",
    "# Exercise 38\n",
    "```"
   ]
  },
  {
   "cell_type": "code",
   "execution_count": 45,
   "id": "3d03714d-f330-4a62-9d40-b9a577601f1b",
   "metadata": {},
   "outputs": [
    {
     "data": {
      "text/plain": [
       "False"
      ]
     },
     "execution_count": 45,
     "metadata": {},
     "output_type": "execute_result"
    }
   ],
   "source": [
    "is_weekend=False\n",
    "is_weekend"
   ]
  },
  {
   "cell_type": "markdown",
   "id": "d32baf36-1884-4523-b449-377b8ce93673",
   "metadata": {
    "id": "9fb19f0d"
   },
   "source": [
    "---\n",
    "\n",
    "### Exercise 39:\n",
    "Assign a multi-line string to a variable `description`.\n",
    "\n",
    "```python\n",
    "# Exercise 39\n",
    "```"
   ]
  },
  {
   "cell_type": "code",
   "execution_count": 46,
   "id": "468dd3ec-9a21-4a2e-9a53-425f2e602693",
   "metadata": {},
   "outputs": [
    {
     "name": "stdout",
     "output_type": "stream",
     "text": [
      "This is a multi-line string.\n",
      "It can span several lines.\n",
      "Each line is part of the same string.\n"
     ]
    }
   ],
   "source": [
    "description = \"\"\"This is a multi-line string.\n",
    "It can span several lines.\n",
    "Each line is part of the same string.\"\"\"\n",
    "print(description)"
   ]
  },
  {
   "cell_type": "markdown",
   "id": "0362828a-39ba-4f38-9c8e-b7ef0608f126",
   "metadata": {
    "id": "9fb19f0d"
   },
   "source": [
    "---\n",
    "\n",
    "### Exercise 40:\n",
    "Use variables to store the result of the absolute value of `-25`.\n",
    "\n",
    "```python\n",
    "# Exercise 40\n",
    "```"
   ]
  },
  {
   "cell_type": "code",
   "execution_count": 47,
   "id": "4aa49e88-e14c-4dc7-b929-d4f8e12c2afa",
   "metadata": {},
   "outputs": [
    {
     "name": "stdout",
     "output_type": "stream",
     "text": [
      "25\n"
     ]
    }
   ],
   "source": [
    "number = -25\n",
    "absolute_value = abs(number)\n",
    "\n",
    "print(absolute_value)"
   ]
  },
  {
   "cell_type": "markdown",
   "id": "a1967025-4fae-46bd-8c5c-65ba9ca09637",
   "metadata": {
    "id": "9fb19f0d"
   },
   "source": [
    "---\n",
    "\n",
    "### Exercise 41:\n",
    "Assign the result of a floor division `100 // 6` to a variable `floor_div_result`.\n",
    "\n",
    "```python\n",
    "# Exercise 41\n",
    "```"
   ]
  },
  {
   "cell_type": "code",
   "execution_count": 48,
   "id": "c2bba77a-915b-4ca2-9adf-d12124743689",
   "metadata": {},
   "outputs": [
    {
     "data": {
      "text/plain": [
       "16"
      ]
     },
     "execution_count": 48,
     "metadata": {},
     "output_type": "execute_result"
    }
   ],
   "source": [
    "floor_div_result=100 // 6\n",
    "floor_div_result"
   ]
  },
  {
   "cell_type": "markdown",
   "id": "83df4d85-bdf5-4ba3-8e6e-c71418bda5e3",
   "metadata": {
    "id": "9fb19f0d"
   },
   "source": [
    "---\n",
    "\n",
    "### Exercise 42:\n",
    "Assign the result of adding a floating-point number to an integer to a variable `mixed_sum`.\n",
    "\n",
    "```python\n",
    "# Exercise 42\n",
    "```"
   ]
  },
  {
   "cell_type": "code",
   "execution_count": 50,
   "id": "759bf150-27b9-4b83-bede-bd89c2ab36ef",
   "metadata": {},
   "outputs": [
    {
     "name": "stdout",
     "output_type": "stream",
     "text": [
      "7.5\n"
     ]
    }
   ],
   "source": [
    "num1 = 4.5      \n",
    "num2 = 3        \n",
    "mixed_sum = num1 + num2\n",
    "\n",
    "print(mixed_sum)"
   ]
  },
  {
   "cell_type": "markdown",
   "id": "7ba37a36-5265-4d05-8c57-c1546513d01f",
   "metadata": {
    "id": "9fb19f0d"
   },
   "source": [
    "---\n",
    "\n",
    "\n",
    "### Exercise 43:\n",
    "Assign a boolean value based on the comparison of two variables `a = 10` and `b = 15`.\n",
    "\n",
    "```python\n",
    "# Exercise 43\n",
    "```"
   ]
  },
  {
   "cell_type": "code",
   "execution_count": 51,
   "id": "d326dc51-03da-44bc-9cc5-719fb5a9e7c9",
   "metadata": {},
   "outputs": [
    {
     "name": "stdout",
     "output_type": "stream",
     "text": [
      "False\n"
     ]
    }
   ],
   "source": [
    "a = 10\n",
    "b = 15\n",
    "\n",
    "is_greater = a > b\n",
    "print(is_greater)"
   ]
  },
  {
   "cell_type": "markdown",
   "id": "31e584bd-45ca-4a93-b857-cf77dfe9216d",
   "metadata": {
    "id": "9fb19f0d"
   },
   "source": [
    "---\n",
    "\n",
    "### Exercise 44:\n",
    "Assign a long sentence to a variable and count its characters using `len()`.\n",
    "\n",
    "```python\n",
    "# Exercise 44\n",
    "```"
   ]
  },
  {
   "cell_type": "code",
   "execution_count": 52,
   "id": "fd60f6f9-c514-4d1e-a091-21994c59a190",
   "metadata": {},
   "outputs": [
    {
     "name": "stdout",
     "output_type": "stream",
     "text": [
      "54\n"
     ]
    }
   ],
   "source": [
    "sentence = \"Python programming is both powerful and easy to learn.\"\n",
    "char_count = len(sentence)\n",
    "\n",
    "print(char_count)"
   ]
  },
  {
   "cell_type": "markdown",
   "id": "e2dc5109-f8a8-4dbf-a562-081a2e422361",
   "metadata": {
    "id": "9fb19f0d"
   },
   "source": [
    "---\n",
    "\n",
    "### Exercise 45:\n",
    "Assign a fractional result `7 / 3` to a variable `division_result`.\n",
    "\n",
    "```python\n",
    "# Exercise 45\n",
    "```"
   ]
  },
  {
   "cell_type": "code",
   "execution_count": 53,
   "id": "5eb59d9f-485b-4e75-a67c-e863918f8b03",
   "metadata": {},
   "outputs": [
    {
     "data": {
      "text/plain": [
       "2.3333333333333335"
      ]
     },
     "execution_count": 53,
     "metadata": {},
     "output_type": "execute_result"
    }
   ],
   "source": [
    "division_result=7/3\n",
    "division_result"
   ]
  },
  {
   "cell_type": "markdown",
   "id": "48acb846-a97e-4079-8ae2-b33f8f172e66",
   "metadata": {
    "id": "9fb19f0d"
   },
   "source": [
    "---\n",
    "\n",
    "### Exercise 46:\n",
    "Create a variable `speed` and assign it the value of 100 kilometers per hour.\n",
    "\n",
    "```python\n",
    "# Exercise 46\n",
    "```"
   ]
  },
  {
   "cell_type": "code",
   "execution_count": 54,
   "id": "24f9d884-a7cb-4529-bb46-5deb6086727b",
   "metadata": {},
   "outputs": [
    {
     "name": "stdout",
     "output_type": "stream",
     "text": [
      "100\n"
     ]
    }
   ],
   "source": [
    "speed = 100  # in kilometers per hour\n",
    "print(speed)"
   ]
  },
  {
   "cell_type": "markdown",
   "id": "825800d9-5b03-4275-bdc5-989716f3603f",
   "metadata": {
    "id": "9fb19f0d"
   },
   "source": [
    "---\n",
    "\n",
    "### Exercise 47:\n",
    "Assign a multi-variable equation like `y = 3x + 5` where `x = 4` to a variable `y`.\n",
    "\n",
    "```python\n",
    "# Exercise 47\n",
    "```"
   ]
  },
  {
   "cell_type": "code",
   "execution_count": 56,
   "id": "a791a2fb-e1a0-4db5-999b-a33510938ae8",
   "metadata": {},
   "outputs": [
    {
     "data": {
      "text/plain": [
       "17"
      ]
     },
     "execution_count": 56,
     "metadata": {},
     "output_type": "execute_result"
    }
   ],
   "source": [
    "x = 4\n",
    "y = 3 * x + 5\n",
    "y"
   ]
  },
  {
   "cell_type": "markdown",
   "id": "c296be8f-7252-4d53-a7df-d06eaeb5897e",
   "metadata": {
    "id": "9fb19f0d"
   },
   "source": [
    "---\n",
    "\n",
    "### Exercise 48:\n",
    "Use variables to calculate and store the average of three numbers.\n",
    "\n",
    "```python\n",
    "# Exercise 48\n",
    "```"
   ]
  },
  {
   "cell_type": "code",
   "execution_count": 57,
   "id": "36b45a26-9518-482d-b4aa-637cba6cd936",
   "metadata": {},
   "outputs": [
    {
     "name": "stdout",
     "output_type": "stream",
     "text": [
      "20.0\n"
     ]
    }
   ],
   "source": [
    "num1 = 10\n",
    "num2 = 20\n",
    "num3 = 30\n",
    "\n",
    "average = (num1 + num2 + num3) / 3\n",
    "\n",
    "print(average)"
   ]
  }
 ],
 "metadata": {
  "colab": {
   "provenance": []
  },
  "kernelspec": {
   "display_name": "Python 3 (ipykernel)",
   "language": "python",
   "name": "python3"
  },
  "language_info": {
   "codemirror_mode": {
    "name": "ipython",
    "version": 3
   },
   "file_extension": ".py",
   "mimetype": "text/x-python",
   "name": "python",
   "nbconvert_exporter": "python",
   "pygments_lexer": "ipython3",
   "version": "3.13.5"
  }
 },
 "nbformat": 4,
 "nbformat_minor": 5
}
